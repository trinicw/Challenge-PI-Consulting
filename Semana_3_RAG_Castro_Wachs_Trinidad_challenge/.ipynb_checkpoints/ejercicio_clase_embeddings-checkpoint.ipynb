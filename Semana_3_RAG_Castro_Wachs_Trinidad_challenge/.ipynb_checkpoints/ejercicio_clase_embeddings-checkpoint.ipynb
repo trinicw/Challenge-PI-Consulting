{
 "cells": [
  {
   "cell_type": "markdown",
   "id": "047e87c6-2f24-41fa-a85d-1af792fc59c8",
   "metadata": {},
   "source": [
    "# Embeddings\n",
    "\n",
    "* Conexion al modelo de embeddings\n",
    "* Primeros embeddings\n",
    "* Similaridad\n",
    "* Bases de datos vectorial\n",
    "* Ejercicios de practica"
   ]
  },
  {
   "cell_type": "code",
   "execution_count": null,
   "id": "6582e1f7-3927-4ba6-b7ae-0e0358a7557b",
   "metadata": {},
   "outputs": [],
   "source": []
  },
  {
   "cell_type": "code",
   "execution_count": null,
   "id": "107624a5-6055-4775-9211-fc141ae31861",
   "metadata": {},
   "outputs": [],
   "source": []
  },
  {
   "cell_type": "code",
   "execution_count": null,
   "id": "9aa01e87-db58-4c56-8ffc-8e572969a535",
   "metadata": {},
   "outputs": [],
   "source": []
  },
  {
   "cell_type": "markdown",
   "id": "21993094-309c-4ebb-b3e4-2de1af1a8c68",
   "metadata": {},
   "source": [
    "### Importamos las librerias y cargamos la api key"
   ]
  },
  {
   "cell_type": "code",
   "execution_count": 4,
   "id": "c9116d3d-8639-4c32-9f15-10c6b2ff0da3",
   "metadata": {},
   "outputs": [],
   "source": [
    "import os\n",
    "import json\n",
    "import chromadb\n",
    "import cohere\n",
    "from dotenv import load_dotenv\n",
    "\n",
    "\n",
    "load_dotenv()  # Load .env file\n",
    "\n",
    "api_key = os.getenv(\"COHERE_API_KEY\")\n",
    "#print(api_key)  # Verify the key is loaded"
   ]
  },
  {
   "cell_type": "code",
   "execution_count": null,
   "id": "d5a47983-d431-4da9-abf2-497a38c8ee8d",
   "metadata": {},
   "outputs": [],
   "source": []
  },
  {
   "cell_type": "markdown",
   "id": "1bc19866-b250-42cc-9436-51e42ba7fd24",
   "metadata": {},
   "source": [
    "### Utilizar los modelos"
   ]
  },
  {
   "cell_type": "markdown",
   "id": "4e279606-d5ad-4be3-b563-3adcbe77c22d",
   "metadata": {},
   "source": [
    " Hacemos un recorrido por la documentacion\n",
    "\n",
    " https://docs.cohere.com/docs/the-cohere-platform"
   ]
  },
  {
   "cell_type": "code",
   "execution_count": null,
   "id": "10bb8299-ddbc-4a0a-baa3-c33b990c03df",
   "metadata": {},
   "outputs": [],
   "source": []
  },
  {
   "cell_type": "code",
   "execution_count": 7,
   "id": "e37580aa-1693-4414-adb9-3960c2667bb9",
   "metadata": {},
   "outputs": [],
   "source": [
    "# Establecer la conexion a cohere y hacer su primer consulta con el modelo de embeddings.\n",
    "# Usen la api version v2\n",
    "\n",
    "co = cohere.ClientV2()\n",
    "response = co.embed(\n",
    "    texts=[\"hola\"],\n",
    "    model=\"embed-multilingual-v3.0\",\n",
    "    input_type=\"search_document\",\n",
    "    embedding_types=[\"float\"],\n",
    ")\n",
    "\n",
    "\n",
    "#print(response)\n"
   ]
  },
  {
   "cell_type": "code",
   "execution_count": 8,
   "id": "83cb9e21-1012-47dd-8f87-304807534e51",
   "metadata": {
    "scrolled": true
   },
   "outputs": [
    {
     "name": "stdout",
     "output_type": "stream",
     "text": [
      "[0.00687027, 0.03390503, 0.015007019, 0.0018463135, 0.0010251999, 0.025619507, -0.009239197, -0.042388916, -0.020324707, 0.006248474, 0.020431519, 0.009063721, 0.017730713, 0.023513794, 0.006866455, 0.012313843, 0.022155762, 0.025115967, 0.04525757, -0.004737854, -0.003484726, 0.0054893494, 0.01914978, -0.02798462, -0.014335632, 0.016983032, 0.02961731, -0.009819031, 0.03756714, 0.013320923, -0.012969971, -0.010498047, 0.076049805, 0.05996704, -0.026229858, 0.02960205, -0.024932861, -0.023025513, 0.013191223, 0.045288086, -0.032348633, 0.015625, -0.0022201538, 0.054016113, -0.01210022, -0.021606445, 0.03466797, 0.027282715, 0.0054016113, 0.07495117, -0.006122589, -0.0234375, 0.01953125, 0.03414917, 0.008903503, -0.014183044, 0.023895264, 0.010299683, 0.022338867, 0.019607544, -0.002822876, -0.027160645, -0.04623413, 0.001420021, 0.041931152, 0.039215088, 0.022903442, -0.0028533936, 0.011711121, 0.007537842, -0.0055160522, -0.011138916, 0.037353516, 0.0031776428, -0.02168274, -0.009788513, 0.01991272, 0.030334473, 0.0044021606, 0.018829346, -0.008529663, 0.03967285, 0.035186768, 0.035614014, -0.004627228, 0.024002075, -0.039245605, 0.020553589, -0.0015077591, 0.009399414, 0.0046539307, 0.031280518, 0.01687622, 0.012863159, 0.0043296814, -0.018798828, -0.0006184578, -0.028366089, 0.0070114136, -0.04284668, -0.023452759, -0.021057129, 0.0209198, 0.014503479, 0.0158844, -0.027008057, -0.0005431175, -0.0017242432, -0.06088257, -0.002275467, 0.0041770935, 0.039886475, -0.019332886, -0.013221741, -0.02998352, -0.050689697, 0.019744873, 0.003665924, -0.018112183, -0.044433594, -0.054595947, 0.030288696, 0.006916046, -0.0076828003, -0.033477783, -0.027877808, 0.025146484, 0.018951416, 0.0072135925, -0.015510559, -0.019973755, 0.0046653748, 0.040405273, -0.00013804436, 0.0020980835, 0.0009598732, -0.014732361, -0.061279297, 0.043029785, -0.00374794, 0.0010662079, 0.014335632, 0.01914978, -0.008224487, -0.016235352, -0.00021493435, 0.027526855, 0.02909851, 0.02722168, -0.03668213, -0.0048065186, 0.041229248, 0.025604248, -0.024261475, -0.025161743, 0.028778076, 0.007610321, -0.01676941, -0.009422302, -0.016082764, -0.013412476, -0.021362305, -0.004558563, -0.01612854, 0.003019333, -0.026031494, 0.04397583, 0.0014305115, 0.0118637085, 0.0056266785, 0.04812622, -0.03781128, -0.0003786087, -0.0030155182, -0.047332764, -0.041229248, 0.0033950806, 0.01852417, 0.042999268, -0.024780273, 0.029891968, 0.026687622, -0.024719238, 0.016860962, 0.0703125, 0.050598145, -0.024032593, -0.005130768, -0.015403748, 0.07299805, -0.036224365, -0.05581665, -0.07788086, 0.02482605, -0.020812988, 0.026885986, 0.038024902, -0.048980713, 0.03527832, 0.0748291, 0.010276794, -0.01701355, 0.03164673, 0.027160645, -0.002450943, 0.021240234, 0.054595947, -0.030761719, -0.01360321, 0.0362854, -0.034057617, 0.039764404, -0.012992859, 0.038909912, -0.0039787292, -0.020904541, 0.02116394, -0.013259888, 0.010398865, 0.042999268, 0.07147217, -0.005466461, 0.023590088, 0.02180481, 0.0057754517, -0.048583984, 0.02772522, -0.019714355, -0.0074043274, -0.018493652, -0.0022144318, -0.04550171, 0.0014839172, 0.020812988, 0.015449524, 0.028457642, -0.070739746, -0.033294678, -0.058013916, -0.006389618, 0.045074463, 0.06628418, -0.026519775, 0.005958557, 0.07373047, 0.008880615, 0.0033988953, -0.03125, 0.018112183, -0.019821167, 0.029190063, 0.042144775, -0.025665283, 0.046142578, -0.021850586, -0.01777649, -0.042785645, -0.025039673, 0.0052948, -0.013725281, -0.010231018, -0.025222778, 0.024887085, 0.0076179504, -0.031829834, -0.012702942, -0.0074386597, 0.008369446, 0.034057617, 0.0070724487, -0.0023231506, 0.0056648254, -0.04650879, 0.07952881, 0.04458618, 0.04498291, -0.039367676, 0.02798462, -0.019805908, 0.03451538, 0.0519104, 0.010719299, 0.00044751167, -0.032684326, -0.07525635, 0.04006958, -0.016738892, 0.004989624, -0.023376465, 0.013450623, -0.0076904297, -0.02331543, -0.02609253, 0.031280518, -0.006587982, -0.0033817291, -0.007331848, -0.011947632, -0.017807007, -0.008422852, -0.024154663, 0.036987305, 0.044189453, -0.027252197, 0.022827148, 0.047454834, 0.011795044, 0.0018901825, 0.046905518, 0.038513184, -0.006652832, -0.003686905, -0.007045746, -0.008895874, -0.00573349, -0.00894928, -0.04849243, -0.035369873, 0.0021343231, 0.04171753, 0.006175995, -0.033081055, -0.015419006, -0.022277832, -0.036499023, 0.03930664, -0.0032138824, -0.015655518, 0.005405426, 0.025665283, 0.00033569336, -0.002445221, 0.014556885, -0.018844604, 0.039916992, 0.03164673, 0.04336548, 0.017684937, 0.016296387, -0.00054597855, -0.0052757263, -0.014556885, -0.012878418, 0.015853882, 0.0413208, -0.013160706, 0.0031585693, -0.05368042, -0.07373047, -0.08514404, 0.019607544, 0.024932861, -0.022109985, 0.020065308, 0.03930664, -0.0032291412, 0.0041542053, -0.0002696514, 0.016921997, -0.051757812, 0.043304443, -0.09246826, -0.020721436, -0.014160156, -0.023254395, 0.031982422, 0.027450562, 0.03289795, -0.0113220215, 0.011360168, 0.01977539, 0.015327454, 0.078186035, 0.035064697, -0.041412354, 0.031555176, -0.024932861, -0.029693604, -0.019592285, 0.010665894, 0.014587402, 0.020706177, -0.041656494, 0.04824829, 0.023101807, 0.026290894, 0.010612488, -0.029174805, -0.0236969, -0.024597168, 0.046325684, 0.015823364, 0.0030727386, 0.008308411, 0.03286743, 0.03555298, -0.005554199, 0.0121536255, -0.015991211, -0.010032654, 0.020309448, -0.075927734, -0.010955811, -0.051483154, 0.035064697, -0.020004272, -0.01638794, 0.0289917, 0.00969696, 0.0063209534, -0.008514404, -0.020050049, -0.057250977, 1.8179417e-05, -0.014923096, -0.01033783, -0.04135132, 0.022979736, -0.042877197, -0.015380859, -0.044525146, -0.0158844, -0.007007599, -0.020690918, -0.011276245, 0.006336212, 0.015930176, -0.036376953, 0.05239868, 0.024276733, 0.01651001, 0.015449524, -0.0023670197, -0.028152466, -0.039886475, -0.009010315, -0.067993164, 0.010475159, -0.020996094, 0.034088135, -0.011787415, 0.0062026978, 0.03466797, 0.0034370422, 0.0524292, 0.031036377, -0.010032654, 0.047973633, -0.058807373, -0.0134887695, -0.012054443, -0.01802063, -0.002861023, -0.027420044, 0.008666992, 0.0211792, -0.058166504, 0.07489014, -0.024459839, -0.009033203, -0.084228516, -0.018203735, 0.039489746, -0.06274414, 0.007003784, -0.03591919, -0.0048446655, 0.017578125, 0.018753052, -0.006603241, -0.022094727, 0.046966553, -0.055847168, -0.021316528, 0.022903442, 0.056762695, -0.021835327, -0.001964569, 0.008491516, -0.03137207, -0.021697998, 0.02130127, 0.013839722, -0.029586792, -0.033203125, 0.032226562, 0.039520264, 0.019561768, 0.11505127, -0.037139893, 0.0109939575, 0.022735596, -0.052612305, -0.008743286, 0.0087509155, -0.074035645, 0.023132324, -0.042755127, -0.032714844, -0.013191223, 0.045837402, 0.0116119385, 0.0047454834, 0.010818481, -0.0063095093, 0.01828003, 0.013702393, -0.011627197, 0.022079468, 0.046875, -0.048675537, -0.00843811, -0.0340271, 0.028198242, 0.013130188, -0.061065674, 0.020935059, 0.04763794, 0.032684326, -0.061553955, 0.017700195, 0.015182495, -0.003458023, 0.0124435425, -0.007926941, -0.0042533875, -0.03237915, 0.024139404, -0.09063721, 0.017318726, -0.018051147, -0.0037326813, -0.02961731, -0.010025024, -0.050323486, -0.12042236, 0.037475586, 0.007129669, 0.023086548, 0.09112549, 0.09039307, 0.009651184, 0.06829834, 0.06652832, 0.020248413, -0.03262329, -0.008659363, -0.036376953, -0.012939453, 0.05630493, -0.025741577, -0.0031280518, -0.018493652, -0.018081665, -0.0013151169, -0.009681702, -0.041748047, -0.008346558, 0.024780273, -0.011405945, 0.011924744, -0.10296631, -0.0151901245, 0.06939697, -0.003818512, -0.010398865, -0.016220093, 0.0049743652, -0.008476257, -0.02407837, 0.028152466, 0.04046631, 0.0038013458, 0.01763916, -0.0018539429, -0.048553467, 0.032287598, -0.013305664, -0.044006348, -0.015205383, -0.025497437, 0.018295288, 0.027023315, -0.0022792816, -0.06021118, -0.089904785, 0.03010559, -0.0010166168, 0.03274536, 0.0008506775, 0.014328003, -0.029953003, 0.030136108, 0.05026245, -0.011138916, 0.022949219, 0.01713562, 0.04824829, 0.046813965, 0.007648468, -0.0023117065, 0.039215088, 0.0010757446, 0.005859375, -0.01184845, 0.014831543, 0.0335083, 0.024810791, 0.031463623, 0.015617371, 0.0340271, 0.022628784, 0.057403564, 0.013977051, 0.01524353, -0.034484863, -0.043823242, 0.02684021, 0.047546387, 0.04598999, -0.058502197, -0.00605011, 2.18153e-05, -0.0029239655, -0.0121536255, 0.0054244995, 0.035461426, -0.01096344, -0.05621338, -0.025360107, -0.049438477, -0.055877686, 0.010322571, -0.030792236, 0.008460999, -0.042297363, -0.020385742, -0.0647583, -0.04272461, 0.021728516, -0.0124435425, -0.03253174, 0.03656006, -0.014556885, -0.037963867, -0.057128906, -0.010803223, -0.03604126, -0.029373169, 0.032470703, -0.032318115, -0.020828247, 0.02267456, -0.059661865, 0.0019683838, 0.0496521, 0.03805542, 0.04486084, -0.025543213, 0.049102783, 0.0024166107, -0.011947632, -0.00031542778, 0.0093688965, -0.025009155, 0.040863037, -0.04348755, 0.02859497, 0.025268555, -0.06512451, 0.007698059, 0.015975952, 0.025115967, 0.019805908, 0.052246094, -0.007133484, -0.0579834, -0.05831909, -0.014266968, -0.039398193, -0.009048462, 0.060058594, -0.02809143, -0.001534462, 0.015396118, -0.028198242, -0.053588867, -0.07598877, 0.00066041946, -0.019302368, -0.002714157, 0.07885742, 0.0033607483, 0.02305603, -0.0038471222, 0.032989502, -0.004650116, -0.03100586, -0.017227173, 0.04623413, -0.036743164, 0.05807495, 0.01651001, 0.0049552917, -0.015571594, -0.0069999695, 0.04397583, -0.04937744, -0.016998291, 0.014724731, -0.0015449524, 0.03643799, 0.0051078796, -0.024871826, -0.03503418, 0.04006958, 0.0033493042, 0.028900146, -0.040527344, 0.02053833, -0.042053223, -0.0065231323, 0.0071372986, -0.002166748, -0.007461548, -0.022277832, -0.017440796, 0.012527466, -0.009666443, 0.007762909, -0.029144287, 0.016159058, -0.0018501282, -0.010009766, -0.021362305, -0.018981934, -0.055755615, -0.09094238, 0.076049805, -0.04800415, 0.02998352, 0.04168701, 0.016555786, -0.036590576, 0.00017809868, 0.0046653748, -0.013496399, 0.015487671, -0.049926758, -0.008476257, 0.02229309, 0.053894043, -0.001748085, 0.020523071, -0.011260986, -0.014770508, 0.01977539, 0.041870117, -0.0055122375, -0.0043411255, -0.010360718, -0.004524231, -0.00774765, -0.020904541, -0.018508911, 0.025894165, 0.033813477, -0.03692627, -0.0077285767, 0.040252686, -0.013618469, 0.020523071, 0.01373291, -0.03451538, -0.0027656555, 0.0067977905, 0.0078125, -0.0019416809, 0.019470215, -0.014556885, -0.01322937, -0.021499634, 0.0184021, -0.008163452, -0.012870789, 0.010520935, 0.053253174, 0.012504578, 0.033233643, 0.00049734116, -0.049468994, -0.009185791, 0.02394104, -0.040405273, -0.042144775, 0.011161804, -0.0005168915, -0.028747559, 0.033721924, -0.083618164, 0.06994629, -0.046417236, -0.0030994415, -0.003932953, -0.0054397583, -0.026016235, -0.017410278, 0.043182373, -0.033599854, 0.03704834, -0.056274414, 0.0546875, -0.021392822, 0.008338928, 0.021514893, 0.020751953, 0.04244995, 0.041137695, -0.022583008, 0.017944336, -0.032318115, 0.0087509155, -0.0061035156, -0.011940002, 0.03503418, 0.009269714, 0.03564453, 0.00894165, 0.014709473, 0.01084137, -0.03967285, -0.008926392, -0.0031414032, -0.02281189, 0.0039100647, -0.0063934326, 0.016098022, 0.058746338, 0.006046295, -0.005268097, -0.018066406, 0.034423828, 0.003435135, 0.019073486, 0.010467529, -0.017364502, -0.040405273, 0.06768799, -0.018249512, 0.11010742, -0.017440796, -0.016113281, 0.017730713, -0.0073127747, 0.0051727295, -0.028518677, 0.0059890747, 0.047454834, -0.0054855347, 0.010818481, -0.0013179779, -0.012542725, -0.010025024, 0.013427734, 0.0038166046, 0.007286072, -0.009384155, 0.015670776, 0.05154419, -0.029724121, 0.0018777847, 0.013679504, 0.030029297, -0.04586792, 0.027389526, 0.0038070679, 0.031082153, -0.0065612793, 0.0015516281, 0.04147339, 0.04727173, -0.017822266, 0.0037384033, -0.06021118, -0.011932373, -0.033477783, -0.04953003, 0.060150146, -0.025939941, 0.034240723, 0.005683899, -0.02520752, -0.00017952919, -0.013938904, -0.030776978, 0.014030457, 0.023239136, -0.010887146, -0.023422241, -0.018356323, 0.0036582947, 0.0418396, 0.013259888, -0.048858643, -0.016296387, -0.03729248, 0.059143066, 0.00017488003, 0.0038013458, -0.0010499954, -0.015533447, 0.04473877, -0.0076828003, 0.013343811, 0.0019454956, 0.009963989, 0.009643555, -0.011550903, -0.03149414, 0.009757996, -0.034301758, 0.04437256, -0.008140564, 0.017166138, -0.022003174, -0.04550171, 0.015296936, 0.016662598, -0.024917603, -0.009231567, -0.02583313, 0.032714844, 0.015563965, -0.022491455, -0.020309448, -0.007297516, 0.00086021423, -0.01953125, -0.016952515, -0.012573242, 0.022994995, -0.01625061, -0.018203735, -0.007709503, 0.02659607, 0.0077056885, -0.034606934, 0.0036754608, 0.0023384094, -0.035308838, 0.04067993, 0.006843567, 0.039245605, -0.032318115, -0.03857422, -0.012245178, 0.005962372, -0.010528564, 0.024551392, 0.0070266724, -0.022384644, 0.028320312, -0.0017747879, 0.0121154785, -0.013755798, -0.023483276, 0.052612305, -0.053527832, -0.007007599, 0.074279785, 0.032470703, -0.002117157, -0.062316895, 0.0060920715, -0.021331787, 0.02760315, 0.01902771, 0.03768921, 0.0031852722, 0.009536743, 0.0060920715, -0.033203125, 0.04876709, 0.011169434, 0.018875122, 0.027999878, 0.05581665, -0.030548096, 0.00067281723, -0.051452637, -0.034576416, -0.012367249, -0.072509766, -0.06390381, 0.022201538, 0.07501221, -0.025375366, -0.0004503727, 0.059020996, 0.012008667, 0.026550293, -0.02229309, 0.00039482117, 0.024719238, -0.011444092, -0.019378662, 0.041809082, -0.020187378, -0.011314392, 0.017852783, -0.0066070557, -0.01550293, 0.013122559, -0.016784668, 0.0022449493, -0.0362854, 0.00081300735, 0.0018415451, -0.026657104, -0.0037631989, 0.014656067, 0.020751953, -0.017425537, 0.014122009]\n"
     ]
    }
   ],
   "source": [
    "\n",
    "# desafio, obtener solo el contenido en vector\n",
    "print(response.embeddings.float_[0])"
   ]
  },
  {
   "cell_type": "code",
   "execution_count": null,
   "id": "939053b5-a63f-466d-a055-0be8f2e814af",
   "metadata": {},
   "outputs": [],
   "source": []
  },
  {
   "cell_type": "code",
   "execution_count": 9,
   "id": "d71349cf-a3cc-43ae-8f14-904ee36922b5",
   "metadata": {},
   "outputs": [
    {
     "name": "stdout",
     "output_type": "stream",
     "text": [
      "1024\n"
     ]
    }
   ],
   "source": [
    "print(len(response.embeddings.float_[0]))"
   ]
  },
  {
   "cell_type": "code",
   "execution_count": null,
   "id": "5c0f8e70-29b5-46bc-bf9c-660b16f6bb4c",
   "metadata": {},
   "outputs": [],
   "source": []
  },
  {
   "cell_type": "code",
   "execution_count": 9,
   "id": "8d870666-a5f7-4a4a-beb4-b21bd455483b",
   "metadata": {},
   "outputs": [
    {
     "name": "stdout",
     "output_type": "stream",
     "text": [
      "3\n"
     ]
    }
   ],
   "source": [
    "# pasando varios textos al mismo tiempo\n",
    "\n",
    "response = co.embed(\n",
    "    texts=[\"hola\", \"que onda chavo\", \"Aca mas texto\"],\n",
    "    model=\"embed-multilingual-v3.0\",\n",
    "    input_type=\"search_document\",\n",
    "    embedding_types=[\"float\"],\n",
    ")\n",
    "\n",
    "print(len(response.embeddings.float_))"
   ]
  },
  {
   "cell_type": "code",
   "execution_count": null,
   "id": "bb40bbe4-f617-453c-b63a-b620b43e2ba4",
   "metadata": {},
   "outputs": [],
   "source": []
  },
  {
   "cell_type": "code",
   "execution_count": null,
   "id": "f292756e-be62-4c28-8c6d-5d887fb0e913",
   "metadata": {},
   "outputs": [],
   "source": []
  },
  {
   "cell_type": "markdown",
   "id": "cb6073ef-744b-4ace-a82c-fbf2962e4a4d",
   "metadata": {},
   "source": [
    "### Similaridad\n",
    "\n",
    "Encontrar la frase mas similar usando embeddings"
   ]
  },
  {
   "cell_type": "code",
   "execution_count": 10,
   "id": "a8883569-4556-47e4-8305-9a5eb4abfed3",
   "metadata": {},
   "outputs": [],
   "source": [
    "# Definimos una funcion helper para obtener embeddings\n",
    "\n",
    "def get_embeddings(textos):\n",
    "    \n",
    "    response = co.embed(\n",
    "        texts=textos,\n",
    "        model=\"embed-multilingual-v3.0\",\n",
    "        input_type=\"search_document\",\n",
    "        embedding_types=[\"float\"],\n",
    "    )\n",
    "\n",
    "    return response.embeddings.float_"
   ]
  },
  {
   "cell_type": "code",
   "execution_count": null,
   "id": "fb9b46e6-6ab4-4c35-af66-3f9176a72f4d",
   "metadata": {},
   "outputs": [],
   "source": []
  },
  {
   "cell_type": "code",
   "execution_count": 11,
   "id": "6265ed16-5f00-4ffb-aa6a-68f799b56f32",
   "metadata": {},
   "outputs": [],
   "source": [
    "from sklearn.metrics.pairwise import cosine_similarity"
   ]
  },
  {
   "cell_type": "code",
   "execution_count": 12,
   "id": "0362bb5c-3622-49e9-9f83-b5918be84710",
   "metadata": {},
   "outputs": [],
   "source": [
    "# Frase base\n",
    "frase_base = [\"El clima hoy es muy soleado y cálido.\"]\n",
    "\n",
    "# Frases a matchear\n",
    "frases = [\n",
    "    \"Hoy es un día lluvioso.\",\n",
    "    \"El sol brilla y hace calor.\",\n",
    "    \"Mañana podría llover.\",\n",
    "    \"El invierno se siente frío.\",\n",
    "    \"Hace mucho viento afuera.\"\n",
    "]\n",
    "\n",
    "\n",
    "# Generar embeddings para todas las frases\n",
    "embeddings_base = get_embeddings(frase_base)\n",
    "embeddings_frases = get_embeddings(frases)\n",
    "\n"
   ]
  },
  {
   "cell_type": "code",
   "execution_count": null,
   "id": "a193e043-8f7a-4fd3-9b51-9fedf3ef0ba3",
   "metadata": {},
   "outputs": [],
   "source": [
    "# cosine similarity"
   ]
  },
  {
   "cell_type": "code",
   "execution_count": 13,
   "id": "0220d0d6-dd78-4e8d-b3e9-6d9d7d052f5f",
   "metadata": {},
   "outputs": [
    {
     "name": "stdout",
     "output_type": "stream",
     "text": [
      "Frase base: \"['El clima hoy es muy soleado y cálido.']\"\n",
      "Frase 1: \"Hoy es un día lluvioso.\" - Similitud: 0.7393\n",
      "Frase 2: \"El sol brilla y hace calor.\" - Similitud: 0.8756\n",
      "Frase 3: \"Mañana podría llover.\" - Similitud: 0.6385\n",
      "Frase 4: \"El invierno se siente frío.\" - Similitud: 0.5747\n",
      "Frase 5: \"Hace mucho viento afuera.\" - Similitud: 0.6578\n",
      "\n",
      "La frase más similar es: \"El sol brilla y hace calor.\"\n"
     ]
    }
   ],
   "source": [
    "\n",
    "# Calcular similitud coseno entre la frase base y cada frase a matchear\n",
    "similaridades = []  # Lista para almacenar los resultados de similitud\n",
    "\n",
    "for emb in embeddings_frases:\n",
    "    # Calcular similitud coseno entre la frase base y la frase actual\n",
    "    sim_coseno = cosine_similarity(embeddings_base, [emb])\n",
    "    \n",
    "    # Acceder al valor de la similitud (un solo valor en la matriz 1x1)\n",
    "    similaridades.append(sim_coseno[0][0])\n",
    "\n",
    "# Encontrar la frase más similar\n",
    "indice_max = similaridades.index(max(similaridades))\n",
    "frase_mas_similar = frases[indice_max]\n",
    "\n",
    "# Imprimir resultados\n",
    "print(f\"Frase base: \\\"{frase_base}\\\"\")\n",
    "for i, frase in enumerate(frases):\n",
    "    print(f\"Frase {i+1}: \\\"{frase}\\\" - Similitud: {similaridades[i]:.4f}\")\n",
    "\n",
    "print(f\"\\nLa frase más similar es: \\\"{frase_mas_similar}\\\"\")"
   ]
  },
  {
   "cell_type": "code",
   "execution_count": null,
   "id": "1cba44f2-d8b9-4013-a332-59b354c78cd0",
   "metadata": {},
   "outputs": [],
   "source": [
    "# dot product"
   ]
  },
  {
   "cell_type": "code",
   "execution_count": 14,
   "id": "63b1e98b-bdb1-49d3-925c-a5a422ada0df",
   "metadata": {},
   "outputs": [
    {
     "name": "stdout",
     "output_type": "stream",
     "text": [
      "Frase base: \"['El clima hoy es muy soleado y cálido.']\"\n",
      "Frase 1: \"Hoy es un día lluvioso.\" - Producto punto: 0.7396\n",
      "Frase 2: \"El sol brilla y hace calor.\" - Producto punto: 0.8757\n",
      "Frase 3: \"Mañana podría llover.\" - Producto punto: 0.6385\n",
      "Frase 4: \"El invierno se siente frío.\" - Producto punto: 0.5750\n",
      "Frase 5: \"Hace mucho viento afuera.\" - Producto punto: 0.6580\n",
      "\n",
      "La frase más similar es: \"El sol brilla y hace calor.\"\n"
     ]
    }
   ],
   "source": [
    "# ahora usando producto punto\n",
    "\n",
    "\n",
    "import numpy as np\n",
    "\n",
    "similaridades = []\n",
    "\n",
    "for emb in embeddings_frases:\n",
    "    # Calcular el producto punto entre el embedding de la frase base y el de la frase actual\n",
    "    producto_punto = np.dot(embeddings_base[0], emb)\n",
    "    \n",
    "    # Agregar el producto punto a la lista de similaridades\n",
    "    similaridades.append(producto_punto)\n",
    "\n",
    "# Encontrar la frase más similar\n",
    "indice_max = similaridades.index(max(similaridades))\n",
    "frase_mas_similar = frases[indice_max]\n",
    "\n",
    "# Imprimir resultados\n",
    "print(f\"Frase base: \\\"{frase_base}\\\"\")\n",
    "for i, frase in enumerate(frases):\n",
    "    print(f\"Frase {i+1}: \\\"{frase}\\\" - Producto punto: {similaridades[i]:.4f}\")\n",
    "\n",
    "print(f\"\\nLa frase más similar es: \\\"{frase_mas_similar}\\\"\")"
   ]
  },
  {
   "cell_type": "code",
   "execution_count": null,
   "id": "cbd06298-bf4b-44ac-99cd-ae71fef40562",
   "metadata": {},
   "outputs": [],
   "source": []
  },
  {
   "cell_type": "code",
   "execution_count": null,
   "id": "5b955718-f380-4caf-bbb6-3c148c3a8b6b",
   "metadata": {},
   "outputs": [],
   "source": []
  },
  {
   "cell_type": "markdown",
   "id": "6dc7af73-cceb-40ec-af96-36acea01360f",
   "metadata": {},
   "source": [
    "## Base de datos vectorial\n",
    "\n",
    "https://docs.trychroma.com/getting-started"
   ]
  },
  {
   "cell_type": "code",
   "execution_count": 15,
   "id": "b9e8bb50-8c88-41f8-8919-afd2da2994cd",
   "metadata": {},
   "outputs": [],
   "source": [
    "import chromadb\n",
    "chroma_client = chromadb.Client()\n",
    "\n",
    "\n",
    "# si quieren que la base se guarde en la pc\n",
    "#client = chromadb.PersistentClient(path=\"/path/to/save/to\")"
   ]
  },
  {
   "cell_type": "code",
   "execution_count": 16,
   "id": "62e9c7b3-2b4e-4758-86cb-73a47ee0bbcb",
   "metadata": {},
   "outputs": [],
   "source": [
    "# Levantar la base\n",
    "collection = chroma_client.create_collection(name=\"my_collection\")\n"
   ]
  },
  {
   "cell_type": "code",
   "execution_count": 17,
   "id": "1c0dccb5-b511-466e-b59f-a70bc6e6b582",
   "metadata": {},
   "outputs": [],
   "source": [
    "# Cargar la data en la base\n",
    "\n",
    "collection.add(\n",
    "    documents=[\n",
    "        \"This is a document about pineapple\",\n",
    "        \"This is a document about oranges\",\n",
    "        \"This is a document about dogs\"\n",
    "        \n",
    "    ],\n",
    "    ids=[\"id1\", \"id2\", \"id3\"]\n",
    ")\n",
    "\n"
   ]
  },
  {
   "cell_type": "code",
   "execution_count": 20,
   "id": "35302586-2efd-4c36-bb0d-2e8d9738974e",
   "metadata": {},
   "outputs": [
    {
     "name": "stdout",
     "output_type": "stream",
     "text": [
      "{'ids': [['id1']], 'embeddings': None, 'documents': [['This is a document about pineapple']], 'uris': None, 'data': None, 'metadatas': [[None]], 'distances': [[1.0404009819030762]], 'included': [<IncludeEnum.distances: 'distances'>, <IncludeEnum.documents: 'documents'>, <IncludeEnum.metadatas: 'metadatas'>]}\n"
     ]
    }
   ],
   "source": [
    "# Consultar sobre la base\n",
    "\n",
    "results = collection.query(\n",
    "    query_texts=[\"This is a query document about hawaii\"], # Chroma will embed this for you\n",
    "    n_results=1 # how many results to return\n",
    ")\n",
    "print(results)\n",
    "\n"
   ]
  },
  {
   "cell_type": "code",
   "execution_count": 21,
   "id": "57ca00f9-5749-452b-a46c-b47bff7ed24f",
   "metadata": {},
   "outputs": [
    {
     "name": "stdout",
     "output_type": "stream",
     "text": [
      "{\n",
      "  \"ids\": [\n",
      "    [\n",
      "      \"id1\"\n",
      "    ]\n",
      "  ],\n",
      "  \"embeddings\": null,\n",
      "  \"documents\": [\n",
      "    [\n",
      "      \"This is a document about pineapple\"\n",
      "    ]\n",
      "  ],\n",
      "  \"uris\": null,\n",
      "  \"data\": null,\n",
      "  \"metadatas\": [\n",
      "    [\n",
      "      null\n",
      "    ]\n",
      "  ],\n",
      "  \"distances\": [\n",
      "    [\n",
      "      1.0404009819030762\n",
      "    ]\n",
      "  ],\n",
      "  \"included\": [\n",
      "    \"distances\",\n",
      "    \"documents\",\n",
      "    \"metadatas\"\n",
      "  ]\n",
      "}\n"
     ]
    }
   ],
   "source": [
    "print(json.dumps(results, indent=2))"
   ]
  },
  {
   "cell_type": "code",
   "execution_count": 22,
   "id": "74202543-e801-4d34-8973-aa83618b19ed",
   "metadata": {},
   "outputs": [],
   "source": [
    "chroma_client.delete_collection(name=\"my_collection\")"
   ]
  },
  {
   "cell_type": "code",
   "execution_count": null,
   "id": "1a62c2a1-50ef-499a-8e94-fb6684fc6f05",
   "metadata": {},
   "outputs": [],
   "source": [
    "# uses the model all-MiniLM-L6-v2 by default for embeddings"
   ]
  },
  {
   "cell_type": "code",
   "execution_count": null,
   "id": "84c1e830-1a5d-4ce5-b978-5b876a63a524",
   "metadata": {},
   "outputs": [],
   "source": []
  },
  {
   "cell_type": "markdown",
   "id": "4a26669d-82b1-453e-ae07-63e3897d84ad",
   "metadata": {},
   "source": [
    "**Otra opcion es cargar los embeddings directamente a la base**"
   ]
  },
  {
   "cell_type": "code",
   "execution_count": 23,
   "id": "e407194e-a0f8-40d8-9453-b9227c20b31b",
   "metadata": {},
   "outputs": [],
   "source": [
    "def get_embeddings(textos):\n",
    "    \n",
    "    response = co.embed(\n",
    "        texts=textos,\n",
    "        model=\"embed-multilingual-v3.0\",\n",
    "        input_type=\"search_document\",\n",
    "        embedding_types=[\"float\"],\n",
    "    )\n",
    "\n",
    "    return response.embeddings.float_"
   ]
  },
  {
   "cell_type": "code",
   "execution_count": 24,
   "id": "e2e222fb-c616-4e0d-ae0f-f4d45d1af01e",
   "metadata": {},
   "outputs": [],
   "source": [
    "documents=[\n",
    "        \"This is a document about pineapple\",\n",
    "        \"This is a document about oranges\",\n",
    "        \"This is a document about dogs\"    \n",
    "    ]"
   ]
  },
  {
   "cell_type": "code",
   "execution_count": 25,
   "id": "fa23be8c-7269-4800-a511-dbb5dc924c90",
   "metadata": {},
   "outputs": [],
   "source": [
    "cohere_embeddings =  get_embeddings(documents)"
   ]
  },
  {
   "cell_type": "code",
   "execution_count": 27,
   "id": "a031a1ec-5e14-40fa-8fdc-01c47cc52b10",
   "metadata": {},
   "outputs": [],
   "source": [
    "# Levantar la base\n",
    "collection = chroma_client.create_collection(name=\"my_collection\")\n",
    "\n",
    "# Cargar la data en la base\n",
    "\n",
    "collection.add(\n",
    "    documents=documents,\n",
    "    ids=[\"id1\", \"id2\", \"id3\"],\n",
    "    embeddings=cohere_embeddings\n",
    ")"
   ]
  },
  {
   "cell_type": "code",
   "execution_count": 28,
   "id": "71f6d6fb-56dd-44cb-873e-2c439c77af3a",
   "metadata": {},
   "outputs": [
    {
     "ename": "InvalidDimensionException",
     "evalue": "Embedding dimension 384 does not match collection dimensionality 1024",
     "output_type": "error",
     "traceback": [
      "\u001b[1;31m---------------------------------------------------------------------------\u001b[0m",
      "\u001b[1;31mInvalidDimensionException\u001b[0m                 Traceback (most recent call last)",
      "Cell \u001b[1;32mIn[28], line 3\u001b[0m\n\u001b[0;32m      1\u001b[0m \u001b[38;5;66;03m# OJO AL PIOJO!!\u001b[39;00m\n\u001b[1;32m----> 3\u001b[0m results \u001b[38;5;241m=\u001b[39m \u001b[43mcollection\u001b[49m\u001b[38;5;241;43m.\u001b[39;49m\u001b[43mquery\u001b[49m\u001b[43m(\u001b[49m\n\u001b[0;32m      4\u001b[0m \u001b[43m    \u001b[49m\u001b[43mquery_texts\u001b[49m\u001b[38;5;241;43m=\u001b[39;49m\u001b[43m[\u001b[49m\u001b[38;5;124;43m\"\u001b[39;49m\u001b[38;5;124;43mThis is a query document about hawaii\u001b[39;49m\u001b[38;5;124;43m\"\u001b[39;49m\u001b[43m]\u001b[49m\u001b[43m,\u001b[49m\u001b[43m \u001b[49m\u001b[38;5;66;43;03m# Chroma will embed this for you\u001b[39;49;00m\n\u001b[0;32m      5\u001b[0m \u001b[43m    \u001b[49m\u001b[43mn_results\u001b[49m\u001b[38;5;241;43m=\u001b[39;49m\u001b[38;5;241;43m2\u001b[39;49m\u001b[43m \u001b[49m\u001b[38;5;66;43;03m# how many results to return\u001b[39;49;00m\n\u001b[0;32m      6\u001b[0m \u001b[43m)\u001b[49m\n\u001b[0;32m      7\u001b[0m \u001b[38;5;28mprint\u001b[39m(results)\n",
      "File \u001b[1;32m~\\Documents\\Pidata\\GetTalentAI\\Cursoensi\\Semena RAG\\venv\\lib\\site-packages\\chromadb\\api\\models\\Collection.py:221\u001b[0m, in \u001b[0;36mCollection.query\u001b[1;34m(self, query_embeddings, query_texts, query_images, query_uris, n_results, where, where_document, include)\u001b[0m\n\u001b[0;32m    187\u001b[0m \u001b[38;5;250m\u001b[39m\u001b[38;5;124;03m\"\"\"Get the n_results nearest neighbor embeddings for provided query_embeddings or query_texts.\u001b[39;00m\n\u001b[0;32m    188\u001b[0m \n\u001b[0;32m    189\u001b[0m \u001b[38;5;124;03mArgs:\u001b[39;00m\n\u001b[1;32m   (...)\u001b[0m\n\u001b[0;32m    207\u001b[0m \n\u001b[0;32m    208\u001b[0m \u001b[38;5;124;03m\"\"\"\u001b[39;00m\n\u001b[0;32m    210\u001b[0m query_request \u001b[38;5;241m=\u001b[39m \u001b[38;5;28mself\u001b[39m\u001b[38;5;241m.\u001b[39m_validate_and_prepare_query_request(\n\u001b[0;32m    211\u001b[0m     query_embeddings\u001b[38;5;241m=\u001b[39mquery_embeddings,\n\u001b[0;32m    212\u001b[0m     query_texts\u001b[38;5;241m=\u001b[39mquery_texts,\n\u001b[1;32m   (...)\u001b[0m\n\u001b[0;32m    218\u001b[0m     include\u001b[38;5;241m=\u001b[39minclude,\n\u001b[0;32m    219\u001b[0m )\n\u001b[1;32m--> 221\u001b[0m query_results \u001b[38;5;241m=\u001b[39m \u001b[38;5;28;43mself\u001b[39;49m\u001b[38;5;241;43m.\u001b[39;49m\u001b[43m_client\u001b[49m\u001b[38;5;241;43m.\u001b[39;49m\u001b[43m_query\u001b[49m\u001b[43m(\u001b[49m\n\u001b[0;32m    222\u001b[0m \u001b[43m    \u001b[49m\u001b[43mcollection_id\u001b[49m\u001b[38;5;241;43m=\u001b[39;49m\u001b[38;5;28;43mself\u001b[39;49m\u001b[38;5;241;43m.\u001b[39;49m\u001b[43mid\u001b[49m\u001b[43m,\u001b[49m\n\u001b[0;32m    223\u001b[0m \u001b[43m    \u001b[49m\u001b[43mquery_embeddings\u001b[49m\u001b[38;5;241;43m=\u001b[39;49m\u001b[43mquery_request\u001b[49m\u001b[43m[\u001b[49m\u001b[38;5;124;43m\"\u001b[39;49m\u001b[38;5;124;43membeddings\u001b[39;49m\u001b[38;5;124;43m\"\u001b[39;49m\u001b[43m]\u001b[49m\u001b[43m,\u001b[49m\n\u001b[0;32m    224\u001b[0m \u001b[43m    \u001b[49m\u001b[43mn_results\u001b[49m\u001b[38;5;241;43m=\u001b[39;49m\u001b[43mquery_request\u001b[49m\u001b[43m[\u001b[49m\u001b[38;5;124;43m\"\u001b[39;49m\u001b[38;5;124;43mn_results\u001b[39;49m\u001b[38;5;124;43m\"\u001b[39;49m\u001b[43m]\u001b[49m\u001b[43m,\u001b[49m\n\u001b[0;32m    225\u001b[0m \u001b[43m    \u001b[49m\u001b[43mwhere\u001b[49m\u001b[38;5;241;43m=\u001b[39;49m\u001b[43mquery_request\u001b[49m\u001b[43m[\u001b[49m\u001b[38;5;124;43m\"\u001b[39;49m\u001b[38;5;124;43mwhere\u001b[39;49m\u001b[38;5;124;43m\"\u001b[39;49m\u001b[43m]\u001b[49m\u001b[43m,\u001b[49m\n\u001b[0;32m    226\u001b[0m \u001b[43m    \u001b[49m\u001b[43mwhere_document\u001b[49m\u001b[38;5;241;43m=\u001b[39;49m\u001b[43mquery_request\u001b[49m\u001b[43m[\u001b[49m\u001b[38;5;124;43m\"\u001b[39;49m\u001b[38;5;124;43mwhere_document\u001b[39;49m\u001b[38;5;124;43m\"\u001b[39;49m\u001b[43m]\u001b[49m\u001b[43m,\u001b[49m\n\u001b[0;32m    227\u001b[0m \u001b[43m    \u001b[49m\u001b[43minclude\u001b[49m\u001b[38;5;241;43m=\u001b[39;49m\u001b[43mquery_request\u001b[49m\u001b[43m[\u001b[49m\u001b[38;5;124;43m\"\u001b[39;49m\u001b[38;5;124;43minclude\u001b[39;49m\u001b[38;5;124;43m\"\u001b[39;49m\u001b[43m]\u001b[49m\u001b[43m,\u001b[49m\n\u001b[0;32m    228\u001b[0m \u001b[43m    \u001b[49m\u001b[43mtenant\u001b[49m\u001b[38;5;241;43m=\u001b[39;49m\u001b[38;5;28;43mself\u001b[39;49m\u001b[38;5;241;43m.\u001b[39;49m\u001b[43mtenant\u001b[49m\u001b[43m,\u001b[49m\n\u001b[0;32m    229\u001b[0m \u001b[43m    \u001b[49m\u001b[43mdatabase\u001b[49m\u001b[38;5;241;43m=\u001b[39;49m\u001b[38;5;28;43mself\u001b[39;49m\u001b[38;5;241;43m.\u001b[39;49m\u001b[43mdatabase\u001b[49m\u001b[43m,\u001b[49m\n\u001b[0;32m    230\u001b[0m \u001b[43m\u001b[49m\u001b[43m)\u001b[49m\n\u001b[0;32m    232\u001b[0m \u001b[38;5;28;01mreturn\u001b[39;00m \u001b[38;5;28mself\u001b[39m\u001b[38;5;241m.\u001b[39m_transform_query_response(\n\u001b[0;32m    233\u001b[0m     response\u001b[38;5;241m=\u001b[39mquery_results, include\u001b[38;5;241m=\u001b[39mquery_request[\u001b[38;5;124m\"\u001b[39m\u001b[38;5;124minclude\u001b[39m\u001b[38;5;124m\"\u001b[39m]\n\u001b[0;32m    234\u001b[0m )\n",
      "File \u001b[1;32m~\\Documents\\Pidata\\GetTalentAI\\Cursoensi\\Semena RAG\\venv\\lib\\site-packages\\chromadb\\telemetry\\opentelemetry\\__init__.py:150\u001b[0m, in \u001b[0;36mtrace_method.<locals>.decorator.<locals>.wrapper\u001b[1;34m(*args, **kwargs)\u001b[0m\n\u001b[0;32m    148\u001b[0m \u001b[38;5;28;01mglobal\u001b[39;00m tracer, granularity\n\u001b[0;32m    149\u001b[0m \u001b[38;5;28;01mif\u001b[39;00m trace_granularity \u001b[38;5;241m<\u001b[39m granularity:\n\u001b[1;32m--> 150\u001b[0m     \u001b[38;5;28;01mreturn\u001b[39;00m f(\u001b[38;5;241m*\u001b[39margs, \u001b[38;5;241m*\u001b[39m\u001b[38;5;241m*\u001b[39mkwargs)\n\u001b[0;32m    151\u001b[0m \u001b[38;5;28;01mif\u001b[39;00m \u001b[38;5;129;01mnot\u001b[39;00m tracer:\n\u001b[0;32m    152\u001b[0m     \u001b[38;5;28;01mreturn\u001b[39;00m f(\u001b[38;5;241m*\u001b[39margs, \u001b[38;5;241m*\u001b[39m\u001b[38;5;241m*\u001b[39mkwargs)\n",
      "File \u001b[1;32m~\\Documents\\Pidata\\GetTalentAI\\Cursoensi\\Semena RAG\\venv\\lib\\site-packages\\tenacity\\__init__.py:336\u001b[0m, in \u001b[0;36mBaseRetrying.wraps.<locals>.wrapped_f\u001b[1;34m(*args, **kw)\u001b[0m\n\u001b[0;32m    334\u001b[0m copy \u001b[38;5;241m=\u001b[39m \u001b[38;5;28mself\u001b[39m\u001b[38;5;241m.\u001b[39mcopy()\n\u001b[0;32m    335\u001b[0m wrapped_f\u001b[38;5;241m.\u001b[39mstatistics \u001b[38;5;241m=\u001b[39m copy\u001b[38;5;241m.\u001b[39mstatistics  \u001b[38;5;66;03m# type: ignore[attr-defined]\u001b[39;00m\n\u001b[1;32m--> 336\u001b[0m \u001b[38;5;28;01mreturn\u001b[39;00m copy(f, \u001b[38;5;241m*\u001b[39margs, \u001b[38;5;241m*\u001b[39m\u001b[38;5;241m*\u001b[39mkw)\n",
      "File \u001b[1;32m~\\Documents\\Pidata\\GetTalentAI\\Cursoensi\\Semena RAG\\venv\\lib\\site-packages\\tenacity\\__init__.py:475\u001b[0m, in \u001b[0;36mRetrying.__call__\u001b[1;34m(self, fn, *args, **kwargs)\u001b[0m\n\u001b[0;32m    473\u001b[0m retry_state \u001b[38;5;241m=\u001b[39m RetryCallState(retry_object\u001b[38;5;241m=\u001b[39m\u001b[38;5;28mself\u001b[39m, fn\u001b[38;5;241m=\u001b[39mfn, args\u001b[38;5;241m=\u001b[39margs, kwargs\u001b[38;5;241m=\u001b[39mkwargs)\n\u001b[0;32m    474\u001b[0m \u001b[38;5;28;01mwhile\u001b[39;00m \u001b[38;5;28;01mTrue\u001b[39;00m:\n\u001b[1;32m--> 475\u001b[0m     do \u001b[38;5;241m=\u001b[39m \u001b[38;5;28;43mself\u001b[39;49m\u001b[38;5;241;43m.\u001b[39;49m\u001b[43miter\u001b[49m\u001b[43m(\u001b[49m\u001b[43mretry_state\u001b[49m\u001b[38;5;241;43m=\u001b[39;49m\u001b[43mretry_state\u001b[49m\u001b[43m)\u001b[49m\n\u001b[0;32m    476\u001b[0m     \u001b[38;5;28;01mif\u001b[39;00m \u001b[38;5;28misinstance\u001b[39m(do, DoAttempt):\n\u001b[0;32m    477\u001b[0m         \u001b[38;5;28;01mtry\u001b[39;00m:\n",
      "File \u001b[1;32m~\\Documents\\Pidata\\GetTalentAI\\Cursoensi\\Semena RAG\\venv\\lib\\site-packages\\tenacity\\__init__.py:376\u001b[0m, in \u001b[0;36mBaseRetrying.iter\u001b[1;34m(self, retry_state)\u001b[0m\n\u001b[0;32m    374\u001b[0m result \u001b[38;5;241m=\u001b[39m \u001b[38;5;28;01mNone\u001b[39;00m\n\u001b[0;32m    375\u001b[0m \u001b[38;5;28;01mfor\u001b[39;00m action \u001b[38;5;129;01min\u001b[39;00m \u001b[38;5;28mself\u001b[39m\u001b[38;5;241m.\u001b[39miter_state\u001b[38;5;241m.\u001b[39mactions:\n\u001b[1;32m--> 376\u001b[0m     result \u001b[38;5;241m=\u001b[39m \u001b[43maction\u001b[49m\u001b[43m(\u001b[49m\u001b[43mretry_state\u001b[49m\u001b[43m)\u001b[49m\n\u001b[0;32m    377\u001b[0m \u001b[38;5;28;01mreturn\u001b[39;00m result\n",
      "File \u001b[1;32m~\\Documents\\Pidata\\GetTalentAI\\Cursoensi\\Semena RAG\\venv\\lib\\site-packages\\tenacity\\__init__.py:398\u001b[0m, in \u001b[0;36mBaseRetrying._post_retry_check_actions.<locals>.<lambda>\u001b[1;34m(rs)\u001b[0m\n\u001b[0;32m    396\u001b[0m \u001b[38;5;28;01mdef\u001b[39;00m \u001b[38;5;21m_post_retry_check_actions\u001b[39m(\u001b[38;5;28mself\u001b[39m, retry_state: \u001b[38;5;124m\"\u001b[39m\u001b[38;5;124mRetryCallState\u001b[39m\u001b[38;5;124m\"\u001b[39m) \u001b[38;5;241m-\u001b[39m\u001b[38;5;241m>\u001b[39m \u001b[38;5;28;01mNone\u001b[39;00m:\n\u001b[0;32m    397\u001b[0m     \u001b[38;5;28;01mif\u001b[39;00m \u001b[38;5;129;01mnot\u001b[39;00m (\u001b[38;5;28mself\u001b[39m\u001b[38;5;241m.\u001b[39miter_state\u001b[38;5;241m.\u001b[39mis_explicit_retry \u001b[38;5;129;01mor\u001b[39;00m \u001b[38;5;28mself\u001b[39m\u001b[38;5;241m.\u001b[39miter_state\u001b[38;5;241m.\u001b[39mretry_run_result):\n\u001b[1;32m--> 398\u001b[0m         \u001b[38;5;28mself\u001b[39m\u001b[38;5;241m.\u001b[39m_add_action_func(\u001b[38;5;28;01mlambda\u001b[39;00m rs: \u001b[43mrs\u001b[49m\u001b[38;5;241;43m.\u001b[39;49m\u001b[43moutcome\u001b[49m\u001b[38;5;241;43m.\u001b[39;49m\u001b[43mresult\u001b[49m\u001b[43m(\u001b[49m\u001b[43m)\u001b[49m)\n\u001b[0;32m    399\u001b[0m         \u001b[38;5;28;01mreturn\u001b[39;00m\n\u001b[0;32m    401\u001b[0m     \u001b[38;5;28;01mif\u001b[39;00m \u001b[38;5;28mself\u001b[39m\u001b[38;5;241m.\u001b[39mafter \u001b[38;5;129;01mis\u001b[39;00m \u001b[38;5;129;01mnot\u001b[39;00m \u001b[38;5;28;01mNone\u001b[39;00m:\n",
      "File \u001b[1;32m~\\AppData\\Local\\Programs\\Python\\Python310\\lib\\concurrent\\futures\\_base.py:451\u001b[0m, in \u001b[0;36mFuture.result\u001b[1;34m(self, timeout)\u001b[0m\n\u001b[0;32m    449\u001b[0m     \u001b[38;5;28;01mraise\u001b[39;00m CancelledError()\n\u001b[0;32m    450\u001b[0m \u001b[38;5;28;01melif\u001b[39;00m \u001b[38;5;28mself\u001b[39m\u001b[38;5;241m.\u001b[39m_state \u001b[38;5;241m==\u001b[39m FINISHED:\n\u001b[1;32m--> 451\u001b[0m     \u001b[38;5;28;01mreturn\u001b[39;00m \u001b[38;5;28;43mself\u001b[39;49m\u001b[38;5;241;43m.\u001b[39;49m\u001b[43m__get_result\u001b[49m\u001b[43m(\u001b[49m\u001b[43m)\u001b[49m\n\u001b[0;32m    453\u001b[0m \u001b[38;5;28mself\u001b[39m\u001b[38;5;241m.\u001b[39m_condition\u001b[38;5;241m.\u001b[39mwait(timeout)\n\u001b[0;32m    455\u001b[0m \u001b[38;5;28;01mif\u001b[39;00m \u001b[38;5;28mself\u001b[39m\u001b[38;5;241m.\u001b[39m_state \u001b[38;5;129;01min\u001b[39;00m [CANCELLED, CANCELLED_AND_NOTIFIED]:\n",
      "File \u001b[1;32m~\\AppData\\Local\\Programs\\Python\\Python310\\lib\\concurrent\\futures\\_base.py:403\u001b[0m, in \u001b[0;36mFuture.__get_result\u001b[1;34m(self)\u001b[0m\n\u001b[0;32m    401\u001b[0m \u001b[38;5;28;01mif\u001b[39;00m \u001b[38;5;28mself\u001b[39m\u001b[38;5;241m.\u001b[39m_exception:\n\u001b[0;32m    402\u001b[0m     \u001b[38;5;28;01mtry\u001b[39;00m:\n\u001b[1;32m--> 403\u001b[0m         \u001b[38;5;28;01mraise\u001b[39;00m \u001b[38;5;28mself\u001b[39m\u001b[38;5;241m.\u001b[39m_exception\n\u001b[0;32m    404\u001b[0m     \u001b[38;5;28;01mfinally\u001b[39;00m:\n\u001b[0;32m    405\u001b[0m         \u001b[38;5;66;03m# Break a reference cycle with the exception in self._exception\u001b[39;00m\n\u001b[0;32m    406\u001b[0m         \u001b[38;5;28mself\u001b[39m \u001b[38;5;241m=\u001b[39m \u001b[38;5;28;01mNone\u001b[39;00m\n",
      "File \u001b[1;32m~\\Documents\\Pidata\\GetTalentAI\\Cursoensi\\Semena RAG\\venv\\lib\\site-packages\\tenacity\\__init__.py:478\u001b[0m, in \u001b[0;36mRetrying.__call__\u001b[1;34m(self, fn, *args, **kwargs)\u001b[0m\n\u001b[0;32m    476\u001b[0m \u001b[38;5;28;01mif\u001b[39;00m \u001b[38;5;28misinstance\u001b[39m(do, DoAttempt):\n\u001b[0;32m    477\u001b[0m     \u001b[38;5;28;01mtry\u001b[39;00m:\n\u001b[1;32m--> 478\u001b[0m         result \u001b[38;5;241m=\u001b[39m fn(\u001b[38;5;241m*\u001b[39margs, \u001b[38;5;241m*\u001b[39m\u001b[38;5;241m*\u001b[39mkwargs)\n\u001b[0;32m    479\u001b[0m     \u001b[38;5;28;01mexcept\u001b[39;00m \u001b[38;5;167;01mBaseException\u001b[39;00m:  \u001b[38;5;66;03m# noqa: B902\u001b[39;00m\n\u001b[0;32m    480\u001b[0m         retry_state\u001b[38;5;241m.\u001b[39mset_exception(sys\u001b[38;5;241m.\u001b[39mexc_info())  \u001b[38;5;66;03m# type: ignore[arg-type]\u001b[39;00m\n",
      "File \u001b[1;32m~\\Documents\\Pidata\\GetTalentAI\\Cursoensi\\Semena RAG\\venv\\lib\\site-packages\\chromadb\\api\\segment.py:103\u001b[0m, in \u001b[0;36mrate_limit.<locals>.wrapper\u001b[1;34m(*args, **kwargs)\u001b[0m\n\u001b[0;32m    100\u001b[0m \u001b[38;5;129m@wraps\u001b[39m(func)\n\u001b[0;32m    101\u001b[0m \u001b[38;5;28;01mdef\u001b[39;00m \u001b[38;5;21mwrapper\u001b[39m(\u001b[38;5;241m*\u001b[39margs: Any, \u001b[38;5;241m*\u001b[39m\u001b[38;5;241m*\u001b[39mkwargs: Any) \u001b[38;5;241m-\u001b[39m\u001b[38;5;241m>\u001b[39m Any:\n\u001b[0;32m    102\u001b[0m     \u001b[38;5;28mself\u001b[39m \u001b[38;5;241m=\u001b[39m args[\u001b[38;5;241m0\u001b[39m]\n\u001b[1;32m--> 103\u001b[0m     \u001b[38;5;28;01mreturn\u001b[39;00m \u001b[38;5;28mself\u001b[39m\u001b[38;5;241m.\u001b[39m_rate_limit_enforcer\u001b[38;5;241m.\u001b[39mrate_limit(func)(\u001b[38;5;241m*\u001b[39margs, \u001b[38;5;241m*\u001b[39m\u001b[38;5;241m*\u001b[39mkwargs)\n",
      "File \u001b[1;32m~\\Documents\\Pidata\\GetTalentAI\\Cursoensi\\Semena RAG\\venv\\lib\\site-packages\\chromadb\\rate_limit\\simple_rate_limit\\__init__.py:23\u001b[0m, in \u001b[0;36mSimpleRateLimitEnforcer.rate_limit.<locals>.wrapper\u001b[1;34m(*args, **kwargs)\u001b[0m\n\u001b[0;32m     21\u001b[0m \u001b[38;5;129m@wraps\u001b[39m(func)\n\u001b[0;32m     22\u001b[0m \u001b[38;5;28;01mdef\u001b[39;00m \u001b[38;5;21mwrapper\u001b[39m(\u001b[38;5;241m*\u001b[39margs: Any, \u001b[38;5;241m*\u001b[39m\u001b[38;5;241m*\u001b[39mkwargs: Any) \u001b[38;5;241m-\u001b[39m\u001b[38;5;241m>\u001b[39m Any:\n\u001b[1;32m---> 23\u001b[0m     \u001b[38;5;28;01mreturn\u001b[39;00m func(\u001b[38;5;241m*\u001b[39margs, \u001b[38;5;241m*\u001b[39m\u001b[38;5;241m*\u001b[39mkwargs)\n",
      "File \u001b[1;32m~\\Documents\\Pidata\\GetTalentAI\\Cursoensi\\Semena RAG\\venv\\lib\\site-packages\\chromadb\\api\\segment.py:791\u001b[0m, in \u001b[0;36mSegmentAPI._query\u001b[1;34m(self, collection_id, query_embeddings, n_results, where, where_document, include, tenant, database)\u001b[0m\n\u001b[0;32m    789\u001b[0m coll \u001b[38;5;241m=\u001b[39m \u001b[38;5;28mself\u001b[39m\u001b[38;5;241m.\u001b[39m_get_collection(collection_id)\n\u001b[0;32m    790\u001b[0m \u001b[38;5;28;01mfor\u001b[39;00m embedding \u001b[38;5;129;01min\u001b[39;00m query_embeddings:\n\u001b[1;32m--> 791\u001b[0m     \u001b[38;5;28;43mself\u001b[39;49m\u001b[38;5;241;43m.\u001b[39;49m\u001b[43m_validate_dimension\u001b[49m\u001b[43m(\u001b[49m\u001b[43mcoll\u001b[49m\u001b[43m,\u001b[49m\u001b[43m \u001b[49m\u001b[38;5;28;43mlen\u001b[39;49m\u001b[43m(\u001b[49m\u001b[43membedding\u001b[49m\u001b[43m)\u001b[49m\u001b[43m,\u001b[49m\u001b[43m \u001b[49m\u001b[43mupdate\u001b[49m\u001b[38;5;241;43m=\u001b[39;49m\u001b[38;5;28;43;01mFalse\u001b[39;49;00m\u001b[43m)\u001b[49m\n\u001b[0;32m    793\u001b[0m \u001b[38;5;28mself\u001b[39m\u001b[38;5;241m.\u001b[39m_quota_enforcer\u001b[38;5;241m.\u001b[39menforce(\n\u001b[0;32m    794\u001b[0m     action\u001b[38;5;241m=\u001b[39mAction\u001b[38;5;241m.\u001b[39mQUERY,\n\u001b[0;32m    795\u001b[0m     tenant\u001b[38;5;241m=\u001b[39mtenant,\n\u001b[1;32m   (...)\u001b[0m\n\u001b[0;32m    799\u001b[0m     n_results\u001b[38;5;241m=\u001b[39mn_results,\n\u001b[0;32m    800\u001b[0m )\n\u001b[0;32m    802\u001b[0m \u001b[38;5;28;01mreturn\u001b[39;00m \u001b[38;5;28mself\u001b[39m\u001b[38;5;241m.\u001b[39m_executor\u001b[38;5;241m.\u001b[39mknn(\n\u001b[0;32m    803\u001b[0m     KNNPlan(\n\u001b[0;32m    804\u001b[0m         Scan(coll),\n\u001b[1;32m   (...)\u001b[0m\n\u001b[0;32m    814\u001b[0m     )\n\u001b[0;32m    815\u001b[0m )\n",
      "File \u001b[1;32m~\\Documents\\Pidata\\GetTalentAI\\Cursoensi\\Semena RAG\\venv\\lib\\site-packages\\chromadb\\api\\segment.py:882\u001b[0m, in \u001b[0;36mSegmentAPI._validate_dimension\u001b[1;34m(self, collection, dim, update)\u001b[0m\n\u001b[0;32m    880\u001b[0m         collection[\u001b[38;5;124m\"\u001b[39m\u001b[38;5;124mdimension\u001b[39m\u001b[38;5;124m\"\u001b[39m] \u001b[38;5;241m=\u001b[39m dim\n\u001b[0;32m    881\u001b[0m \u001b[38;5;28;01melif\u001b[39;00m collection[\u001b[38;5;124m\"\u001b[39m\u001b[38;5;124mdimension\u001b[39m\u001b[38;5;124m\"\u001b[39m] \u001b[38;5;241m!=\u001b[39m dim:\n\u001b[1;32m--> 882\u001b[0m     \u001b[38;5;28;01mraise\u001b[39;00m InvalidDimensionException(\n\u001b[0;32m    883\u001b[0m         \u001b[38;5;124mf\u001b[39m\u001b[38;5;124m\"\u001b[39m\u001b[38;5;124mEmbedding dimension \u001b[39m\u001b[38;5;132;01m{\u001b[39;00mdim\u001b[38;5;132;01m}\u001b[39;00m\u001b[38;5;124m does not match collection dimensionality \u001b[39m\u001b[38;5;132;01m{\u001b[39;00mcollection[\u001b[38;5;124m'\u001b[39m\u001b[38;5;124mdimension\u001b[39m\u001b[38;5;124m'\u001b[39m]\u001b[38;5;132;01m}\u001b[39;00m\u001b[38;5;124m\"\u001b[39m\n\u001b[0;32m    884\u001b[0m     )\n\u001b[0;32m    885\u001b[0m \u001b[38;5;28;01melse\u001b[39;00m:\n\u001b[0;32m    886\u001b[0m     \u001b[38;5;28;01mreturn\u001b[39;00m\n",
      "\u001b[1;31mInvalidDimensionException\u001b[0m: Embedding dimension 384 does not match collection dimensionality 1024"
     ]
    }
   ],
   "source": [
    "# OJO AL PIOJO!!\n",
    "\n",
    "results = collection.query(\n",
    "    query_texts=[\"This is a query document about hawaii\"], # Chroma will embed this for you\n",
    "    n_results=2 # how many results to return\n",
    ")\n",
    "print(results)"
   ]
  },
  {
   "cell_type": "code",
   "execution_count": null,
   "id": "d6d6e5b6-b363-462c-b9d1-093fd7473768",
   "metadata": {},
   "outputs": [],
   "source": []
  },
  {
   "cell_type": "code",
   "execution_count": null,
   "id": "2fe329c3-4379-4ae3-b935-13a2c0222ed6",
   "metadata": {},
   "outputs": [],
   "source": []
  },
  {
   "cell_type": "code",
   "execution_count": null,
   "id": "9da430f1-5b29-4301-870f-dfc4cbc83ef8",
   "metadata": {},
   "outputs": [],
   "source": []
  },
  {
   "cell_type": "code",
   "execution_count": null,
   "id": "b260d62e-13de-407b-899f-1808d6f5f113",
   "metadata": {},
   "outputs": [],
   "source": []
  },
  {
   "cell_type": "code",
   "execution_count": 29,
   "id": "e6966a16-8bb3-4208-b077-fe1c5ff364e8",
   "metadata": {},
   "outputs": [
    {
     "name": "stdout",
     "output_type": "stream",
     "text": [
      "{'ids': [['id3', 'id1']], 'embeddings': None, 'documents': [['This is a document about dogs', 'This is a document about pineapple']], 'uris': None, 'data': None, 'metadatas': [[None, None]], 'distances': [[0.29931527376174927, 0.7999714612960815]], 'included': [<IncludeEnum.distances: 'distances'>, <IncludeEnum.documents: 'documents'>, <IncludeEnum.metadatas: 'metadatas'>]}\n"
     ]
    }
   ],
   "source": [
    "cohere_embedding_query = get_embeddings(['This is a query document about animals'])\n",
    "\n",
    "results = collection.query(\n",
    "    query_embeddings=cohere_embedding_query,\n",
    "    n_results=2 # how many results to return\n",
    ")\n",
    "print(results)"
   ]
  },
  {
   "cell_type": "code",
   "execution_count": 30,
   "id": "8267492d-b85a-44f5-ae4a-e1315a2fba5a",
   "metadata": {},
   "outputs": [
    {
     "name": "stdout",
     "output_type": "stream",
     "text": [
      "{\n",
      "  \"ids\": [\n",
      "    [\n",
      "      \"id3\",\n",
      "      \"id1\"\n",
      "    ]\n",
      "  ],\n",
      "  \"embeddings\": null,\n",
      "  \"documents\": [\n",
      "    [\n",
      "      \"This is a document about dogs\",\n",
      "      \"This is a document about pineapple\"\n",
      "    ]\n",
      "  ],\n",
      "  \"uris\": null,\n",
      "  \"data\": null,\n",
      "  \"metadatas\": [\n",
      "    [\n",
      "      null,\n",
      "      null\n",
      "    ]\n",
      "  ],\n",
      "  \"distances\": [\n",
      "    [\n",
      "      0.29931527376174927,\n",
      "      0.7999714612960815\n",
      "    ]\n",
      "  ],\n",
      "  \"included\": [\n",
      "    \"distances\",\n",
      "    \"documents\",\n",
      "    \"metadatas\"\n",
      "  ]\n",
      "}\n"
     ]
    }
   ],
   "source": [
    "print(json.dumps(results, indent=2))"
   ]
  },
  {
   "cell_type": "code",
   "execution_count": null,
   "id": "842cad80-7f34-499c-b7f5-d384ab297a82",
   "metadata": {},
   "outputs": [],
   "source": []
  },
  {
   "attachments": {
    "ffce0440-145f-43db-b8b1-565adf1f02e3.png": {
     "image/png": "[encoded data removed]"
    }
   },
   "cell_type": "markdown",
   "id": "2ca77700-414c-4c25-ad01-e1207ec41d00",
   "metadata": {},
   "source": [
    "Otra opcion de cargar la base con modelos de embeddings agenos a chroma\n",
    "\n",
    "https://docs.trychroma.com/guides\n",
    "\n",
    "![image.png](attachment:ffce0440-145f-43db-b8b1-565adf1f02e3.png)\n",
    "\n"
   ]
  },
  {
   "cell_type": "code",
   "execution_count": 45,
   "id": "e5a93610-9952-4176-89cf-cfbe11304a8e",
   "metadata": {},
   "outputs": [],
   "source": [
    "#client.delete_collection(name=\"mi_coleccion\")"
   ]
  },
  {
   "cell_type": "code",
   "execution_count": 33,
   "id": "9c5914d4-2e4c-4712-80af-520f2166ed54",
   "metadata": {},
   "outputs": [],
   "source": [
    "from chromadb import Documents, EmbeddingFunction, Embeddings"
   ]
  },
  {
   "cell_type": "code",
   "execution_count": 34,
   "id": "cedd328e-bc4a-4932-b1c4-e493ba052034",
   "metadata": {},
   "outputs": [],
   "source": [
    "# Define la función para obtener embeddings de Cohere\n",
    "def get_embeddings(textos):\n",
    "    response = co.embed(\n",
    "        texts=textos,\n",
    "        model=\"embed-multilingual-v3.0\",\n",
    "        input_type=\"search_document\",\n",
    "        embedding_types=[\"float\"],\n",
    "    )\n",
    "    return response.embeddings.float_  # Cohere devuelve embeddings como una lista de listas\n",
    "\n",
    "\n",
    "# Crea la clase personalizada de EmbeddingFunction para ChromaDB\n",
    "class MyEmbeddingFunction(EmbeddingFunction):\n",
    "    def __call__(self, input: Documents) -> Embeddings:\n",
    "        # Llama a la función de Cohere para obtener las embeddings\n",
    "        return get_embeddings(input)  # input es una lista de textos"
   ]
  },
  {
   "cell_type": "code",
   "execution_count": null,
   "id": "6d91b6e4-4eee-4b96-b5f7-920e5e7a02ff",
   "metadata": {},
   "outputs": [],
   "source": []
  },
  {
   "cell_type": "code",
   "execution_count": 35,
   "id": "df40163f-171e-43e7-b5e0-1f3f1aecb58a",
   "metadata": {},
   "outputs": [
    {
     "name": "stdout",
     "output_type": "stream",
     "text": [
      "{\n",
      "  \"ids\": [\n",
      "    [\n",
      "      \"id1\",\n",
      "      \"id3\"\n",
      "    ]\n",
      "  ],\n",
      "  \"embeddings\": null,\n",
      "  \"documents\": [\n",
      "    [\n",
      "      \"This is a document about pineapple\",\n",
      "      \"This is a document about dogs\"\n",
      "    ]\n",
      "  ],\n",
      "  \"uris\": null,\n",
      "  \"data\": null,\n",
      "  \"metadatas\": [\n",
      "    [\n",
      "      null,\n",
      "      null\n",
      "    ]\n",
      "  ],\n",
      "  \"distances\": [\n",
      "    [\n",
      "      0.33927154541015625,\n",
      "      0.3964487910270691\n",
      "    ]\n",
      "  ],\n",
      "  \"included\": [\n",
      "    \"distances\",\n",
      "    \"documents\",\n",
      "    \"metadatas\"\n",
      "  ]\n",
      "}\n"
     ]
    }
   ],
   "source": [
    "# Crea una instancia del cliente de ChromaDB\n",
    "client = chromadb.Client()\n",
    "\n",
    "# Crea una colección usando la función de embeddings personalizada\n",
    "collection = client.create_collection(name=\"mi_coleccion\",\n",
    "                                      embedding_function=MyEmbeddingFunction(),\n",
    "                                       metadata={\"hnsw:space\": \"ip\"}\n",
    "                                     )\n",
    "\n",
    "# Cargar la data en la base\n",
    "\n",
    "collection.add(\n",
    "    documents=[\n",
    "        \"This is a document about pineapple\",\n",
    "        \"This is a document about oranges\",\n",
    "        \"This is a document about dogs\"\n",
    "        \n",
    "    ],\n",
    "    ids=[\"id1\", \"id2\", \"id3\"]\n",
    ")\n",
    "\n",
    "# Consultar sobre la base\n",
    "\n",
    "results = collection.query(\n",
    "    query_texts=[\"This is a query document about hawaii\"], # Chroma will embed this for you\n",
    "    n_results=2 # how many results to return\n",
    ")\n",
    "print(json.dumps(results, indent=2))"
   ]
  },
  {
   "cell_type": "code",
   "execution_count": null,
   "id": "8cb5ed0f-8160-48d9-86de-5a42296d1fd6",
   "metadata": {},
   "outputs": [],
   "source": []
  },
  {
   "cell_type": "code",
   "execution_count": null,
   "id": "d1b281f3-ec71-49ac-92e0-f5bc9e38fb30",
   "metadata": {},
   "outputs": [],
   "source": []
  },
  {
   "cell_type": "markdown",
   "id": "c40c8047-0de4-406d-b9c6-1fdf04a0c754",
   "metadata": {},
   "source": [
    "## Ejercicios\n",
    "\n",
    "Utilizar la base de datos vectorial para resolver los siguientes ejercicios.\n",
    "\n",
    "Probar en ambos casos como funcionan los embeddings por defecto de chroma y los embeddings de cohere."
   ]
  },
  {
   "cell_type": "markdown",
   "id": "0ed3d6f8-ee7b-4cdc-85bc-837855044d42",
   "metadata": {},
   "source": [
    "1 - \n",
    "Un negocio tiene productos mal etiquetados por el encargado de turno, a cada producto debe ponerle el nombre que le da el fabricante y no el que le puso el encargado de turno.\n",
    "\n",
    "Para ello desarrollar un programa que para cada producto de la lista [productos_mal_etiquetados] encuentre su producto asociado del maestro [productos_fabricante]"
   ]
  },
  {
   "cell_type": "code",
   "execution_count": null,
   "id": "ebf140eb-e441-4ed9-bd63-8968d65f53f1",
   "metadata": {},
   "outputs": [],
   "source": [
    "# Productos a etiquetar\n",
    "productos_mal_etiquetados = [\n",
    "    \"Arroz Grano Largo 5kg\",\n",
    "    \"Leche Entera 1 L\",\n",
    "    \"Harina de Trigo\",\n",
    "    \"Grasa vegetal 500 cc\",\n",
    "    \"Aceite 0.5 L\",\n",
    "    \"Litro fruta citrico\",\n",
    "    \"Arroz Largo 5 kilogramos\",\n",
    "    \"Derivado de la vaca\",\n",
    "    \"Harina 0000\",\n",
    "    \"Naranja exprimida por litro\"\n",
    "]\n",
    "\n",
    "# Productos base (con unidades correctas)\n",
    "productos_fabricante = [\n",
    "    \"Arroz Grano Largo 5 kg\",\n",
    "    \"Leche Entera 1 Litro\",\n",
    "    \"Harina de Trigo 1 Kg\",\n",
    "    \"Aceite de Oliva 500 ml\",\n",
    "    \"Jugo de Naranja 1 L\"\n",
    "]"
   ]
  },
  {
   "cell_type": "code",
   "execution_count": null,
   "id": "fb3f9b54-e1cf-4784-9f43-6dc7311b8655",
   "metadata": {},
   "outputs": [],
   "source": []
  },
  {
   "cell_type": "code",
   "execution_count": null,
   "id": "6aa28ce8-d9f9-411c-9639-edc38311bd7f",
   "metadata": {},
   "outputs": [],
   "source": []
  },
  {
   "cell_type": "code",
   "execution_count": null,
   "id": "72323719-d779-4249-938c-9206cb17c4ef",
   "metadata": {},
   "outputs": [],
   "source": []
  },
  {
   "cell_type": "markdown",
   "id": "1ae3601f-b15d-4079-89ed-9ac0f290a40c",
   "metadata": {},
   "source": [
    "2 - \n",
    "Una persona quiere consultar sobre comics de ciertas tematicas, elaborar un buscador que permita al fan buscar el comic mas adecuado para su consulta."
   ]
  },
  {
   "cell_type": "code",
   "execution_count": 49,
   "id": "0967cdec-783e-4374-84fe-8c9b8db26b3a",
   "metadata": {},
   "outputs": [],
   "source": [
    "# Temáticas de cómics consultadas\n",
    "consultas_del_fan = [\n",
    "    \"Historias de dioses y héroes en mundos cibernéticos futuristas.\",\n",
    "    \"Batallas entre planetas \",\n",
    "    \"Aventuras en mundos rodeados de agua\"\n",
    "]\n",
    "\n",
    "# Lista de cómics con sus descripciones\n",
    "comics = [\n",
    "    {\"titulo\": \"Zeus 3000\", \"descripcion\": \"En un futuro dominado por IA, Zeus regresa como un androide para restaurar el orden. La guerra contra Hades, un virus descontrolado, desata un conflicto épico entre dioses cibernéticos. Los humanos luchan por sobrevivir entre mitos digitales y realidades virtuales.\"},\n",
    "    \n",
    "    {\"titulo\": \"La Última Semilla\",\"descripcion\": \"Tras un colapso ambiental, la Tierra está dominada por selvas inteligentes. Asha, la última botánica, debe proteger la 'semilla del renacer'. Robots cosechadores y fuerzas corporativas buscan destruirla, mientras ella lucha por restaurar la vida humana en un planeta vengativo.\"},\n",
    "    \n",
    "    {\"titulo\": \"Neón en la Lluvia\", \"descripcion\": \"Un detective cibernético en Nueva Neo-Tokio investiga asesinatos en serie donde las víctimas aparecen sin recuerdos. Las pistas lo llevan a un club de neón donde los secretos más oscuros se ocultan entre luces artificiales. Cada caso revela un mundo corrupto de IA y humanos perdidos.\"},\n",
    "    \n",
    "    {\"titulo\": \"Batallas Estelares: Resistencia\",  \"descripcion\": \"En un sistema planetario controlado por un imperio galáctico, un grupo de rebeldes lucha por la libertad. Aventuras interplanetarias, batallas espaciales y alianzas inesperadas marcan el destino de las civilizaciones oprimidas.\"},\n",
    "    \n",
    "    {\"titulo\": \"Los Guardianes del Tiempo\", \"descripcion\": \"Un grupo de viajeros temporales, encargados de proteger la línea temporal, descubre una conspiración para cambiar la historia. En cada era, enfrentan desafíos históricos, desde el antiguo Egipto hasta el futuro lejano, mientras luchan por mantener la realidad intacta.\"},\n",
    "    \n",
    "    {\"titulo\": \"Ciudad Sin Ley\", \"descripcion\": \"En un pueblo fronterizo, la ley ha desaparecido. Un forastero llega buscando justicia para su familia, enfrentándose a un grupo de bandidos despiadados. Entre duelos y traiciones, debe restaurar el orden o perder todo.\"},\n",
    "    \n",
    "    {\"titulo\": \"Misterios del Abismo\", \"descripcion\": \"En un futuro donde el océano es el único refugio, exploradores submarinos buscan una ciudad perdida bajo el mar. Misterios ancestrales y criaturas abisales amenazan su misión mientras intentan desvelar secretos que podrían salvar a la humanidad.\"},\n",
    "    \n",
    "    {\"titulo\": \"Crónicas del Dragón Cibernético\", \"descripcion\": \"Un dragón legendario ha renacido como código puro en un mundo virtual. Los héroes deben sumergirse en la realidad aumentada para enfrentar al dragón y evitar que destruya la infraestructura tecnológica que sostiene la civilización moderna.\"}\n",
    "]\n"
   ]
  },
  {
   "cell_type": "code",
   "execution_count": null,
   "id": "55727a0b-3f1d-47e8-88ef-4f43eac158bf",
   "metadata": {},
   "outputs": [],
   "source": []
  },
  {
   "cell_type": "code",
   "execution_count": null,
   "id": "b7fa219a-7fff-424e-9bb7-87b2ba160450",
   "metadata": {},
   "outputs": [],
   "source": []
  },
  {
   "cell_type": "code",
   "execution_count": null,
   "id": "3e4db993-1968-42f9-9eb7-3dd72c209291",
   "metadata": {},
   "outputs": [],
   "source": []
  },
  {
   "cell_type": "code",
   "execution_count": null,
   "id": "cf586500-a7e8-470e-ac3f-8a46b79e5b67",
   "metadata": {},
   "outputs": [],
   "source": []
  },
  {
   "cell_type": "markdown",
   "id": "86a28760-c2fa-4bc4-ac59-868ecaf6c795",
   "metadata": {},
   "source": [
    "3-  \n",
    "Buscar algun otro metodo de creacion de collection de chroma que me permita verificar si la coleccion ya existe (se recupera) o no (se crea).\n",
    "\n",
    "\n",
    "https://docs.trychroma.com/guides"
   ]
  },
  {
   "cell_type": "code",
   "execution_count": null,
   "id": "bbb4e23c-480e-4c79-b241-1a393168c355",
   "metadata": {},
   "outputs": [],
   "source": []
  },
  {
   "cell_type": "code",
   "execution_count": null,
   "id": "e2881a6c-8fb0-43a7-bb14-b2b3d49bd13b",
   "metadata": {},
   "outputs": [],
   "source": []
  }
 ],
 "metadata": {
  "kernelspec": {
   "display_name": "Python 3 (ipykernel)",
   "language": "python",
   "name": "python3"
  },
  "language_info": {
   "codemirror_mode": {
    "name": "ipython",
    "version": 3
   },
   "file_extension": ".py",
   "mimetype": "text/x-python",
   "name": "python",
   "nbconvert_exporter": "python",
   "pygments_lexer": "ipython3",
   "version": "3.10.9"
  }
 },
 "nbformat": 4,
 "nbformat_minor": 5
}

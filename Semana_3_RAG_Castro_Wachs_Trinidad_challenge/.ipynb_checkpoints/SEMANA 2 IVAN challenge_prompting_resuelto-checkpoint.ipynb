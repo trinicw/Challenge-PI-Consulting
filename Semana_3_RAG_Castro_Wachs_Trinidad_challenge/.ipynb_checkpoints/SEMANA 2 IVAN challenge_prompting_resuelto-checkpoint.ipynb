{
 "cells": [
  {
   "cell_type": "markdown",
   "id": "92de8ca4-7181-45f5-9980-b723d2566f5e",
   "metadata": {},
   "source": [
    "# Challenge Prompting\n",
    "\n",
    "Resolver los siguientes ejercicios dejando el codigo con su ejecucion.\n",
    "\n",
    "Importar las librerias necesarias y **correr las celdas para visualizar el resultado en cada ejercicio**."
   ]
  },
  {
   "cell_type": "code",
   "execution_count": 1,
   "id": "d65bbb09-0f5a-4e97-9a06-2361c5cdd1bd",
   "metadata": {},
   "outputs": [],
   "source": [
    "## bloque importacion de librerias\n",
    "\n",
    "import json\n",
    "import ipywidgets as widgets\n",
    "from IPython.display import display, clear_output"
   ]
  },
  {
   "cell_type": "code",
   "execution_count": 2,
   "id": "e004e5b7-b704-4592-b8b4-b01b8d6687cb",
   "metadata": {},
   "outputs": [
    {
     "name": "stdout",
     "output_type": "stream",
     "text": [
      "1OLq6QrEmdaZQLbmpVzXKwvlOWaTQNGGaTTcs1MJ\n"
     ]
    }
   ],
   "source": [
    "## bloque variables de entorno\n",
    "from dotenv import load_dotenv\n",
    "import os\n",
    "\n",
    "load_dotenv()  # Load .env file\n",
    "\n",
    "api_key = os.getenv(\"COHERE_API_KEY\")\n",
    "print(api_key)  # Verify the key is loaded\n"
   ]
  },
  {
   "cell_type": "code",
   "execution_count": 4,
   "id": "cd6745ff-cd45-4231-b3d6-518954a9ffca",
   "metadata": {},
   "outputs": [
    {
     "name": "stdout",
     "output_type": "stream",
     "text": [
      "id='44cdb80c-9495-48df-8260-beaaea5f27a1' finish_reason='COMPLETE' prompt=None message=AssistantMessageResponse(role='assistant', tool_calls=None, tool_plan=None, content=[TextAssistantMessageResponseContentItem(type='text', text='Hello! How can I help you today?')], citations=None) usage=Usage(billed_units=UsageBilledUnits(input_tokens=3.0, output_tokens=9.0, search_units=None, classifications=None), tokens=UsageTokens(input_tokens=204.0, output_tokens=9.0)) logprobs=None\n"
     ]
    }
   ],
   "source": [
    "## bloque conexion a Cohere\n",
    "import cohere\n",
    "\n",
    "co = cohere.ClientV2()\n",
    "# alternativa:\n",
    "# co = cohere.ClientV2(api_key)\n",
    "\n",
    "response = co.chat(\n",
    "    model=\"command-r-plus-08-2024\",\n",
    "    messages=[{\"role\": \"user\", \"content\": \"hello world!\"}],\n",
    ")\n",
    "\n",
    "print(response)\n",
    "\n"
   ]
  },
  {
   "cell_type": "markdown",
   "id": "9aacdb26-ce51-49cc-b37f-5aa45c09ff51",
   "metadata": {},
   "source": [
    "## Ejercicio 1\n",
    "\n",
    "Extraccion de entidades\n",
    "\n",
    "Utilizar el LLM para extraer las siguientes entidades del texto medico.\n",
    "\n",
    "- Paciente:\n",
    "    - Nombre\n",
    "    - Edad\n",
    "- Fecha de admisión\n",
    "- Síntomas\n",
    "- Diagnóstico\n",
    "- Tratamiento recomendado\n",
    "\n",
    "**Aclaracion:** \n",
    "\n",
    "La salida tiene que ser un **string con formato de tipo json**, el cual se convertira en un diccionario de Python.\n",
    "\n",
    "Si la linea de conversion en test da error el ejercicio no esta completo."
   ]
  },
  {
   "cell_type": "code",
   "execution_count": null,
   "id": "750e43d7-b074-4973-9cd0-5a6fbe816084",
   "metadata": {},
   "outputs": [],
   "source": [
    "# ejemplo \n",
    "\n",
    "# texto a analizar\n",
    "\"\"\"La paciente, María González, de 45 años, fue admitida en el Hospital Central el 5 de agosto de 2023 debido a síntomas de fatiga crónica y dolores musculares./\n",
    "Tras una serie de análisis, se diagnosticó fibromialgia. La doctora a cargo, Laura Ramírez, recomendó un tratamiento basado en fisioterapia y medicamentos analgésicos. /\n",
    "La próxima consulta está programada para el 15 de septiembre.\"\"\"\n",
    "\n",
    "\n",
    "# respuesta del LLM\n",
    "{\n",
    "  \"paciente\": {\n",
    "    \"nombre\": \"María González\",\n",
    "    \"edad\": 45\n",
    "  },\n",
    "  \"fecha_admision\": \"2023-08-05\",\n",
    "  \"sintomas\": [\n",
    "    \"fatiga crónica\",\n",
    "    \"dolores musculares\"\n",
    "  ],\n",
    "  \"diagnostico\": \"fibromialgia\",\n",
    "  \"tratamiento\": [\n",
    "    \"fisioterapia\",\n",
    "    \"medicamentos analgésicos\"\n",
    "  ]\n",
    "}"
   ]
  },
  {
   "cell_type": "code",
   "execution_count": null,
   "id": "0ac8d0a6-db5c-4eec-9f71-89e60ceaf914",
   "metadata": {},
   "outputs": [],
   "source": [
    "#####"
   ]
  },
  {
   "cell_type": "code",
   "execution_count": 215,
   "id": "425cffab-9efd-4d80-bc64-6ef69ce233e1",
   "metadata": {},
   "outputs": [],
   "source": [
    "text_to_analize = \"\"\"Sofía López, de 28 años, ingresó al Hospital Infantil el 3 de abril de 2023 debido a fiebre alta y tos persistente./\n",
    "Después de varias pruebas, se le diagnosticó neumonía. La pediatra responsable, Dra. Claudia Torres, indicó tratamiento con antibióticos y reposo./\n",
    "La próxima evaluación será el 10 de abril.\"\"\""
   ]
  },
  {
   "cell_type": "code",
   "execution_count": 230,
   "id": "ad955026-cb56-41e8-8b3e-db801ce96dd7",
   "metadata": {},
   "outputs": [],
   "source": [
    "#text_to_analize = \"\"\"El 20 de octubre de 2023, Miguel Castro, de 35 años, fue intervenido en el Hospital General para una cirugía de reconstrucción del ligamento cruzado anterior. La operación fue realizada por el Dr. Ernesto Salinas, especialista en ortopedia. Se recomendó un programa de rehabilitación de 6 meses. La primera sesión de fisioterapia está agendada para el 30 de octubre.\"\"\""
   ]
  },
  {
   "cell_type": "code",
   "execution_count": 233,
   "id": "0198ce15-6652-47f3-af29-7dc4a6566bd4",
   "metadata": {},
   "outputs": [],
   "source": [
    "json_sample_format = {\n",
    "  \"paciente\": [{\n",
    "    \"nombre\": \"string\",\n",
    "    \"edad\": \"integer\"\n",
    "  }],\n",
    "  \"fecha_admision\": \"string\",\n",
    "  \"sintomas\": [\n",
    "    \"string\"\n",
    "  ],\n",
    "  \"diagnostico\": \"string\",\n",
    "  \"tratamiento\": [\n",
    "    \"string\"\n",
    "  ]\n",
    "}"
   ]
  },
  {
   "cell_type": "code",
   "execution_count": 234,
   "id": "847688f0-5f13-464b-a0b8-c6df33ac1e06",
   "metadata": {},
   "outputs": [
    {
     "name": "stdout",
     "output_type": "stream",
     "text": [
      "{\n",
      "  \"paciente\": [\n",
      "    {\n",
      "      \"nombre\": \"string\",\n",
      "      \"edad\": \"integer\"\n",
      "    }\n",
      "  ],\n",
      "  \"fecha_admision\": \"string\",\n",
      "  \"sintomas\": [\n",
      "    \"string\"\n",
      "  ],\n",
      "  \"diagnostico\": \"string\",\n",
      "  \"tratamiento\": [\n",
      "    \"string\"\n",
      "  ]\n",
      "}\n"
     ]
    }
   ],
   "source": [
    "print(json.dumps(json_sample_format, indent=2))"
   ]
  },
  {
   "cell_type": "code",
   "execution_count": 235,
   "id": "2ff6d292-d4cb-4484-811e-d0d641c66d1c",
   "metadata": {},
   "outputs": [],
   "source": [
    "# your code here\n",
    "\n",
    "system_prompt = \"\"\"Sos un experto en extracción de datos medicos.\n",
    "Solo extraer información relevante del texto.\n",
    "Sino conoces el valor de un atributo, devolver vacío.\n",
    "\"\"\"\n",
    "prompt = f\"\"\" Extraer del texto los siguientes atributos\n",
    "\n",
    "    ### \n",
    "    Atributos a extraer:\n",
    "    - nombre = nombre del paciente\n",
    "    - edad = edad del paciente\n",
    "    - fecha_admision = fecha en la que ingresa el paciente al establecimiento medico\n",
    "    - sintomas = lista de sintomas que presenta el paciente\n",
    "    - diagnostico = diagnostico que se le hace al paciente\n",
    "    - tratamiento = tratamiento a llevar a cabo\n",
    "\n",
    "    ###\n",
    "    Texto:\n",
    "    {text_to_analize}\n",
    "    \n",
    "    ###\n",
    "    Recuerda, la salida debe ser en formato json con la siguiente estructura:\n",
    "\n",
    "    {json.dumps(json_sample_format, indent=2)}\n",
    "\n",
    "\n",
    "    \"\"\"\n",
    "\n",
    "\n",
    "response = co.chat(\n",
    "    model=\"command-r-plus-08-2024\",\n",
    "    messages=[{\"role\": \"system\", \"content\": system_prompt},\n",
    "             {\"role\": \"user\", \"content\": prompt}],\n",
    "    )\n",
    "\n",
    "\n"
   ]
  },
  {
   "cell_type": "code",
   "execution_count": 236,
   "id": "38a630c1-3de9-4d53-ab86-f7a2f5e3abaf",
   "metadata": {},
   "outputs": [
    {
     "name": "stdout",
     "output_type": "stream",
     "text": [
      "{\n",
      "    \"paciente\": [\n",
      "        {\n",
      "            \"nombre\": \"Miguel Castro\",\n",
      "            \"edad\": 35\n",
      "        }\n",
      "    ],\n",
      "    \"fecha_admision\": \"20 de octubre de 2023\",\n",
      "    \"sintomas\": [],\n",
      "    \"diagnostico\": \"Lesión del ligamento cruzado anterior\",\n",
      "    \"tratamiento\": [\n",
      "        \"Cirugía de reconstrucción\",\n",
      "        \"Programa de rehabilitación de 6 meses\",\n",
      "        \"Fisioterapia\"\n",
      "    ]\n",
      "}\n"
     ]
    }
   ],
   "source": [
    "print(response.message.content[0].text)"
   ]
  },
  {
   "cell_type": "code",
   "execution_count": null,
   "id": "2ad2d498-a6bd-4921-965d-013364cbbfad",
   "metadata": {},
   "outputs": [],
   "source": []
  },
  {
   "cell_type": "code",
   "execution_count": 237,
   "id": "6f6f0009-8a9c-49a3-b740-d73e0dbe765e",
   "metadata": {},
   "outputs": [],
   "source": [
    "# test\n",
    "\n",
    "final_result = json.loads(response.message.content[0].text)"
   ]
  },
  {
   "cell_type": "code",
   "execution_count": 238,
   "id": "09ef55dd-71f7-4482-82ab-eec1a49d4d45",
   "metadata": {},
   "outputs": [
    {
     "data": {
      "text/plain": [
       "{'paciente': [{'nombre': 'Miguel Castro', 'edad': 35}],\n",
       " 'fecha_admision': '20 de octubre de 2023',\n",
       " 'sintomas': [],\n",
       " 'diagnostico': 'Lesión del ligamento cruzado anterior',\n",
       " 'tratamiento': ['Cirugía de reconstrucción',\n",
       "  'Programa de rehabilitación de 6 meses',\n",
       "  'Fisioterapia']}"
      ]
     },
     "execution_count": 238,
     "metadata": {},
     "output_type": "execute_result"
    }
   ],
   "source": [
    "final_result"
   ]
  },
  {
   "cell_type": "code",
   "execution_count": null,
   "id": "43b9e02e-7223-4b02-a034-c82d9f31658b",
   "metadata": {},
   "outputs": [],
   "source": []
  },
  {
   "cell_type": "markdown",
   "id": "34aa9e25-0ea6-4e1b-bbe3-081ad1d031b0",
   "metadata": {},
   "source": [
    "Otras formas de resolverlo\n",
    "\n",
    "- Agregar few shot example, ejemplos de texto de entrada y como debe ser el json de salida,\n",
    "\n",
    "- Agregar verificaciones por codigo (regex, string manipulation, etc), a veces hay que hardcodear la salida.\n",
    "\n",
    "- Utilizar parametro de los modelos *response_format*.\n",
    "\n",
    "- Usar function calling y que el formato los arguments de la tool sea el json de respuesta.\n",
    "\n",
    "https://docs.cohere.com/reference/chat\n",
    "\n",
    "https://platform.openai.com/docs/guides/structured-outputs#examples\n"
   ]
  },
  {
   "cell_type": "code",
   "execution_count": null,
   "id": "d97b9ccb-7f95-4f4c-ab60-e809a3390f53",
   "metadata": {},
   "outputs": [],
   "source": []
  },
  {
   "cell_type": "code",
   "execution_count": null,
   "id": "98fb61a4-d2a1-426d-8544-19c44292e362",
   "metadata": {},
   "outputs": [],
   "source": []
  },
  {
   "cell_type": "code",
   "execution_count": null,
   "id": "f3523361-6caa-4fdd-8708-49af5e200a9d",
   "metadata": {},
   "outputs": [],
   "source": []
  },
  {
   "cell_type": "code",
   "execution_count": null,
   "id": "4bb6c5a1-cd3b-4dd1-bf49-00a835d04c2b",
   "metadata": {},
   "outputs": [],
   "source": []
  },
  {
   "cell_type": "markdown",
   "id": "b37fbf25-6db4-432a-82c4-2e7edce27686",
   "metadata": {},
   "source": [
    "## Ejercicio 2\n",
    "\n",
    "Tenemos dos funciones en Python, una llamada *'add_contact'* y otra llamada *'get_information'*.\n",
    "\n",
    "**Utilizar algun LLM que permita funtion calling** y desarrollar un codigo secuencial automatico que consiga:\n",
    "\n",
    "Interpretar la consulta del usuario, identificar a que funcion llamar, luego llamarla (si es que aplica) y darle una respuesta final al usuario.  (usar function calling para esta solucion)\n",
    "\n",
    "La entrada a dicho codigo es la consulta del usuario, a continuacion algunos ejemplos:\n",
    "\n",
    "- \"Agrega a Juan Pérez con el número 555-1234 y el correo juanperez@mail.com.\"\n",
    "- \"Guarda a Lucía Gómez en mis contactos. Su teléfono es 555-5678 y su email es lucia.gomez@gmail.com.\"\n",
    "- \"Cual es el Email de Juan Pérez.?\"\n",
    "\n",
    "Salidas esperadas de dichos ejemplos (variaran porque las genera el LLM):\n",
    "-  El contacto fue anadido con exito\n",
    "-  Se anadio el contacto\n",
    "-  El email de juan perez es juanperez@mail.com\n",
    "\n",
    "Link de ayuda: https://github.com/cohere-ai/notebooks/blob/main/notebooks/agents/Vanilla_Tool_Use_v2.ipynb"
   ]
  },
  {
   "cell_type": "code",
   "execution_count": 287,
   "id": "c6e43cb9-5e6a-4807-9818-c85408f1ba58",
   "metadata": {},
   "outputs": [],
   "source": [
    "def add_contact(name, phone, email):\n",
    "    \"\"\"\n",
    "    Agrega un contacto al diccionario.\n",
    "    Parámetros:\n",
    "        name (str): Nombre del contacto.\n",
    "        phone (str): Número de teléfono del contacto.\n",
    "        email (str): Correo electrónico del contacto.\n",
    "    Retorna:\n",
    "        str: Mensaje confirmando la adición del contacto.\n",
    "    \"\"\"\n",
    "    contacts[name] = {'phone': phone, 'email': email}\n",
    "    return {'Respuesta': \"Contacto añadido con éxito.\"}\n",
    "\n",
    "def get_information(name):\n",
    "    \"\"\"\n",
    "    Recupera la información de un contacto.\n",
    "    Parámetros:\n",
    "        name (str): Nombre del contacto.\n",
    "    Retorna:\n",
    "        dict/str: Información del contacto o un mensaje si no existe.\n",
    "    \"\"\"\n",
    "    if name in contacts:\n",
    "        return contacts[name]\n",
    "    else:\n",
    "        return  {'Respuesta': \"Contacto no encontrado.\"}"
   ]
  },
  {
   "cell_type": "code",
   "execution_count": 288,
   "id": "0fb79ea5-4ae3-4367-8213-8c38059b3f1b",
   "metadata": {},
   "outputs": [],
   "source": [
    "contacts = {\n",
    "                        'Pedro Sander':{'tel': 15456663258, 'mail': 'PedritoElSander@gmail.com'},\n",
    "                      'Flavio Oncativo':{'tel': 1545554178, 'mail': 'FOncativo@hotmail.com'}\n",
    "}"
   ]
  },
  {
   "cell_type": "code",
   "execution_count": 292,
   "id": "7d3bed9a-d5d1-49c3-b91b-8cd23bb9c9ab",
   "metadata": {},
   "outputs": [
    {
     "data": {
      "text/plain": [
       "{'Pedro Sander': {'tel': 15456663258, 'mail': 'PedritoElSander@gmail.com'},\n",
       " 'Flavio Oncativo': {'tel': 1545554178, 'mail': 'FOncativo@hotmail.com'}}"
      ]
     },
     "execution_count": 292,
     "metadata": {},
     "output_type": "execute_result"
    }
   ],
   "source": [
    "contacts"
   ]
  },
  {
   "cell_type": "code",
   "execution_count": null,
   "id": "4cb8409c-2b34-4268-860a-3137ec52e6ad",
   "metadata": {},
   "outputs": [],
   "source": [
    "# Resolucion"
   ]
  },
  {
   "cell_type": "markdown",
   "id": "3bca9b00-68b2-4cb1-a39a-9f9c93851b04",
   "metadata": {},
   "source": [
    "##### Definiciones"
   ]
  },
  {
   "cell_type": "code",
   "execution_count": 289,
   "id": "59ef65e2-3889-4c98-9e2d-7102e110112d",
   "metadata": {},
   "outputs": [],
   "source": [
    "# Definicion de las tools\n",
    "\n",
    "tools = [\n",
    "    {\n",
    "        \"type\": \"function\",\n",
    "        \"function\": {\n",
    "            \"name\": \"add_contact\",\n",
    "            \"description\": \"Agrega un contacto al directorio.\",\n",
    "            \"parameters\": {\n",
    "                \"type\": \"object\",\n",
    "                \"properties\": {\n",
    "                    \"name\": {\n",
    "                        \"type\": \"string\",\n",
    "                        \"description\": \"Nombre del contacto.\"\n",
    "                    },\n",
    "                    \"phone\": {\n",
    "                        \"type\": \"string\",\n",
    "                        \"description\": \"Número de teléfono del contacto.\"\n",
    "                    },\n",
    "                    \"email\": {\n",
    "                        \"type\": \"string\",\n",
    "                        \"description\": \"Correo electrónico del contacto.\"\n",
    "                    }\n",
    "                },\n",
    "                \"required\": [\"name\", \"phone\", \"email\"]\n",
    "            }\n",
    "        }\n",
    "    },\n",
    "    {\n",
    "        \"type\": \"function\",\n",
    "        \"function\": {\n",
    "            \"name\": \"get_information\",\n",
    "            \"description\": \"Recupera la información de un contacto.\",\n",
    "            \"parameters\": {\n",
    "                \"type\": \"object\",\n",
    "                \"properties\": {\n",
    "                    \"name\": {\n",
    "                        \"type\": \"string\",\n",
    "                        \"description\": \"Nombre del contacto.\"\n",
    "                    }\n",
    "                },\n",
    "                \"required\": [\"name\"]\n",
    "            }\n",
    "        }\n",
    "    }\n",
    "]\n"
   ]
  },
  {
   "cell_type": "code",
   "execution_count": null,
   "id": "1c48ec52-e8dc-42b0-b953-ca4dd664e2f0",
   "metadata": {},
   "outputs": [],
   "source": [
    "# creo un diccionario con las funciones\n",
    "functions_map = {\n",
    "    \"add_contact\": add_contact,\n",
    "    \"get_information\": get_information\n",
    "}\n"
   ]
  },
  {
   "cell_type": "code",
   "execution_count": null,
   "id": "93aff2df-d381-4c5e-bbc1-fcdb30df502b",
   "metadata": {},
   "outputs": [],
   "source": []
  },
  {
   "cell_type": "code",
   "execution_count": null,
   "id": "6fb185dd-0166-4dfe-8bac-1f9f1324575e",
   "metadata": {},
   "outputs": [],
   "source": []
  },
  {
   "cell_type": "code",
   "execution_count": null,
   "id": "66209c61-b6a6-44a4-a144-8f02ef10acfd",
   "metadata": {},
   "outputs": [],
   "source": []
  },
  {
   "cell_type": "code",
   "execution_count": 293,
   "id": "ebc32f5e-e1bd-4aa9-84d5-079e966e1ab1",
   "metadata": {},
   "outputs": [],
   "source": [
    "# \n",
    "system_prompt = \"\"\" Sos un asistente cuyo tarea es responder preguntas y administrar un directorio de contactos de ciertas personas. /\n",
    "Contarás con acceso a motores de búsqueda o herramientas similares para ayudarte. \"\"\"\n"
   ]
  },
  {
   "cell_type": "code",
   "execution_count": null,
   "id": "78f152d4-d486-40a1-bff8-6c634acf4122",
   "metadata": {},
   "outputs": [],
   "source": [
    "# Cual es el Email de Flavio Oncativo?"
   ]
  },
  {
   "cell_type": "code",
   "execution_count": 317,
   "id": "dcb66ca3-754e-4c1c-83f0-676d9b6aa078",
   "metadata": {},
   "outputs": [
    {
     "name": "stdin",
     "output_type": "stream",
     "text": [
      "Ingrese su consulta como es el email de pedro sander?\n"
     ]
    }
   ],
   "source": [
    "consulta = input(\"Ingrese su consulta\")"
   ]
  },
  {
   "cell_type": "code",
   "execution_count": 318,
   "id": "f875f611-9a79-4335-854e-28dec43e23d3",
   "metadata": {},
   "outputs": [
    {
     "name": "stdout",
     "output_type": "stream",
     "text": [
      "como es el email de pedro sander?\n"
     ]
    }
   ],
   "source": [
    "print(consulta)"
   ]
  },
  {
   "cell_type": "code",
   "execution_count": null,
   "id": "c8fea03d-6317-4698-9da1-f2d0af1a7be5",
   "metadata": {},
   "outputs": [],
   "source": []
  },
  {
   "cell_type": "markdown",
   "id": "cfd8a569-c7a5-4f7f-9604-3b6e367c7efa",
   "metadata": {},
   "source": [
    "##### 1 -Request al modelo"
   ]
  },
  {
   "cell_type": "code",
   "execution_count": 319,
   "id": "64d0f2a1-272a-4d66-8342-8af2c75eb4e6",
   "metadata": {},
   "outputs": [],
   "source": [
    "messages=[{\"role\": \"system\", \"content\": system_prompt},\n",
    "          {\"role\": \"user\", \"content\": consulta}]\n",
    "\n",
    "response = co.chat(\n",
    "    model=\"command-r-plus-08-2024\",\n",
    "    messages=messages,\n",
    "    tools=tools\n",
    ")\n",
    "\n"
   ]
  },
  {
   "cell_type": "code",
   "execution_count": 302,
   "id": "f44c4576-fef6-4b09-97a0-78a8eaf0b8f3",
   "metadata": {},
   "outputs": [
    {
     "data": {
      "text/plain": [
       "ChatResponse(id='de0f3964-60b6-47a0-8dd7-89c378394f3f', finish_reason='COMPLETE', prompt=None, message=AssistantMessageResponse(role='assistant', tool_calls=None, tool_plan=None, content=[TextAssistantMessageResponseContentItem(type='text', text='Soy un asistente cuyo tarea es responder preguntas y administrar un directorio de contactos de ciertas personas.')], citations=None), usage=Usage(billed_units=UsageBilledUnits(input_tokens=92.0, output_tokens=23.0, search_units=None, classifications=None), tokens=UsageTokens(input_tokens=878.0, output_tokens=98.0)), logprobs=None)"
      ]
     },
     "execution_count": 302,
     "metadata": {},
     "output_type": "execute_result"
    }
   ],
   "source": [
    "response.message.tool_calls"
   ]
  },
  {
   "cell_type": "markdown",
   "id": "8a2158b8-b72e-4698-97a0-27201ac0893f",
   "metadata": {},
   "source": [
    "##### DEBO LLAMAR A UNA FUNCION??"
   ]
  },
  {
   "cell_type": "code",
   "execution_count": 320,
   "id": "6528c061-6c1a-4141-a89b-998fb9f5cf2b",
   "metadata": {},
   "outputs": [
    {
     "name": "stdout",
     "output_type": "stream",
     "text": [
      "Necesito llamar a una funcion, voy a agregar esta data al request\n"
     ]
    }
   ],
   "source": [
    "# verifico la salida del modelo, tengo que responderle al usuario o tengo que hacer el llamado a una funcion?\n",
    "# este seria un bloque if else en caso de automatizacion\n",
    "\n",
    "if response.message.tool_calls:\n",
    "    print(\"Necesito llamar a una funcion, voy a agregar esta data al request\")\n",
    "    messages.append({'role': 'assistant', 'tool_calls': response.message.tool_calls, 'tool_plan': response.message.tool_plan})\n",
    "else:\n",
    "    print(\"No hace falta llamar a la funcion, puedo responder al usuario la salida del modelo\\n\")\n",
    "    print(response.message.content[0].text)"
   ]
  },
  {
   "cell_type": "code",
   "execution_count": 132,
   "id": "7c9f0727-166f-4f43-98e1-3ba2faa499d1",
   "metadata": {},
   "outputs": [],
   "source": [
    "#response.message.tool_calls[0]"
   ]
  },
  {
   "cell_type": "code",
   "execution_count": 321,
   "id": "49b18e45-fead-407e-b9ae-0427131602e0",
   "metadata": {},
   "outputs": [
    {
     "data": {
      "text/plain": [
       "[{'role': 'system',\n",
       "  'content': ' Sos un asistente cuyo tarea es responder preguntas y administrar un directorio de contactos de ciertas personas. /\\nContarás con acceso a motores de búsqueda o herramientas similares para ayudarte. '},\n",
       " {'role': 'user', 'content': 'como es el email de pedro sander?'},\n",
       " {'role': 'assistant',\n",
       "  'tool_calls': [ToolCallV2(id='get_information_rx8cymqxrekb', type='function', function=ToolCallV2Function(name='get_information', arguments='{\"name\":\"Pedro Sander\"}'))],\n",
       "  'tool_plan': 'Primero buscaré el contacto de Pedro Sander y luego responderé a la pregunta.'}]"
      ]
     },
     "execution_count": 321,
     "metadata": {},
     "output_type": "execute_result"
    }
   ],
   "source": [
    "messages"
   ]
  },
  {
   "cell_type": "code",
   "execution_count": null,
   "id": "0f8654a8-c1fa-4df4-8e27-12dd5ab5745f",
   "metadata": {},
   "outputs": [],
   "source": []
  },
  {
   "cell_type": "markdown",
   "id": "8037164d-72e2-4c8e-990d-7321bca83bd1",
   "metadata": {},
   "source": [
    "##### AHORA SE EJECUTA A LA FUNCION"
   ]
  },
  {
   "cell_type": "code",
   "execution_count": 155,
   "id": "85066d92-c718-49c0-9192-48f40c2918eb",
   "metadata": {},
   "outputs": [],
   "source": [
    "# Ahora debo llamar a la funcion porque el modelo me lo pide, peeeero, a que funcion llamo??\n",
    "\n",
    "# a eso lo hago con el diccionario de las funciones"
   ]
  },
  {
   "cell_type": "code",
   "execution_count": 309,
   "id": "c5b49bb9-2e56-4a65-a623-43a789d05b00",
   "metadata": {},
   "outputs": [
    {
     "data": {
      "text/plain": [
       "{'add_contact': <function __main__.add_contact(name, phone, email)>,\n",
       " 'get_information': <function __main__.get_information(name)>}"
      ]
     },
     "execution_count": 309,
     "metadata": {},
     "output_type": "execute_result"
    }
   ],
   "source": [
    "functions_map"
   ]
  },
  {
   "cell_type": "code",
   "execution_count": 310,
   "id": "8e240122-c786-4cca-aa3c-ada566770055",
   "metadata": {},
   "outputs": [
    {
     "data": {
      "text/plain": [
       "'add_contact'"
      ]
     },
     "execution_count": 310,
     "metadata": {},
     "output_type": "execute_result"
    }
   ],
   "source": [
    "response.message.tool_calls[0].function.name"
   ]
  },
  {
   "cell_type": "code",
   "execution_count": 311,
   "id": "0538cb66-b7b3-4231-bfa9-8ca9816d129d",
   "metadata": {},
   "outputs": [
    {
     "data": {
      "text/plain": [
       "<function __main__.add_contact(name, phone, email)>"
      ]
     },
     "execution_count": 311,
     "metadata": {},
     "output_type": "execute_result"
    }
   ],
   "source": [
    "functions_map[response.message.tool_calls[0].function.name]"
   ]
  },
  {
   "cell_type": "code",
   "execution_count": 312,
   "id": "c503609e-4d99-4d9b-832c-24243c0748b5",
   "metadata": {},
   "outputs": [
    {
     "data": {
      "text/plain": [
       "'{\"email\":\"juanperez@mail.com\",\"name\":\"Juan Pérez\",\"phone\":\"555-1234\"}'"
      ]
     },
     "execution_count": 312,
     "metadata": {},
     "output_type": "execute_result"
    }
   ],
   "source": [
    "response.message.tool_calls[0].function.arguments"
   ]
  },
  {
   "cell_type": "code",
   "execution_count": 322,
   "id": "6add0551-768d-4899-a138-337dbcee39c4",
   "metadata": {},
   "outputs": [
    {
     "name": "stdout",
     "output_type": "stream",
     "text": [
      "Tool results that will be fed back to the model:\n",
      "{'type': 'document', 'document': {'data': '[\"tel\", 15456663258]'}}\n",
      "{'type': 'document', 'document': {'data': '[\"mail\", \"PedritoElSander@gmail.com\"]'}}\n"
     ]
    }
   ],
   "source": [
    "tool_content_v2 = []\n",
    "# Iterate over the tool calls generated by the model\n",
    "for tc in response.message.tool_calls:\n",
    "    # here is where you would call the tool recommended by the model, using the parameters recommended by the model\n",
    "    tool_result= functions_map[tc.function.name](**json.loads(tc.function.arguments))\n",
    "    # store the output in a list\n",
    "    #tool_content.append(json.dumps(tool_result))\n",
    "    \n",
    "    for data in tool_result.items():\n",
    "        tool_content_v2.append({\"type\": \"document\", \"document\": {\"data\": json.dumps(data)}})\n",
    "        # Optional: add an \"id\" field in the \"document\" object, otherwise IDs are auto-generated\n",
    "   \n",
    "    # append the chat history\n",
    "    messages.append(\n",
    "        {\"role\": \"tool\", \"tool_call_id\": tc.id, \"content\": tool_content_v2}\n",
    "    )\n",
    "\n",
    "print(\"Tool results that will be fed back to the model:\")\n",
    "for result in tool_content_v2:\n",
    "    print(result)"
   ]
  },
  {
   "cell_type": "code",
   "execution_count": null,
   "id": "5a6cf9f6-8987-472e-b377-7b6643ad5cba",
   "metadata": {},
   "outputs": [],
   "source": []
  },
  {
   "cell_type": "code",
   "execution_count": 314,
   "id": "6ddaf4d1-6ab9-4707-823d-11ada125b0f2",
   "metadata": {},
   "outputs": [
    {
     "data": {
      "text/plain": [
       "[{'role': 'system',\n",
       "  'content': ' Sos un asistente cuyo tarea es responder preguntas y administrar un directorio de contactos de ciertas personas. /\\nContarás con acceso a motores de búsqueda o herramientas similares para ayudarte. '},\n",
       " {'role': 'user',\n",
       "  'content': 'Agrega a Juan Pérez con el número 555-1234 y el correo juanperez@mail.com.'},\n",
       " {'role': 'assistant',\n",
       "  'tool_calls': [ToolCallV2(id='add_contact_w1pd508ga0gc', type='function', function=ToolCallV2Function(name='add_contact', arguments='{\"email\":\"juanperez@mail.com\",\"name\":\"Juan Pérez\",\"phone\":\"555-1234\"}'))],\n",
       "  'tool_plan': 'Voy a agregar a Juan Pérez con el número 555-1234 y el correo juanperez@mail.com.'},\n",
       " {'role': 'tool',\n",
       "  'tool_call_id': 'add_contact_w1pd508ga0gc',\n",
       "  'content': [{'type': 'document',\n",
       "    'document': {'data': '[\"Respuesta\", \"Contacto a\\\\u00f1adido con \\\\u00e9xito.\"]'}}]}]"
      ]
     },
     "execution_count": 314,
     "metadata": {},
     "output_type": "execute_result"
    }
   ],
   "source": [
    "messages"
   ]
  },
  {
   "cell_type": "code",
   "execution_count": 315,
   "id": "31aea49a-128c-413c-8bb7-d982be0d82a8",
   "metadata": {},
   "outputs": [
    {
     "data": {
      "text/plain": [
       "{'Pedro Sander': {'tel': 15456663258, 'mail': 'PedritoElSander@gmail.com'},\n",
       " 'Flavio Oncativo': {'tel': 1545554178, 'mail': 'FOncativo@hotmail.com'},\n",
       " 'Juan Pérez': {'phone': '555-1234', 'email': 'juanperez@mail.com'}}"
      ]
     },
     "execution_count": 315,
     "metadata": {},
     "output_type": "execute_result"
    }
   ],
   "source": [
    "contacts"
   ]
  },
  {
   "cell_type": "code",
   "execution_count": null,
   "id": "0e189ab1-fc51-439b-add1-796372389a9b",
   "metadata": {},
   "outputs": [],
   "source": []
  },
  {
   "cell_type": "code",
   "execution_count": null,
   "id": "c93906e9-8772-4a52-81fc-7151ecd5f57a",
   "metadata": {},
   "outputs": [],
   "source": []
  },
  {
   "cell_type": "markdown",
   "id": "c7252d53-8aec-4bd2-88ba-681ff274be22",
   "metadata": {},
   "source": [
    "##### Request al modelo nuevamente con el mensaje actualizado"
   ]
  },
  {
   "cell_type": "code",
   "execution_count": 323,
   "id": "fd493e62-be2f-4db2-9e6a-a5d44f73238f",
   "metadata": {},
   "outputs": [
    {
     "name": "stdout",
     "output_type": "stream",
     "text": [
      "El email de Pedro Sander es *PedritoElSander@gmail.com*.\n"
     ]
    }
   ],
   "source": [
    "response = co.chat(\n",
    "    model=\"command-r-plus\",\n",
    "    messages=messages,\n",
    "    tools=tools\n",
    ")\n",
    "\n",
    "print(response.message.content[0].text)"
   ]
  },
  {
   "cell_type": "code",
   "execution_count": null,
   "id": "26a41224-2d3f-4385-85b7-00a870913d2b",
   "metadata": {},
   "outputs": [],
   "source": []
  },
  {
   "cell_type": "code",
   "execution_count": 167,
   "id": "44d2ac80-3f2a-40d1-a838-1f6b1a1309d6",
   "metadata": {},
   "outputs": [
    {
     "data": {
      "text/plain": [
       "{'Pedro Sander': {'tel': 15456663258, 'mail': 'PedritoElSander@gmail.com'},\n",
       " 'Flavio Oncativo': {'tel': 1545554178, 'mail': 'FOncativo@hotmail.com'},\n",
       " 'Juan Pérez': {'phone': '555-1234', 'email': 'juanperez@mail.com'}}"
      ]
     },
     "execution_count": 167,
     "metadata": {},
     "output_type": "execute_result"
    }
   ],
   "source": [
    "contacts"
   ]
  },
  {
   "cell_type": "code",
   "execution_count": null,
   "id": "a830e1b7-4dcb-4ee5-b716-21cc04bf0815",
   "metadata": {},
   "outputs": [],
   "source": []
  },
  {
   "cell_type": "code",
   "execution_count": null,
   "id": "32b5777b-4ac6-4265-afa2-750004d08e7a",
   "metadata": {},
   "outputs": [],
   "source": []
  },
  {
   "cell_type": "code",
   "execution_count": null,
   "id": "20b7a373-07ee-4fd9-a138-ba4b9b66401e",
   "metadata": {},
   "outputs": [],
   "source": [
    "# QUEDA DE TAREA INTEGRAR TODO EN UNA SOLA FUNCION"
   ]
  },
  {
   "cell_type": "code",
   "execution_count": null,
   "id": "04c4f487-cc59-4a0f-9a03-ad4a64a6fd3b",
   "metadata": {},
   "outputs": [],
   "source": []
  },
  {
   "cell_type": "markdown",
   "id": "58e52ce9-8c0c-4f5a-95f4-a2d7bcf0e50a",
   "metadata": {},
   "source": [
    "Conclusion:\n",
    "\n",
    "- Function calling es una herramienta potente que nos permite interactuar con herramientas externas al LLM\n",
    "\n",
    "- Para distintas aplicaciones lo que va a variar es la funcion a llamar, la estructura del codigo es siempre la misma.\n"
   ]
  },
  {
   "cell_type": "code",
   "execution_count": null,
   "id": "4c5bbae6-20c3-4122-89af-77dd14b93f13",
   "metadata": {},
   "outputs": [],
   "source": []
  },
  {
   "cell_type": "code",
   "execution_count": null,
   "id": "c36ef67d-dd54-41e7-bef5-f89ee575603f",
   "metadata": {},
   "outputs": [],
   "source": [
    "# TIPS\n",
    "# Probar primero generando una funcion y llamarla, luego anadir la otra\n",
    "# Plantearlo paso por paso en distintas celdas, analizar las salidas y las entradas, como identificamos a que funcion llamar?\n",
    "# luego automatizar dentro de una sola celda\n",
    "\n",
    "\n",
    "# Lo importante es entregar hasta donde lleguen, sea una funcion, las dos pero sin poder hacer el flujo automatico, lo que puedan, siempre y cuando este\n",
    "# claro lo que se quizo hacer con comentarios."
   ]
  },
  {
   "cell_type": "code",
   "execution_count": null,
   "id": "5ace85d2-cd00-4bd4-81e2-68113eb9f8d5",
   "metadata": {},
   "outputs": [],
   "source": []
  },
  {
   "cell_type": "markdown",
   "id": "e9d8badf-dc90-4005-b916-8e528105d797",
   "metadata": {},
   "source": [
    "## Ejercicio 3\n",
    "\n",
    "Crear una funcion llamada \"history_answer\", que toma como parametro de entrada una pregunta sobre un contexto dado y la salida es la respuesta final del proceso impulsado por un LLM.\n",
    "\n",
    "Dada una historia, el usuario podra hacer preguntas sobre la misma y el LLM debe responder siguiendo los siguientes lineamientos:\n",
    "\n",
    "REQUISITOS DE LA RESPUESTA\n",
    "- las respuestas deben ser en base a la historia\n",
    "- ante la misma pregunta siempre debe responder de la misma manera.\n",
    "- que responda en solo una oracion.\n",
    "- el idioma que responde debe ser el mismo que con el que se pregunta (ingles, espanol, portugues).\n",
    "- que agregue emojis en la oracion que resuman el contenido de la misma.\n",
    "- que responda siempre en tercera persona.\n",
    "- si la pregunta no tiene relacion alguna con el contexto, la respuesta debe ser 'Lo siento no puedo ayudarte con eso'.\n",
    "- Responder con 'Hakuna Matata!' al final de **todas** las respuestas (no importa idioma ni cantidad de tokens).\n",
    "\n",
    "**Ayudin**: \n",
    "- No se limiten a usar 1 solo request al LLM, pueden dividirlo en partes para que por un lado se verifique el idioma, por otro lado se verifique si la pregunta tiene relacion con el contexto, etc\n",
    "\n",
    "- Estructuren bien el prompt procurando separar instrucciones, contexto(historia) y pregunta del usuario.\n",
    "\n",
    "- Recuerden usar el system message y user message.\n",
    "\n"
   ]
  },
  {
   "cell_type": "code",
   "execution_count": null,
   "id": "09f36820-b7d3-4813-a0c3-351c598106ec",
   "metadata": {},
   "outputs": [],
   "source": [
    "# ejemplo flojo de estructura de prompt\n",
    "# prompt = f\"Responde a la pregunta: {pregunta} de manera concisa y divertida en base a la siguiente historia: {historia}\""
   ]
  },
  {
   "cell_type": "code",
   "execution_count": null,
   "id": "c5602f56-4032-4cc6-a2c5-7b29cf2a2a5c",
   "metadata": {},
   "outputs": [],
   "source": []
  },
  {
   "cell_type": "code",
   "execution_count": null,
   "id": "4fa65537-3aa6-43c6-87e9-86a689f8e1d8",
   "metadata": {},
   "outputs": [],
   "source": [
    "def history_answer(pregunta):\n",
    "    # your code here\n",
    "\n",
    "    return respuesta_al_usuario"
   ]
  },
  {
   "cell_type": "code",
   "execution_count": 239,
   "id": "f3aaa967-d87f-45d9-9a72-6fc63afc931c",
   "metadata": {},
   "outputs": [],
   "source": [
    "historia = \"\"\"En un pequeño feudo medieval, Thomas, un joven campesino de dieciséis años, trabajaba desde el amanecer en los campos de trigo del señor feudal. El sol apenas había salido cuando él ya había arado más de lo que sus manos podían soportar. La vida era dura, pero su familia dependía de la cosecha para pagar los impuestos y mantener su hogar de madera y paja.\n",
    "\n",
    "Un día, el feudo fue sacudido por noticias de guerra. El rey había llamado a todos los hombres en edad de luchar. Thomas sabía que, al igual que otros jóvenes, no tenía elección. Cambió la hoz por una lanza rudimentaria y se unió a la milicia local. Sin entrenamiento, fue empujado a un campo de batalla embarrado, donde el acero resonaba y los gritos de los hombres llenaban el aire.\n",
    "\n",
    "La batalla fue un caos. Thomas, con el corazón latiendo en su pecho como un tambor de guerra, apenas podía distinguir amigo de enemigo. Logró esquivar una espada, pero cayó al suelo, cubierto de lodo y sangre. Levantándose, vio cómo un compañero caía junto a él, sus ojos abiertos, vacíos.\n",
    "\n",
    "Cuando la batalla terminó, el silencio era tan profundo como el vacío que sentía. Thomas regresó al feudo, diferente, marcado por la muerte y la violencia. Su madre lo recibió con lágrimas en los ojos, pero él, con la mirada fija en el horizonte, sabía que la inocencia había quedado atrás, enterrada en aquel campo de batalla. La paz del feudo ya no era la misma; él tampoco.\"\"\"\n",
    "\n",
    "\n",
    "#pregunta = # insertar pregunta relacionada  o  no\n",
    "\n",
    "\n",
    "# respuesta\n",
    "#print(history_answer(pregunta))"
   ]
  },
  {
   "cell_type": "code",
   "execution_count": null,
   "id": "be7dfacc-ec0a-436a-b1b0-15cecc7b1f94",
   "metadata": {},
   "outputs": [],
   "source": []
  },
  {
   "cell_type": "code",
   "execution_count": null,
   "id": "503348d2-64f2-4dda-9381-c57060c65a35",
   "metadata": {},
   "outputs": [],
   "source": [
    "## RESOLUCION"
   ]
  },
  {
   "cell_type": "code",
   "execution_count": 258,
   "id": "86d3c584-dc4a-4723-bfdb-93c6bec1f96b",
   "metadata": {},
   "outputs": [],
   "source": [
    "# Instancia 1\n",
    "\n",
    "\n",
    "def history_answer(pregunta):\n",
    "\n",
    "    prompt_principal = f\"\"\" \n",
    "            Responde la pregunta siguiendo las instrucciones y basandote en la informacion brindada por el contexto.\n",
    "            \n",
    "            ###\n",
    "            Instrucciones: \n",
    "            - Responde la pregunta utilizado el contexto.\n",
    "            - Responde de manera concisa, en una sola oracion.\n",
    "            - Agrega emojis relacionados en la respuesta.\n",
    "            - Tu respuesta debe estar en el mismo idioma que la pregunta.\n",
    "\n",
    "            ###\n",
    "            Contexto:\n",
    "            {historia}\n",
    "\n",
    "            ###\n",
    "            Pregunta:\n",
    "            {pregunta}\n",
    "\n",
    "            ###\n",
    "            Respuesta:\n",
    "            \n",
    "            \"\"\"\n",
    "\n",
    "    system_prompt_principal = \"Tu tarea es responder la pregunta siempre en tercera persona, utilizando el contexto brindado como fuente de informacion.\"\n",
    "\n",
    "    response = co.chat(\n",
    "        model=\"command-r-plus-08-2024\",\n",
    "        messages=[{\"role\": \"system\", \"content\": system_prompt_principal},\n",
    "                 {\"role\": \"user\", \"content\": prompt_principal}],\n",
    "        temperature=0,\n",
    "        seed = 2323\n",
    "    )\n",
    "\n",
    "    respuesta_al_usuario = response.message.content[0].text\n",
    "    \n",
    "    return respuesta_al_usuario"
   ]
  },
  {
   "cell_type": "code",
   "execution_count": 259,
   "id": "7eb8d8db-0748-4fac-be07-04695aa821e4",
   "metadata": {},
   "outputs": [
    {
     "name": "stdout",
     "output_type": "stream",
     "text": [
      "El rey convocó a todos los hombres para la guerra. 🗡️🛡️\n"
     ]
    }
   ],
   "source": [
    "# Funcion\n",
    "pregunta = \"Que hizo el rey?\"\n",
    "print(history_answer(pregunta))"
   ]
  },
  {
   "cell_type": "code",
   "execution_count": 260,
   "id": "d376a3cd-1d89-40ba-a644-e45055b0f35a",
   "metadata": {},
   "outputs": [
    {
     "name": "stdout",
     "output_type": "stream",
     "text": [
      "El rey convocó a todos los hombres para la guerra. 🗡️⚔️\n"
     ]
    }
   ],
   "source": [
    "# Funcion\n",
    "pregunta = \"What did the king do?\"\n",
    "print(history_answer(pregunta))"
   ]
  },
  {
   "cell_type": "code",
   "execution_count": 261,
   "id": "17426275-db19-4a49-97fc-54a42b134cde",
   "metadata": {},
   "outputs": [
    {
     "name": "stdout",
     "output_type": "stream",
     "text": [
      "El rey convocó a todos los hombres para la guerra. 🗡️🛡️\n"
     ]
    }
   ],
   "source": [
    "# Funcion\n",
    "pregunta = \"Qu'a fait le roi ?\"\n",
    "print(history_answer(pregunta))"
   ]
  },
  {
   "cell_type": "code",
   "execution_count": null,
   "id": "4cd9490e-9220-465b-91a4-5e66e14ec160",
   "metadata": {},
   "outputs": [],
   "source": []
  },
  {
   "cell_type": "code",
   "execution_count": null,
   "id": "a58ff927-63ec-477d-96b8-bc22ff1b5812",
   "metadata": {},
   "outputs": [],
   "source": []
  },
  {
   "cell_type": "code",
   "execution_count": 285,
   "id": "31f246d9-ec91-498a-a06a-172947316325",
   "metadata": {},
   "outputs": [],
   "source": [
    "# Instancia 2\n",
    "# Agrego el idioma con otra llamada\n",
    "# c4ai-aya-expanse-32b\n",
    "\n",
    "\n",
    "def history_answer(pregunta):\n",
    "\n",
    "    prompt_principal = f\"\"\" \n",
    "            Responde la pregunta siguiendo las instrucciones y basandote en la informacion brindada por el contexto.\n",
    "            \n",
    "            ###\n",
    "            Instrucciones: \n",
    "            - Responde la pregunta utilizado el contexto.\n",
    "            - Responde de manera concisa, en una sola oracion.\n",
    "            - Agrega emojis relacionados en la respuesta.\n",
    "            - Tu respuesta debe estar en el mismo idioma que la pregunta.\n",
    "\n",
    "            ###\n",
    "            Contexto:\n",
    "            {historia}\n",
    "\n",
    "            ###\n",
    "            Pregunta:\n",
    "            {pregunta}\n",
    "\n",
    "            ###\n",
    "            Respuesta:\n",
    "            \n",
    "            \"\"\"\n",
    "\n",
    "    system_prompt_principal = \"Tu tarea es responder la pregunta siempre en tercera persona, utilizando el contexto brindado como fuente de informacion.\"\n",
    "\n",
    "    response = co.chat(\n",
    "        model=\"command-r-plus-08-2024\",\n",
    "        messages=[{\"role\": \"system\", \"content\": system_prompt_principal},\n",
    "                 {\"role\": \"user\", \"content\": prompt_principal}],\n",
    "        temperature=0\n",
    "    )\n",
    "    \n",
    "    respuesta_al_usuario = response.message.content[0].text\n",
    "\n",
    "    #print(respuesta_al_usuario)\n",
    "\n",
    "    prompt_idioma = f\"\"\" \n",
    "            ###\n",
    "            Instrucciones:\n",
    "            1- Identifica el idioma de la pregunta.\n",
    "            Pregunta = {pregunta}\n",
    "            \n",
    "            2- Traduci el texto al idioma identificado.\n",
    "            Texto: {respuesta_al_usuario}\n",
    "\n",
    "            Recuerda:\n",
    "            - tu respuesta debe ser solamente la traduccion, sin incluir el idioma identificado.\n",
    "            - mantener los emojis de la respuesta original.\n",
    "            \"\"\"\n",
    "\n",
    "    response = co.chat(\n",
    "        model=\"c4ai-aya-expanse-32b\",\n",
    "        messages=[\n",
    "                 {\"role\": \"user\", \"content\": prompt_idioma}],\n",
    "    )\n",
    "    \n",
    "    respuesta_al_usuario = response.message.content[0].text\n",
    "\n",
    "\n",
    "    \n",
    "    return respuesta_al_usuario"
   ]
  },
  {
   "cell_type": "code",
   "execution_count": 267,
   "id": "21f0cc82-6521-482b-9fbe-667f26490189",
   "metadata": {},
   "outputs": [
    {
     "name": "stdout",
     "output_type": "stream",
     "text": [
      "El rey llamó a todos los hombres a la batalla. 🗡️🛡️\n"
     ]
    }
   ],
   "source": [
    "# Funcion\n",
    "pregunta = \"Que hizo el rey?\"\n",
    "print(history_answer(pregunta))"
   ]
  },
  {
   "cell_type": "code",
   "execution_count": 268,
   "id": "58108d90-a0c1-4fac-b5e5-591bd28d39bb",
   "metadata": {},
   "outputs": [
    {
     "name": "stdout",
     "output_type": "stream",
     "text": [
      "The king called all men to war. 🗡️🛡️\n"
     ]
    }
   ],
   "source": [
    "# Funcion\n",
    "pregunta = \"What did the king do?\"\n",
    "print(history_answer(pregunta))"
   ]
  },
  {
   "cell_type": "code",
   "execution_count": 269,
   "id": "4a4f43ec-c736-4df9-86b7-27d3d190be4d",
   "metadata": {},
   "outputs": [
    {
     "name": "stdout",
     "output_type": "stream",
     "text": [
      "Le roi a convoqué tous les hommes pour la guerre. 🗡️⚔️\n"
     ]
    }
   ],
   "source": [
    "# Funcion\n",
    "pregunta = \"Qu'a fait le roi ?\"\n",
    "print(history_answer(pregunta))"
   ]
  },
  {
   "cell_type": "code",
   "execution_count": null,
   "id": "789824c8-143d-4580-99d6-69e5f0c0c78f",
   "metadata": {},
   "outputs": [],
   "source": []
  },
  {
   "cell_type": "code",
   "execution_count": 279,
   "id": "f26a74e8-2fdd-488c-b4fd-588b347c7eab",
   "metadata": {},
   "outputs": [
    {
     "name": "stdout",
     "output_type": "stream",
     "text": [
      "Thomas, el joven campesino, no sabe cómo construir un edificio, pero conoce la dureza de la vida y la crudeza de la guerra. 🌾⚔️🏰\n"
     ]
    }
   ],
   "source": [
    "pregunta = \"Como hago un edificio?\"\n",
    "print(history_answer(pregunta))"
   ]
  },
  {
   "cell_type": "code",
   "execution_count": null,
   "id": "e95af482-c387-4bca-8fd9-d522db991d0a",
   "metadata": {},
   "outputs": [],
   "source": []
  },
  {
   "cell_type": "code",
   "execution_count": null,
   "id": "dad63779-2883-4b65-97e6-5b2ce5e7699a",
   "metadata": {},
   "outputs": [],
   "source": []
  },
  {
   "cell_type": "code",
   "execution_count": 281,
   "id": "26816a46-abd5-401c-84d4-316ecc7c6c88",
   "metadata": {},
   "outputs": [],
   "source": [
    "# Instancia 3\n",
    "# Agrego la identificacion de pertenencia al contexto y Hakuna Matata\n",
    "\n",
    "def history_answer(pregunta):\n",
    "\n",
    "    prompt_identificacion = f\"\"\" \n",
    "            La PREGUNTA puede responderse utilizando el CONTEXTO?.\n",
    "            Debes responder unicamente 'SI' o 'NO'\n",
    "            \n",
    "            ###\n",
    "            CONTEXTO:\n",
    "            {historia}\n",
    "\n",
    "            ###\n",
    "            PREGUNTA:\n",
    "            {pregunta}\n",
    "\n",
    "            ###\n",
    "            Respuesta:\n",
    "            \n",
    "            \"\"\"\n",
    "\n",
    "    system_identificacion = \"Actua como un analizador de contexto. Solo debes responder con monosilabos, responder SI o NO\"\n",
    "\n",
    "\n",
    "    response = co.chat(\n",
    "        model=\"command-r-plus-08-2024\",\n",
    "        messages=[{\"role\": \"system\", \"content\": system_identificacion},\n",
    "                 {\"role\": \"user\", \"content\": prompt_identificacion}],\n",
    "    )\n",
    "\n",
    "    respuesta_al_usuario = response.message.content[0].text\n",
    "    #print(respuesta_al_usuario)\n",
    "\n",
    "    if 'SI' in respuesta_al_usuario:\n",
    "\n",
    "        prompt_principal = f\"\"\" \n",
    "                Responde la pregunta siguiendo las instrucciones y basandote en la informacion brindada por el contexto.\n",
    "                \n",
    "                ###\n",
    "                Instrucciones: \n",
    "                - Responde la pregunta utilizado el contexto.\n",
    "                - Responde de manera concisa, en una sola oracion.\n",
    "                - Agrega emojis relacionados en la respuesta.\n",
    "                - Tu respuesta debe estar en el mismo idioma que la pregunta.\n",
    "    \n",
    "                ###\n",
    "                Contexto:\n",
    "                {historia}\n",
    "    \n",
    "                ###\n",
    "                Pregunta:\n",
    "                {pregunta}\n",
    "    \n",
    "                ###\n",
    "                Respuesta:\n",
    "                \n",
    "                \"\"\"\n",
    "    \n",
    "        system_prompt_principal = \"Tu tarea es responder la pregunta siempre en tercera persona, utilizando el contexto brindado como fuente de informacion.\"\n",
    "    \n",
    "        response = co.chat(\n",
    "            model=\"command-r-plus-08-2024\",\n",
    "            messages=[{\"role\": \"system\", \"content\": system_prompt_principal},\n",
    "                     {\"role\": \"user\", \"content\": prompt_principal}],\n",
    "            temperature=0\n",
    "            )\n",
    "        \n",
    "        respuesta_al_usuario = response.message.content[0].text\n",
    "    \n",
    "        #print(respuesta_al_usuario)\n",
    "    \n",
    "        prompt_idioma = f\"\"\" \n",
    "                ###\n",
    "                Instrucciones:\n",
    "                1- Identifica el idioma de la pregunta.\n",
    "                Pregunta = {pregunta}\n",
    "                \n",
    "                2- Traduci el texto al idioma identificado.\n",
    "                Texto: {respuesta_al_usuario}\n",
    "    \n",
    "                Recuerda, tu respuesta debe ser solamente la traduccion, sin incluir el idioma identificado.\n",
    "                \"\"\"\n",
    "    \n",
    "        response = co.chat(\n",
    "            model=\"c4ai-aya-expanse-32b\",\n",
    "            messages=[\n",
    "                     {\"role\": \"user\", \"content\": prompt_idioma}],\n",
    "        )\n",
    "        \n",
    "        respuesta_al_usuario = response.message.content[0].text\n",
    "\n",
    "    else:\n",
    "       respuesta_al_usuario = 'Lo siento no puedo ayudarte con eso'\n",
    "    \n",
    "    \n",
    "    return respuesta_al_usuario + '\\n\\nHakuna Matata'\n",
    "\n"
   ]
  },
  {
   "cell_type": "code",
   "execution_count": null,
   "id": "108c9b55-2638-4aa4-9478-77407df2eaed",
   "metadata": {},
   "outputs": [],
   "source": []
  },
  {
   "cell_type": "code",
   "execution_count": 276,
   "id": "a0682606-ffc0-4825-9dca-4ed654e8cdb3",
   "metadata": {},
   "outputs": [
    {
     "name": "stdout",
     "output_type": "stream",
     "text": [
      "El rey llamó a todos los hombres a la guerra. 🗡️🛡️\n",
      "\n",
      "Hakuna Matata\n"
     ]
    }
   ],
   "source": [
    "# Funcion\n",
    "pregunta = \"Que hizo el rey?\"\n",
    "print(history_answer(pregunta))"
   ]
  },
  {
   "cell_type": "code",
   "execution_count": 275,
   "id": "092c0c65-4d6a-41ce-afbc-ced7d55af6e4",
   "metadata": {},
   "outputs": [
    {
     "name": "stdout",
     "output_type": "stream",
     "text": [
      "Lo siento no puedo ayudarte con eso\n",
      "\n",
      "Hakuna Matata\n"
     ]
    }
   ],
   "source": [
    "pregunta = \"Quien sos?\"\n",
    "print(history_answer(pregunta))"
   ]
  },
  {
   "cell_type": "code",
   "execution_count": 242,
   "id": "2c3a724b-0c45-4ef3-ba06-e1c566228d94",
   "metadata": {},
   "outputs": [
    {
     "name": "stdout",
     "output_type": "stream",
     "text": [
      "Lo siento no puedo ayudarte con eso\n",
      "\n",
      "Hakuna Matata\n"
     ]
    }
   ],
   "source": [
    "pregunta = \"Como se hace una torta?\"\n",
    "print(history_answer(pregunta))"
   ]
  },
  {
   "cell_type": "code",
   "execution_count": 282,
   "id": "795f451e-6c12-4631-895f-fa6ac8f16b74",
   "metadata": {},
   "outputs": [
    {
     "name": "stdout",
     "output_type": "stream",
     "text": [
      "Lo siento no puedo ayudarte con eso\n",
      "\n",
      "Hakuna Matata\n"
     ]
    }
   ],
   "source": [
    "pregunta = \"Como hago un edificio?\"\n",
    "print(history_answer(pregunta))"
   ]
  },
  {
   "cell_type": "code",
   "execution_count": null,
   "id": "ffc2c390-a2be-497f-9bd6-6fe08f7a11df",
   "metadata": {},
   "outputs": [],
   "source": []
  },
  {
   "cell_type": "markdown",
   "id": "4d263bbe-01ee-4493-a64b-01171d888744",
   "metadata": {},
   "source": [
    "Conclusion:\n",
    "\n",
    "- Los LLMs son modelos con limitaciones\n",
    "  \n",
    "- Mientras mas instrucciones le damos, mas complejo es que nos devuelva lo que queremos, por eso una buena practica es el prompt chaining.\n",
    "  \n",
    "- Cuando podemos resolver cuestiones utilizando codigo convencional, hay que hacerlo!, eso no falla.\n",
    "  "
   ]
  },
  {
   "cell_type": "code",
   "execution_count": null,
   "id": "8a905020-7ee3-403f-92c7-d751fc45e323",
   "metadata": {},
   "outputs": [],
   "source": []
  },
  {
   "cell_type": "code",
   "execution_count": null,
   "id": "8e42fe83-63c6-4f07-9b1e-f37f6c79c784",
   "metadata": {},
   "outputs": [],
   "source": []
  },
  {
   "cell_type": "markdown",
   "id": "db6e9a7d-aa39-4a01-ba55-9a7f4ea39522",
   "metadata": {},
   "source": [
    "## Ejercicio 4\n",
    "\n",
    "Crear un chatbot sencillo impulsado por un LLM. \n",
    "\n",
    "Dicho bot esta destinado a un usuario final y debe cumplir las siguientes **condiciones en sus respuestas**:\n",
    "\n",
    "- Responder en no mas de 70 tokens.\n",
    "- Responder de manera positiva, con un tono entusiasta.\n",
    "- Responder con consejos útiles, como si fueras un tutor.\n",
    "\n",
    " \n",
    "**Otras consideraciones**:\n",
    "\n",
    "Respetar el formato de la interfaz provista por el ejercicio.\n",
    "\n",
    "Ademas agregar al codigo propuesto un historial de conversaciones para que el bot pueda mantener el hilo de lo que se esta hablando. Para probar no usen mas de 3 conversaciones anidadas para no enviarle tantos tokens.\n",
    "\n",
    "Dejar impreso en el notebook el historial de la conversacion."
   ]
  },
  {
   "cell_type": "code",
   "execution_count": 324,
   "id": "272236c6-1f06-42e9-a3f5-fce4d4ba8a42",
   "metadata": {},
   "outputs": [
    {
     "data": {
      "application/vnd.jupyter.widget-view+json": {
       "model_id": "72367c7c99fe420f86d65e3d4d1d6bcd",
       "version_major": 2,
       "version_minor": 0
      },
      "text/plain": [
       "Text(value='', placeholder='Escribe tu mensaje aquí...')"
      ]
     },
     "metadata": {},
     "output_type": "display_data"
    },
    {
     "data": {
      "application/vnd.jupyter.widget-view+json": {
       "model_id": "0b7cd2fb83ee4e91b5846c03e60c30c3",
       "version_major": 2,
       "version_minor": 0
      },
      "text/plain": [
       "Button(description='Enviar', style=ButtonStyle())"
      ]
     },
     "metadata": {},
     "output_type": "display_data"
    },
    {
     "data": {
      "application/vnd.jupyter.widget-view+json": {
       "model_id": "232412da44e34a30b1cc486610b8621c",
       "version_major": 2,
       "version_minor": 0
      },
      "text/plain": [
       "Output()"
      ]
     },
     "metadata": {},
     "output_type": "display_data"
    }
   ],
   "source": [
    "# Crear widgets de entrada y salida\n",
    "input_box = widgets.Text(placeholder='Escribe tu mensaje aquí...')\n",
    "send_button = widgets.Button(description='Enviar')\n",
    "output_box = widgets.Output()\n",
    "\n",
    "\n",
    "# Función de respuesta simulada del chatbot\n",
    "def chatbot_response(message):\n",
    "    response = co.chat(\n",
    "        model=\"command-r-plus-08-2024\",\n",
    "        messages=[\n",
    "            {\"role\": \"system\", \"content\":\"Responde de manera amigable y con emojis\"},\n",
    "            {\"role\": \"user\", \"content\": message}\n",
    "        ],\n",
    "    )\n",
    "\n",
    "    return response.message.content[0].text\n",
    "\n",
    "# Función de manejo del botón\n",
    "def on_send_button_clicked(b):\n",
    "    with output_box:\n",
    "        clear_output(wait=True)\n",
    "        user_message = input_box.value\n",
    "        if user_message.strip():\n",
    "            print(f\"Tú: {user_message}\")\n",
    "            response = chatbot_response(user_message)\n",
    "            print(f\"Chatbot: {response}\")\n",
    "        input_box.value = ''\n",
    "\n",
    "# Asociar función al botón\n",
    "send_button.on_click(on_send_button_clicked)\n",
    "\n",
    "# Mostrar widgets\n",
    "display(input_box, send_button, output_box)"
   ]
  },
  {
   "cell_type": "code",
   "execution_count": null,
   "id": "ec1af710-8aa7-4df0-816c-f9db48e429b6",
   "metadata": {},
   "outputs": [],
   "source": []
  },
  {
   "cell_type": "code",
   "execution_count": 1,
   "id": "5284210f-23a3-4db1-b315-db724a3bb3a5",
   "metadata": {},
   "outputs": [],
   "source": []
  },
  {
   "cell_type": "code",
   "execution_count": 325,
   "id": "aa475fa8-e48b-423e-9006-7478a462129c",
   "metadata": {},
   "outputs": [
    {
     "data": {
      "application/vnd.jupyter.widget-view+json": {
       "model_id": "8a6f9e8a1db14818b2ea0edc0f5032a6",
       "version_major": 2,
       "version_minor": 0
      },
      "text/plain": [
       "Text(value='', placeholder='Escribe tu mensaje aquí...')"
      ]
     },
     "metadata": {},
     "output_type": "display_data"
    },
    {
     "data": {
      "application/vnd.jupyter.widget-view+json": {
       "model_id": "d51ca7913958435b9b662a6e549184cf",
       "version_major": 2,
       "version_minor": 0
      },
      "text/plain": [
       "Button(description='Enviar', style=ButtonStyle())"
      ]
     },
     "metadata": {},
     "output_type": "display_data"
    },
    {
     "data": {
      "application/vnd.jupyter.widget-view+json": {
       "model_id": "b7e821b140054eca9eb4e2428f4f1614",
       "version_major": 2,
       "version_minor": 0
      },
      "text/plain": [
       "Output()"
      ]
     },
     "metadata": {},
     "output_type": "display_data"
    }
   ],
   "source": [
    "# Crear widgets de entrada y salida\n",
    "input_box = widgets.Text(placeholder='Escribe tu mensaje aquí...')\n",
    "send_button = widgets.Button(description='Enviar')\n",
    "output_box = widgets.Output()\n",
    "\n",
    "chat_history = [{\"role\": \"system\", \"content\":\"Responde con tono entusiasta y da consejos utiles.\"}]\n",
    "\n",
    "# Función de respuesta simulada del chatbot\n",
    "def chatbot_response(message):\n",
    "    # actualizo el historial\n",
    "    chat_history.append({\"role\": \"user\", \"content\": message})\n",
    "    response = co.chat(\n",
    "        model=\"command-r-plus-08-2024\",\n",
    "        messages=chat_history,\n",
    "        max_tokens=70\n",
    "    )\n",
    "    # actualizo el historial\n",
    "    text_response = response.message.content[0].text\n",
    "    chat_history.append({\"role\": \"assistant\", \"content\": text_response})\n",
    "    \n",
    "    return text_response\n",
    "\n",
    "# Función de manejo del botón\n",
    "def on_send_button_clicked(b):\n",
    "    with output_box:\n",
    "        clear_output(wait=True)\n",
    "        user_message = input_box.value\n",
    "        if user_message.strip():\n",
    "            print(f\"Tú: {user_message}\")\n",
    "            response = chatbot_response(user_message)\n",
    "            print(f\"Chatbot: {response}\")\n",
    "        input_box.value = ''\n",
    "\n",
    "# Asociar función al botón\n",
    "send_button.on_click(on_send_button_clicked)\n",
    "\n",
    "# Mostrar widgets\n",
    "display(input_box, send_button, output_box)"
   ]
  },
  {
   "cell_type": "code",
   "execution_count": null,
   "id": "436d5bce-0189-4ecd-a06d-fcc7a81315b5",
   "metadata": {},
   "outputs": [],
   "source": []
  },
  {
   "cell_type": "code",
   "execution_count": 327,
   "id": "4a213283-3ef7-4df8-8b7f-3bb11d58362d",
   "metadata": {},
   "outputs": [
    {
     "name": "stdout",
     "output_type": "stream",
     "text": [
      "[\n",
      "  {\n",
      "    \"role\": \"system\",\n",
      "    \"content\": \"Responde con tono entusiasta y da consejos utiles.\"\n",
      "  },\n",
      "  {\n",
      "    \"role\": \"user\",\n",
      "    \"content\": \"contame una historia en 1 oracion sobre un tesoro\"\n",
      "  },\n",
      "  {\n",
      "    \"role\": \"assistant\",\n",
      "    \"content\": \"\\u00a1Un valiente explorador descubre un antiguo tesoro escondido en una isla remota, desenterrando riquezas y secretos que cambiar\\u00e1n su vida para siempre!\"\n",
      "  },\n",
      "  {\n",
      "    \"role\": \"user\",\n",
      "    \"content\": \"me repetis en donde estaba escondido el tesoro\"\n",
      "  },\n",
      "  {\n",
      "    \"role\": \"assistant\",\n",
      "    \"content\": \"\\u00a1Por supuesto! El tesoro estaba escondido en una isla remota, un lugar misterioso y aislado que guardaba secretos invaluables. \\u00a1Es una aventura emocionante imaginar la b\\u00fasqueda del tesoro en un entorno tan ex\\u00f3tico! \\u00bfTe gustar\\u00eda que te contara m\\u00e1s sobre esta emocionante historia? \\u00a1Puedo darte consejos y sugerencias\"\n",
      "  }\n",
      "]\n"
     ]
    }
   ],
   "source": [
    "print(json.dumps(chat_history, indent=2))"
   ]
  },
  {
   "cell_type": "code",
   "execution_count": null,
   "id": "b1297ad5-88ae-4cf2-98fb-22a22c4e7010",
   "metadata": {},
   "outputs": [],
   "source": []
  },
  {
   "cell_type": "markdown",
   "id": "4b92e35f-bcda-42fd-a52a-d08603b196c9",
   "metadata": {},
   "source": [
    "Conclusion:\n",
    "\n",
    "- Para que el LLM recuerde las conversaciones, debemos pasarle todo el historial en cada interaccion\n"
   ]
  },
  {
   "cell_type": "code",
   "execution_count": null,
   "id": "3e82f2ea-8aea-474c-b15f-52a2038e32b0",
   "metadata": {},
   "outputs": [],
   "source": []
  },
  {
   "cell_type": "code",
   "execution_count": null,
   "id": "9991dcd5-833a-44e3-bc61-f92ba78d2a02",
   "metadata": {},
   "outputs": [],
   "source": []
  },
  {
   "cell_type": "markdown",
   "id": "b831319f-a1be-40f9-8ccd-5a83cebc8485",
   "metadata": {},
   "source": [
    "## Contador de tokens\n",
    "\n",
    "https://platform.openai.com/tokenizer"
   ]
  },
  {
   "cell_type": "markdown",
   "id": "c6fb6d6a-1c32-42e5-a1ee-d62b2bc0785a",
   "metadata": {},
   "source": [
    "### RECOMENDACIONES GENERALES\n",
    "\n",
    "No se confien probando con un par de respuestas y ya, hagan minimo 5 pruebas por ejercicio para asi tener mas chances de visualizar errores en la generacion del contenido.\n",
    "\n",
    "Prueben combinar LLMs con programacion convencional para los casos que vean convenientes (decisiones if else, respuestas estaticas, etc)\n",
    "\n",
    "Prueben con distintos modelos de Cohere, hay algunos optimizados para ciertas aplicaciones."
   ]
  },
  {
   "cell_type": "code",
   "execution_count": null,
   "id": "2a3f2e37-bf32-43b7-8958-e39954a20fb1",
   "metadata": {},
   "outputs": [],
   "source": []
  }
 ],
 "metadata": {
  "kernelspec": {
   "display_name": "Python 3 (ipykernel)",
   "language": "python",
   "name": "python3"
  },
  "language_info": {
   "codemirror_mode": {
    "name": "ipython",
    "version": 3
   },
   "file_extension": ".py",
   "mimetype": "text/x-python",
   "name": "python",
   "nbconvert_exporter": "python",
   "pygments_lexer": "ipython3",
   "version": "3.10.9"
  }
 },
 "nbformat": 4,
 "nbformat_minor": 5
}

{
 "cells": [
  {
   "cell_type": "markdown",
   "id": "047e87c6-2f24-41fa-a85d-1af792fc59c8",
   "metadata": {},
   "source": [
    "### Pasos a seguir\n",
    "\n",
    "* Crear entorno virtual\n",
    "* Conseguir la API Key de Cohere y guardarla en un .env\n",
    "* Hacer la conexion a Cohere\n",
    "* Probar los distintos modelos que nos brinda"
   ]
  },
  {
   "cell_type": "code",
   "execution_count": null,
   "id": "0e764ea5-e9f7-4525-8ed0-435131f7fe4b",
   "metadata": {},
   "outputs": [],
   "source": [
    "# requirements.txt\n",
    "#cohere\n",
    "#jupyterlab\n",
    "#python-dotenv\n",
    "#ipywidgets"
   ]
  },
  {
   "cell_type": "markdown",
   "id": "21993094-309c-4ebb-b3e4-2de1af1a8c68",
   "metadata": {},
   "source": [
    "### Algunos ejercicios"
   ]
  },
  {
   "cell_type": "code",
   "execution_count": null,
   "id": "d8f3ed3a-9967-4746-8e09-d32ba3b7186e",
   "metadata": {},
   "outputs": [],
   "source": [
    "import json\n",
    "import ipywidgets as widgets\n",
    "from IPython.display import display, clear_output"
   ]
  },
  {
   "cell_type": "code",
   "execution_count": 2,
   "id": "63603dbe-6aa2-4246-ad39-e0c4f9331ed6",
   "metadata": {},
   "outputs": [],
   "source": [
    "from dotenv import load_dotenv\n",
    "import cohere\n",
    "import os\n",
    "\n",
    "load_dotenv()  # Load .env file\n",
    "\n",
    "api_key = os.getenv(\"COHERE_API_KEY\")\n",
    "#print(api_key)  # Verify the key is loaded\n"
   ]
  },
  {
   "cell_type": "markdown",
   "id": "1bc19866-b250-42cc-9436-51e42ba7fd24",
   "metadata": {},
   "source": [
    "### Utilizar los modelos"
   ]
  },
  {
   "cell_type": "code",
   "execution_count": 26,
   "id": "e37580aa-1693-4414-adb9-3960c2667bb9",
   "metadata": {},
   "outputs": [
    {
     "name": "stdout",
     "output_type": "stream",
     "text": [
      "The Beatles fue una banda de rock británica formada en Liverpool en 1960 que se convirtió en una de las más exitosas e influyentes en la historia de la música popular. Los miembros principales de la banda eran:\n",
      "\n",
      "- John Lennon (1940-1980): cantante, compositor, guitarrista y tecladista. Fue uno de los fundadores de la banda y es considerado uno de los artistas más influyentes del siglo XX.\n",
      "\n",
      "- Paul McCartney (nacido en 1942): cantante, compositor, bajista y multiinstrumentista. Junto con Lennon, formó una de las parejas de compositores más exitosas de la historia de la música. McCartney es el único miembro de The Beatles que aún está vivo.\n",
      "\n",
      "- George Harrison (1943-2001): guitarrista principal, cantante y compositor. A menudo se le llamaba \"el Beatle tranquilo\". Harrison fue un guitarrista altamente influyente y también tuvo una exitosa carrera en solitario después de la separación de la banda.\n",
      "\n",
      "- Ringo Starr (nacido en 1940): baterista, percusionista y cantante. Starr se unió a la banda en 1962, reemplazando al baterista original Pete Best. Es conocido por su estilo de batería distintivo y su personalidad carismática.\n",
      "\n",
      "Estos cuatro miembros son los más reconocidos y asociados con el nombre de The Beatles. Sin embargo, es importante mencionar que durante los primeros años de la banda, el bajista original fue Stuart Sutcliffe (1940-1962), quien dejó la banda en 1961 para concentrarse en su carrera artística. Sutcliffe murió trágicamente en 1962 debido a una hemorragia cerebral.\n",
      "\n",
      "Además, el primer baterista de The Beatles fue Pete Best (nacido en 1941), quien tocó con la banda desde 1960 hasta 1962, cuando fue reemplazado por Ringo Starr.\n",
      "\n",
      "The Beatles alcanzaron un éxito sin precedentes y dejaron un legado musical duradero con canciones icónicas como \"Let It Be\", \"Hey Jude\", \"Yesterday\", \"Here Comes the Sun\", \"Yellow Submarine\", y muchos otros. La banda se separó en 1970, pero su música y su influencia siguen siendo relevantes hasta el día de hoy.\n"
     ]
    }
   ],
   "source": [
    "# Establecer la conexion a cohere y hacer su primer consulta con el modelo que quieran.\n",
    "# Usen la api version v2\n",
    "\n",
    "import cohere\n",
    "\n",
    "co = cohere.ClientV2()\n",
    "\n",
    "response = co.chat(\n",
    "    model=\"command-r-plus-08-2024\",\n",
    "    messages=[{\"role\": \"user\", \"content\": \"¿Quienes son los integrantes de The Beatles?\"}]\n",
    ")\n",
    "\n",
    "\n",
    "print(response.message.content[0].text)\n",
    "\n",
    "\n",
    "\n",
    "\n",
    "\n",
    "\n",
    "# desafio, obtener solo el contenido en texto de la respuesta"
   ]
  },
  {
   "cell_type": "code",
   "execution_count": null,
   "id": "d71349cf-a3cc-43ae-8f14-904ee36922b5",
   "metadata": {},
   "outputs": [],
   "source": []
  },
  {
   "cell_type": "markdown",
   "id": "cb6073ef-744b-4ace-a82c-fbf2962e4a4d",
   "metadata": {},
   "source": [
    "### Prompting"
   ]
  },
  {
   "cell_type": "code",
   "execution_count": null,
   "id": "5040c8d2-1e5b-42c7-8c8f-03947a603f99",
   "metadata": {},
   "outputs": [],
   "source": [
    "# Para un mismo prompt probar 3 modelos distintos para ver su variacion en performance de velocidad y calidad de respuesta.\n",
    "\n",
    "#command\n",
    "#command-light\n",
    "#command-r-plus-08-2024\n"
   ]
  },
  {
   "cell_type": "code",
   "execution_count": 55,
   "id": "77aee753-c8bf-44ae-b74f-d2d9c99bfc93",
   "metadata": {},
   "outputs": [
    {
     "name": "stdin",
     "output_type": "stream",
     "text": [
      "ingrese el idioma en que esta escrito la historia ingles\n"
     ]
    },
    {
     "name": "stdout",
     "output_type": "stream",
     "text": [
      "# Title: \"The Enchanted Forest's Secret\"\n",
      "\n",
      "**Story:**\n",
      "\n",
      "Once upon a time, in a magical realm, there lived a curious little fairy named Lily. She had a special talent for finding hidden treasures in the vast Enchanted Forest. One sunny morning, Lily set out on an adventure, determined to uncover the forest's biggest mystery. As she flew over the ancient trees, a gentle breeze carried whispers of a secret place.\n",
      "\n",
      "Lily followed the whispers until she reached a clearing with a magnificent tree. At its base, a tiny door glowed with a warm light. She knocked, and a wise old fairy appeared. \"Welcome, young explorer,\" she said. \"I'm the guardian of this forest's heart.\" The old fairy shared stories of the forest's magic and how every creature played a role in its harmony.\n",
      "\n",
      "Lily learned that even the smallest beings could make a big difference. She returned home, inspired to protect nature's wonders.\n",
      "\n",
      "**Reflection:**\n",
      "\n",
      "This tale teaches us that curiosity leads to wonderful discoveries. Lily's exploration not only revealed the forest's secret but also the importance of every creature's role in maintaining balance. It reminds children that they, too, can be guardians of nature's treasures. By embracing their curiosity and respect for the environment, they can contribute to a magical, harmonious world. Encouraging an early connection with nature fosters a sense of responsibility and wonder, making every child a potential hero in their own enchanting story.\n"
     ]
    }
   ],
   "source": [
    "# Paso 1, generar una historia corta 100 palabras como mucho y guardarla en una variable.\n",
    "#import cohere\n",
    "\n",
    "#co = cohere.ClientV2()\n",
    "\n",
    "#response = co.chat(\n",
    "    #model=\"command-r-plus-08-2024\",\n",
    "    #messages=[{\"role\": \"user\", \"content\": \"generá una historia de hasta 100 palabras\"}]    \n",
    "#)\n",
    "\n",
    "#resp= (response.message.content[0].text)\n",
    "#print(resp)\n",
    "\n",
    "# Paso 2, ir generando instrucciones para responder de cirta forma sobre la pregunta\n",
    "#import cohere\n",
    "\n",
    "#co = cohere.ClientV2()\n",
    "\n",
    "#response = co.chat(\n",
    "    #model=\"command-r-plus-08-2024\",\n",
    "  #  messages=[{\"role\": \"user\", \"content\": \"paso 1: Inventá un titulo para la historia;paso 2:Primero hace una introduccion presentando a los personajes;paso 3: Presenta el desarrollo;paso 4: Presenta el final;Recorda que son 100 palabras\"}]    \n",
    "#)\n",
    "\n",
    "#resp= (response.message.content[0].text)\n",
    "#print(resp)\n",
    "\n",
    "# ir agregando items\n",
    "import cohere\n",
    "\n",
    "co = cohere.ClientV2()\n",
    "idioma = input('ingrese el idioma en que esta escrito la historia')\n",
    "\n",
    "response = co.chat(\n",
    "    model=\"command-r-plus-08-2024\",\n",
    "    messages=[{\"role\": \"user\", \"content\": f\"Primer paso: generar un título en {idioma}; Segundo paso: generar la historia de 200 palabras de un cuento infantil que hable sobre hadas en {idioma}; tercer paso: genera una reflexión de aprendizaje sobre el mismo en {idioma}\"}],\n",
    ")\n",
    "resp= (response.message.content[0].text)\n",
    "print(resp)\n",
    "# - quiero una respuesta concisa\n",
    "# - responde ademas del texto utilizando emojis que resuman la respuesta\n",
    "# - responde en tercera persona\n",
    "# - responde en el idioma que te pregunta el usuario"
   ]
  },
  {
   "cell_type": "code",
   "execution_count": null,
   "id": "d6da00b3-2ab2-46d4-a123-9e2238cebeb4",
   "metadata": {},
   "outputs": [],
   "source": []
  },
  {
   "cell_type": "markdown",
   "id": "ab596f9a-2668-477d-a477-42651d1d4fe8",
   "metadata": {},
   "source": [
    "### Idiomas"
   ]
  },
  {
   "cell_type": "code",
   "execution_count": null,
   "id": "fb4a4001-082c-40fa-9198-1b234dcd2804",
   "metadata": {},
   "outputs": [],
   "source": [
    "Implementar una solucion utilizando el modelo command para que siempre se le responda al usuario en espanol.\n"
   ]
  },
  {
   "cell_type": "code",
   "execution_count": null,
   "id": "b89874ef-107b-480e-9859-6e940e9463f6",
   "metadata": {},
   "outputs": [],
   "source": [
    "# formato\n",
    "\n",
    "def responde_espanol(consulta):\n",
    "    # your code here\n",
    "    return # respuesta en espanol"
   ]
  },
  {
   "cell_type": "code",
   "execution_count": null,
   "id": "5159aea8-6e75-46f6-a8a5-1682ee0b1636",
   "metadata": {},
   "outputs": [],
   "source": [
    "responde_espanol('Como estas?')"
   ]
  },
  {
   "cell_type": "code",
   "execution_count": null,
   "id": "a449aa55-5302-4fa5-91aa-8f9570a11178",
   "metadata": {},
   "outputs": [],
   "source": []
  },
  {
   "cell_type": "markdown",
   "id": "1315c6de-7de9-4b80-8aca-e1eda118d2c1",
   "metadata": {},
   "source": [
    "#### Integracion de llamada del LLM al chatbot\n",
    "\n",
    "Integrar la llamada al LLM dentro del chatbot para que responda lo que el usuario le pregunte."
   ]
  },
  {
   "cell_type": "code",
   "execution_count": null,
   "id": "d79f7184-0e69-40c3-ace1-a8c87018239a",
   "metadata": {},
   "outputs": [],
   "source": [
    "# Crear widgets de entrada y salida\n",
    "input_box = widgets.Text(placeholder='Escribe tu mensaje aquí...')\n",
    "send_button = widgets.Button(description='Enviar')\n",
    "output_box = widgets.Output()\n",
    "\n",
    "\n",
    "# Función de respuesta simulada del chatbot\n",
    "def chatbot_response(message):\n",
    "    # Aquí puedes conectar tu modelo o lógica de chatbot real\n",
    "    responses = {\n",
    "        \"hola\": \"¡Hola! ¿En qué puedo ayudarte?\",\n",
    "        \"adiós\": \"¡Hasta luego!\",\n",
    "    }\n",
    "    return responses.get(message.lower(), \"Lo siento, no entiendo esa pregunta.\")\n",
    "\n",
    "# Función de manejo del botón\n",
    "def on_send_button_clicked(b):\n",
    "    with output_box:\n",
    "        clear_output(wait=True)\n",
    "        user_message = input_box.value\n",
    "        if user_message.strip():\n",
    "            print(f\"Tú: {user_message}\")\n",
    "            response = chatbot_response(user_message)\n",
    "            print(f\"Chatbot: {response}\")\n",
    "        input_box.value = ''\n",
    "\n",
    "# Asociar función al botón\n",
    "send_button.on_click(on_send_button_clicked)\n",
    "\n",
    "# Mostrar widgets\n",
    "display(input_box, send_button, output_box)"
   ]
  },
  {
   "cell_type": "code",
   "execution_count": null,
   "id": "37b7862b-a1db-42d7-9537-85757c96ce5b",
   "metadata": {},
   "outputs": [],
   "source": []
  },
  {
   "cell_type": "code",
   "execution_count": null,
   "id": "49d7c0c4-9360-4cec-b90b-4e9683afa9f2",
   "metadata": {},
   "outputs": [],
   "source": []
  },
  {
   "cell_type": "markdown",
   "id": "40875ef2-0f4c-4c80-9cfa-6ef6537252b7",
   "metadata": {},
   "source": [
    "Ahora como proximo paso darle personalidad al bot, la que ustedes quieran.\n",
    "\n",
    "Puede ser que responda amigable, que responda explicando conceptos como un profesor, etc."
   ]
  },
  {
   "cell_type": "code",
   "execution_count": null,
   "id": "c17096d6-2fcd-41e5-a6da-0b2685dc3726",
   "metadata": {},
   "outputs": [],
   "source": []
  }
 ],
 "metadata": {
  "kernelspec": {
   "display_name": "Python 3 (ipykernel)",
   "language": "python",
   "name": "python3"
  },
  "language_info": {
   "codemirror_mode": {
    "name": "ipython",
    "version": 3
   },
   "file_extension": ".py",
   "mimetype": "text/x-python",
   "name": "python",
   "nbconvert_exporter": "python",
   "pygments_lexer": "ipython3",
   "version": "3.12.7"
  }
 },
 "nbformat": 4,
 "nbformat_minor": 5
}

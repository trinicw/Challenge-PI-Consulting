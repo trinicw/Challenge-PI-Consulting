{
 "cells": [
  {
   "cell_type": "code",
   "execution_count": 1,
   "id": "ce3eb009-a9f2-4b00-9ce4-bbfb53f9c96d",
   "metadata": {},
   "outputs": [
    {
     "name": "stdout",
     "output_type": "stream",
     "text": [
      "r3eUg1U6gFJAeIuUddWn8QAFRXpwEYmEP71eXwZO\n"
     ]
    }
   ],
   "source": [
    "#Importamos las librerias y cargamos la api key\n",
    "import os\n",
    "import json\n",
    "import chromadb\n",
    "import cohere\n",
    "from dotenv import load_dotenv\n",
    "\n",
    "\n",
    "load_dotenv()  # Load .env file\n",
    "\n",
    "api_key = os.getenv(\"COHERE_API_KEY\")\n",
    "#print(api_key)  # Verify the key is loaded"
   ]
  },
  {
   "cell_type": "code",
   "execution_count": 8,
   "id": "08f61659-708e-442f-83e4-cb995ce389d3",
   "metadata": {},
   "outputs": [],
   "source": [
    "# Utilizamos los modelos\n",
    "\n",
    "# Establecer la conexion a cohere y hacer su primer consulta con el modelo de embeddings.\n",
    "# Usen la api version v2\n",
    "\n",
    "co = cohere.ClientV2()\n",
    "response = co.embed(\n",
    "    texts=[\"Club atlético Talleres\"],\n",
    "    model=\"embed-multilingual-v3.0\",\n",
    "    input_type=\"search_document\",\n",
    "    embedding_types=[\"float\"],\n",
    ")\n",
    "\n",
    "\n",
    "#print(response)"
   ]
  },
  {
   "cell_type": "code",
   "execution_count": 9,
   "id": "c3bc0b63-a34c-492f-a776-4ee533b0f37d",
   "metadata": {},
   "outputs": [
    {
     "name": "stdout",
     "output_type": "stream",
     "text": [
      "[0.04360962, 0.033416748, -0.013397217, 0.022109985, 0.004348755, 0.047912598, 0.003162384, -0.044433594, 0.015106201, -0.01576233, -0.037750244, 0.015670776, -0.011779785, -0.0074691772, -0.019515991, -0.005718231, -0.0015039444, 0.026504517, 0.034210205, 0.026824951, 0.023544312, -2.938509e-05, -0.021224976, -0.028121948, 0.036895752, 0.029891968, 0.068481445, -0.02444458, 0.035980225, 0.0010471344, -0.034210205, -0.033996582, 0.086364746, 0.010910034, -0.0061035156, 0.0021839142, -0.031921387, -0.06274414, -0.014373779, 0.07080078, -0.017593384, 0.0010757446, -0.027770996, 0.031921387, -0.02508545, -0.0060539246, 0.017990112, 0.029724121, 0.077697754, 0.021774292, 0.015106201, -0.020568848, 0.0006632805, 0.0025463104, 0.005558014, -0.0054092407, 0.018569946, 3.8325787e-05, 0.020111084, 0.03149414, 0.0027103424, -0.028915405, -0.036346436, 0.006755829, -0.003326416, 0.030059814, 0.019104004, 0.014572144, 0.015914917, 0.009757996, 0.011108398, 0.021774292, 0.036193848, -0.008323669, -0.03074646, -0.011978149, 0.018707275, 0.049468994, 0.0051612854, 0.022338867, -0.0038261414, 0.024429321, 0.06286621, 0.034301758, 0.04345703, 0.011123657, -0.016784668, 0.03111267, -0.03137207, 0.054016113, -0.007411957, 0.043029785, 0.026306152, -0.059631348, 0.021560669, -0.009506226, -0.005126953, -0.019958496, -0.02885437, -0.0184021, 0.006576538, -0.018325806, -0.003566742, 0.004348755, -0.00089883804, 0.0002092123, -0.003929138, -0.014572144, -0.07659912, -0.035064697, 0.008987427, 0.023986816, 0.02192688, -0.023788452, -0.034423828, -0.015777588, 0.006412506, -0.01374054, -0.036590576, -0.010734558, -0.062316895, -0.03567505, -0.004535675, 0.018249512, 0.0023097992, 0.06274414, -0.0010099411, -0.07116699, 0.024108887, -0.014846802, -0.054504395, 0.016067505, 0.032318115, 0.0047416687, 0.042938232, -0.001750946, 0.02658081, -0.02279663, 0.043762207, 0.021835327, 0.014480591, 0.03527832, 0.020751953, 0.028396606, 0.00087451935, -0.034454346, -0.0038642883, 0.024047852, -0.017868042, -0.0096588135, -0.038146973, -0.020111084, 0.020645142, -0.044067383, 0.013977051, 0.0060157776, 0.021347046, 0.0035114288, 0.009613037, 0.008735657, 0.014427185, -0.010253906, 0.012489319, -0.03277588, -0.019119263, -0.036376953, 0.032806396, 0.00068712234, 0.0014152527, -0.015808105, 0.05001831, -0.019348145, -0.010940552, -0.0035705566, 0.011238098, 0.0076179504, -0.0019664764, 0.0129852295, 0.044189453, -0.05657959, 0.049713135, -0.0138168335, 0.0025863647, 0.05517578, 0.0574646, 0.08630371, 0.015777588, -0.015548706, -0.018218994, 0.093322754, -0.043640137, -0.07788086, -0.061950684, 0.013900757, -0.0496521, 0.034362793, 0.035308838, -0.02911377, 0.053131104, 0.05404663, -0.013015747, -0.005508423, 0.019012451, 0.034423828, -0.02116394, 0.01725769, 0.019699097, 0.021087646, -0.021972656, -0.0031929016, -0.011367798, 0.02911377, 0.050842285, -0.03564453, 0.042022705, 0.0033092499, 0.0030326843, 0.054504395, 0.018249512, 0.033721924, 0.028915405, -0.011390686, -0.0021686554, -0.037384033, 0.014564514, -0.051330566, 0.0053253174, -0.043884277, 0.038116455, -0.008735657, 0.0021133423, -0.037872314, 0.0009703636, 0.035736084, 0.030532837, 0.032562256, -0.030044556, -0.060821533, -0.05050659, 0.024719238, 0.058776855, 0.052581787, -0.01725769, -0.0034275055, 0.047851562, -0.00091314316, -0.007083893, -0.052093506, 0.026260376, -0.0067863464, -0.01675415, 0.033111572, -0.008911133, 0.018035889, 0.038635254, 0.03262329, -0.0016708374, -0.02796936, 0.00982666, -0.0042533875, 0.0020980835, 0.0064582825, 0.057037354, -0.026885986, -0.036621094, -0.022033691, -0.022842407, -0.0018043518, 0.07556152, -0.00289917, 0.021743774, -0.05444336, -0.028778076, 0.058441162, 0.025924683, 0.031082153, -0.018051147, 0.01725769, -0.025115967, 0.024841309, 0.06463623, 0.03488159, -0.008613586, -0.06109619, -0.10473633, 0.008758545, 0.031280518, 0.005874634, -0.09246826, 0.058135986, 0.030349731, -0.0032730103, 0.018295288, 0.015716553, 0.026229858, -0.011711121, 0.019439697, -0.031402588, -0.021392822, 0.055511475, -0.03878784, 0.028869629, 0.02168274, 0.0051956177, 0.024353027, 0.046203613, -0.0105896, 0.017059326, 0.028030396, 0.011352539, 0.0059509277, -0.0003786087, -0.017288208, -0.0017185211, -0.045074463, -0.014541626, -0.058776855, -0.007083893, -0.004421234, 0.008430481, -0.023864746, -0.028167725, -0.034240723, 0.018630981, -0.03692627, 0.024124146, -0.0055160522, -0.009712219, -0.0048065186, 0.0385437, 0.071899414, -0.0076065063, -0.013046265, -0.031051636, 0.043884277, 0.046966553, 0.054534912, 0.012161255, 0.048339844, -0.030807495, -0.057373047, -0.0018692017, -0.034698486, -0.025115967, 0.027816772, 0.001241684, 0.01574707, -0.06488037, -0.058135986, -0.050323486, 0.027786255, 0.023345947, -0.057159424, -0.02520752, -0.01953125, 0.009254456, -0.014709473, 0.020599365, -0.0126571655, -0.025787354, 0.034179688, -0.07873535, -0.037139893, 0.0051879883, 0.013755798, 0.04220581, 0.027282715, 0.036102295, -0.034423828, 0.036621094, 0.024612427, 0.035980225, 0.050689697, 0.049194336, -0.042419434, 0.04638672, -0.039215088, -0.027770996, -0.010169983, -0.03378296, 0.0057792664, -0.011116028, -0.024215698, 0.01890564, -0.011627197, 0.034942627, 0.025619507, -0.013389587, -0.013320923, 0.01423645, 0.014404297, -0.029708862, 0.021270752, -0.026321411, -0.0015563965, 0.0050697327, -0.031921387, 0.02470398, -0.04473877, -0.029449463, -0.025604248, -0.033294678, -0.025405884, -0.023132324, 0.0072669983, -0.009895325, -0.004005432, 0.036376953, 0.027267456, 0.002035141, -0.017669678, 0.013061523, -0.023605347, -0.025939941, 0.004760742, -0.032104492, 0.0014648438, -0.024154663, -0.015533447, 0.0016012192, -0.003332138, -0.0062675476, -0.018569946, -0.012702942, 0.017593384, 0.07556152, 0.005329132, -0.056396484, 0.059661865, -0.003238678, -0.029922485, 0.027618408, 0.004600525, 0.008995056, -0.05996704, 0.029251099, -0.082092285, 0.07891846, -0.017837524, 0.029418945, -0.011306763, 0.046417236, -0.00038456917, -0.0027046204, 0.04876709, 0.0038661957, 0.009719849, 0.029632568, -0.06976318, 1.7881393e-05, -0.00095558167, 0.0001680851, 0.008979797, -0.01436615, 0.010169983, -0.054473877, 0.01083374, 0.043823242, 0.03366089, -0.017684937, -0.021224976, -0.02130127, -0.015525818, -0.053710938, 0.024108887, -0.0010681152, 0.015167236, 0.006629944, -0.028945923, 0.029403687, -0.034729004, 0.06137085, -0.05126953, -0.039489746, 0.037963867, 0.068847656, -0.025375366, 0.0026664734, 0.021194458, 0.027267456, -0.08117676, -0.00083732605, 0.042388916, -0.043426514, -0.014320374, -0.0021953583, 0.078125, -0.0057678223, 0.0927124, -0.05328369, -0.010765076, 0.032196045, -0.024963379, 0.018722534, 0.05871582, -0.03466797, 0.032562256, -0.024719238, -0.000102221966, -0.014656067, 0.042633057, 0.005771637, 0.00121212, 0.001625061, 0.00082683563, -0.006122589, 0.009246826, 0.0074539185, -0.04373169, -0.0045547485, -0.0052986145, 0.0029563904, -0.025863647, 0.026855469, 0.015579224, -0.049041748, 0.010559082, 0.027038574, 0.023925781, -0.057037354, 0.012481689, 0.06585693, 0.020935059, 0.014266968, 0.042633057, -0.0044784546, -0.0057792664, 0.022567749, -0.0670166, 0.028579712, -0.015342712, -0.014305115, -0.037963867, -0.003982544, -0.032440186, -0.08514404, 0.02772522, 0.0184021, 0.021652222, 0.056549072, 0.08306885, 0.024215698, 0.07385254, 0.055633545, 0.0026111603, -0.033081055, -0.04055786, -0.030929565, -0.036956787, 0.024551392, 0.002040863, 0.012573242, -0.019210815, -0.02583313, -0.002822876, 0.0115737915, -0.01134491, -0.011192322, 0.027450562, -0.030349731, -0.028274536, -0.043060303, -0.013206482, 0.06616211, 0.012245178, -0.022460938, 0.011291504, 0.012054443, -0.006504059, -0.05328369, 0.019378662, 0.02758789, 0.016189575, -0.010070801, -0.006668091, -0.032989502, 0.047851562, -0.018173218, -0.025650024, 8.046627e-05, -0.0068130493, -0.0067825317, 0.033477783, -0.013084412, 0.028015137, -0.08087158, -0.007736206, -0.008155823, -0.022903442, -0.00655365, 0.0005145073, -0.022384644, 0.025512695, -0.009246826, -0.04800415, 0.01448822, -0.03527832, 0.08782959, 0.042877197, 0.013580322, 0.05496216, 0.024398804, -0.014755249, -0.021591187, -0.03201294, -0.017211914, 0.058288574, -0.04171753, 0.0021800995, -0.008094788, 0.01625061, -0.010009766, -0.0076904297, 0.019088745, 0.00045990944, -0.003200531, 0.0211792, 0.008552551, 0.028167725, -0.011924744, 0.0059127808, -0.046875, 0.053619385, 0.03451538, -0.015945435, -0.008201599, 0.030044556, -0.014442444, -0.04147339, -0.019744873, -0.03656006, -0.024124146, 0.0026664734, -0.050598145, -0.035888672, -0.0087890625, 0.041107178, -0.059326172, -0.017715454, 0.06317139, -0.0020656586, 0.0036811829, 0.018371582, -0.009223938, -0.03074646, -0.028442383, -0.004085541, -0.00617218, 0.0032482147, 0.027282715, -0.073791504, 0.017547607, 0.095947266, -0.07128906, 0.01638794, -0.0029659271, 0.008308411, 0.025009155, -0.004436493, 0.019180298, -0.019485474, -0.006298065, -0.00756073, -0.00868988, 0.015853882, -0.028808594, 0.0140686035, 0.049316406, 0.011131287, -0.020584106, 0.018753052, 0.02230835, 0.014694214, 0.053619385, 0.05645752, -0.015419006, -0.050933838, -0.03805542, 0.012306213, -0.02078247, 0.0056610107, 0.037628174, -0.02684021, 0.013717651, 0.007537842, -0.017745972, -0.036834717, -0.03591919, -0.046844482, -0.047790527, 0.014694214, 0.058685303, 0.007419586, -0.01965332, 0.002532959, -0.0049438477, 0.017150879, -0.0345459, -0.014251709, 0.013175964, -0.0115356445, 0.020492554, 0.019104004, 0.004272461, -0.007408142, -0.022399902, 0.030914307, -0.013046265, -0.011116028, -0.004787445, -0.0021438599, -0.015426636, -0.022949219, 0.013053894, 0.019805908, 0.008972168, 0.041656494, -0.0033721924, -0.0143585205, 0.07684326, 0.007259369, -0.0057411194, -0.0046653748, -0.030059814, -0.0009822845, 0.021026611, -0.016235352, -0.010314941, 0.0010766983, -0.025054932, -0.05581665, 0.0079422, 0.011276245, -0.0004107952, -0.010391235, -0.044158936, -0.041870117, -0.09082031, 0.06726074, -0.036132812, 0.014511108, 0.018203735, -0.019897461, -0.02267456, 0.0024356842, 0.02357483, -0.009384155, -0.0047416687, -0.00844574, -0.018295288, -0.010848999, -0.011230469, 0.009429932, 0.03781128, 0.0032176971, -0.0055770874, -0.027557373, -0.003353119, -0.030456543, -0.07733154, -0.0061531067, -0.012001038, 0.017684937, -0.008087158, 0.009864807, 0.03704834, -0.014717102, 0.0046577454, -0.025894165, 0.034851074, -0.046875, 0.022094727, -0.002603531, -0.010345459, -0.047027588, -0.00083589554, -0.056518555, -0.0018482208, 0.008033752, 0.0046539307, -0.031280518, -0.032928467, 0.044708252, -0.045135498, -0.022613525, -0.024917603, -0.0032653809, -0.012054443, 0.023330688, 0.027786255, 0.001537323, 0.0007638931, -4.2915344e-06, -0.026031494, -0.010475159, -0.0031147003, 0.033813477, -0.058502197, -0.0152282715, -0.052734375, 0.053741455, -0.05718994, -0.027664185, 0.008682251, 0.043151855, -0.02571106, 0.009796143, 0.04135132, 0.015625, 0.008155823, -0.023498535, 0.006175995, 0.018234253, 0.013641357, 0.032806396, 0.01876831, 0.06561279, 0.060821533, 0.021911621, 0.022415161, 0.016601562, -0.01159668, -0.020080566, 0.017333984, 0.015853882, 0.003004074, 0.0020008087, -0.012031555, -0.0158844, 0.039276123, -0.042541504, -0.014762878, -0.04547119, 0.0012130737, -0.018005371, -0.0063972473, 0.0044059753, 0.017990112, -0.0012073517, -0.001127243, 0.023284912, -0.010971069, -0.015304565, 0.023010254, 0.035308838, 0.041900635, -0.025909424, 0.034301758, 0.025680542, 0.08343506, 0.005683899, -0.021408081, 0.021621704, -0.008621216, 0.021057129, -0.023712158, 0.030807495, -0.019851685, 0.030441284, -0.00023770332, -0.018218994, 0.0033512115, -0.03024292, 0.021743774, 0.022964478, 0.008110046, -0.062805176, -0.0075035095, -0.01725769, -0.04031372, -0.023406982, 0.017868042, 0.026733398, -0.0087509155, 0.011238098, -0.030471802, 0.013954163, 0.0018444061, -0.024932861, 0.019729614, 0.019256592, -0.02923584, -0.009780884, -0.053863525, -0.019302368, -0.012336731, -0.017501831, 0.040893555, -0.027709961, 0.0060768127, 0.01902771, 0.027908325, 0.018371582, 0.014015198, -0.020767212, -0.005340576, 0.048736572, 0.0029258728, -0.023086548, -0.013008118, -0.012512207, 0.07678223, 0.028747559, -0.07104492, -0.010681152, 0.0024814606, 0.013549805, 0.003036499, -0.0022602081, -0.0109939575, 0.027557373, 0.026641846, -0.0006766319, 0.011009216, 0.00687027, 0.007030487, -0.032836914, -0.016815186, 0.023239136, -0.015007019, -0.013999939, 0.04812622, -0.029891968, 0.008598328, -0.019134521, -0.037109375, 0.026260376, 0.0026779175, -0.057495117, 0.00548172, -0.0007343292, -0.034179688, 0.013847351, -0.020233154, 0.02532959, -0.0057258606, -0.018173218, -0.016357422, -0.0040740967, 0.002204895, 0.054473877, -0.011108398, 0.023483276, 0.02243042, 0.012260437, 0.0026283264, -0.041625977, -0.025680542, 0.021820068, -0.009140015, 0.032440186, 0.015823364, 0.014190674, -0.019927979, -0.013313293, -0.0024337769, 0.008644104, -0.010665894, 0.026321411, -0.0023117065, -0.009460449, -0.011100769, -0.015640259, -0.024993896, -0.033172607, -0.048309326, 0.03286743, -0.025680542, -0.005264282, 0.056152344, 0.04135132, 0.0736084, -0.03149414, 9.101629e-05, -0.015113831, 2.8550625e-05, -0.017120361, -0.01737976, 0.060180664, -0.0025501251, 0.023086548, 0.035003662, 0.018127441, 0.028366089, -0.010719299, 0.0209198, 0.084350586, -0.0647583, 0.020492554, 0.027069092, -0.033691406, -0.009895325, -0.070739746, -0.08294678, 0.02670288, 0.037963867, -0.058410645, 0.025634766, 0.011123657, 0.012390137, 0.016082764, -0.00038552284, -0.04840088, 0.03201294, 0.0040016174, 0.022369385, -0.023834229, -0.023635864, 0.0016469955, 0.016159058, -0.0017910004, 0.014541626, -0.01852417, 0.009269714, -0.026657104, -0.014213562, -0.0010929108, -0.011917114, -0.031158447, 0.019744873, -0.020935059, 0.051483154, 0.0066184998, -0.04083252]\n"
     ]
    }
   ],
   "source": [
    "# desafio, obtener solo el contenido en vector\n",
    "print(response.embeddings.float_[0])"
   ]
  },
  {
   "cell_type": "code",
   "execution_count": 10,
   "id": "b182f492-fa08-43cb-b299-adc4f8815d83",
   "metadata": {},
   "outputs": [
    {
     "name": "stdout",
     "output_type": "stream",
     "text": [
      "1024\n"
     ]
    }
   ],
   "source": [
    "# Averiguamos el tamaño del vector\n",
    "print(len(response.embeddings.float_[0]))"
   ]
  },
  {
   "cell_type": "code",
   "execution_count": 11,
   "id": "52fa6644-783f-4814-808f-c639e8aa505e",
   "metadata": {},
   "outputs": [
    {
     "name": "stdout",
     "output_type": "stream",
     "text": [
      "3\n"
     ]
    }
   ],
   "source": [
    "# pasando varios textos al mismo tiempo\n",
    "\n",
    "response = co.embed(\n",
    "    texts=[\"hola\", \"que onda chavo\", \"Aca mas texto\"],  # hay 3 textos por lo tanto tenemos 3 vectores de 1024 elementos cada uno\n",
    "    model=\"embed-multilingual-v3.0\",\n",
    "    input_type=\"search_document\",\n",
    "    embedding_types=[\"float\"],\n",
    ")\n",
    "\n",
    "print(len(response.embeddings.float_))"
   ]
  },
  {
   "cell_type": "code",
   "execution_count": 13,
   "id": "d1ffc50c-910e-49b0-8445-59d35c49f073",
   "metadata": {},
   "outputs": [],
   "source": [
    "#Similaridad : encontrar la frase más similar usando embeddings\n",
    "#Definición de una función helper para obtener embeddings\n",
    "\n",
    "def get_embeddings(textos):\n",
    "    \n",
    "    response= co.embed(\n",
    "        texts=textos,\n",
    "        model=\"embed-multilingual-v3.0\",\n",
    "        input_type=\"search_document\",\n",
    "        embedding_types=[\"float\"],\n",
    "    )\n",
    "    return response.embeddings.float_"
   ]
  },
  {
   "cell_type": "code",
   "execution_count": 15,
   "id": "3e52d3f5-2923-4246-8f58-67df0195edf1",
   "metadata": {},
   "outputs": [
    {
     "name": "stdout",
     "output_type": "stream",
     "text": [
      "4\n"
     ]
    }
   ],
   "source": [
    "# probamos la funcion 'get_embeddings'\n",
    "\n",
    "textos = ['hola', 'que tal', 'gato', 'perro']\n",
    "prueba_embedding = get_embeddings(textos)\n",
    "#print(len(prueba_embedding)) # cantidad de vectores\n",
    "#print(prueba_embedding) # aca me muestra todos los numeros de los 4 vectores"
   ]
  },
  {
   "cell_type": "code",
   "execution_count": 22,
   "id": "1757338e-5e24-44ee-843d-b659ee20ef60",
   "metadata": {},
   "outputs": [
    {
     "name": "stdout",
     "output_type": "stream",
     "text": [
      "Requirement already satisfied: scikit-learn in c:\\users\\trini\\appdata\\local\\programs\\python\\python310\\lib\\site-packages (1.5.2)\n",
      "Requirement already satisfied: numpy>=1.19.5 in c:\\users\\trini\\appdata\\local\\programs\\python\\python310\\lib\\site-packages (from scikit-learn) (2.1.3)\n",
      "Requirement already satisfied: scipy>=1.6.0 in c:\\users\\trini\\appdata\\local\\programs\\python\\python310\\lib\\site-packages (from scikit-learn) (1.14.1)\n",
      "Requirement already satisfied: joblib>=1.2.0 in c:\\users\\trini\\appdata\\local\\programs\\python\\python310\\lib\\site-packages (from scikit-learn) (1.4.2)\n",
      "Requirement already satisfied: threadpoolctl>=3.1.0 in c:\\users\\trini\\appdata\\local\\programs\\python\\python310\\lib\\site-packages (from scikit-learn) (3.5.0)\n"
     ]
    }
   ],
   "source": [
    "from sklearn.metrics.pairwise import cosine_similarity\n",
    "\n",
    "#Este método utiliza la métrica de similitud de coseno. Esto implica normalizar\n",
    "#los vectores antes de calcular su relación. La ventaja de la similitud del coseno es que\n",
    "#es independiente de la magnitud de los vectores. Sólo considera la orientación, lo cual \n",
    "# es ideal si los embeddings no están normalizados.\n",
    "\n",
    "!pip install scikit-learn\n",
    "\n",
    "\n",
    "\n"
   ]
  },
  {
   "cell_type": "code",
   "execution_count": 21,
   "id": "83d5e555-6935-4636-829d-27d0392450c8",
   "metadata": {},
   "outputs": [
    {
     "name": "stdout",
     "output_type": "stream",
     "text": [
      "Requirement already satisfied: scikit-learn in c:\\users\\trini\\appdata\\local\\programs\\python\\python310\\lib\\site-packages (1.5.2)\n",
      "Requirement already satisfied: numpy>=1.19.5 in c:\\users\\trini\\appdata\\local\\programs\\python\\python310\\lib\\site-packages (from scikit-learn) (2.1.3)\n",
      "Requirement already satisfied: scipy>=1.6.0 in c:\\users\\trini\\appdata\\local\\programs\\python\\python310\\lib\\site-packages (from scikit-learn) (1.14.1)\n",
      "Requirement already satisfied: joblib>=1.2.0 in c:\\users\\trini\\appdata\\local\\programs\\python\\python310\\lib\\site-packages (from scikit-learn) (1.4.2)\n",
      "Requirement already satisfied: threadpoolctl>=3.1.0 in c:\\users\\trini\\appdata\\local\\programs\\python\\python310\\lib\\site-packages (from scikit-learn) (3.5.0)\n"
     ]
    }
   ],
   "source": [
    "\n"
   ]
  },
  {
   "cell_type": "code",
   "execution_count": 23,
   "id": "69383fe1-d25e-4aa6-9c5d-d3cc22b2dfda",
   "metadata": {},
   "outputs": [],
   "source": [
    "# Frase base\n",
    "frase_base = [\"El clima hoy es muy soleado y cálido.\"]\n",
    "\n",
    "# Frases a matchear\n",
    "frases = [\n",
    "    \"Hoy es un día lluvioso.\",\n",
    "    \"El sol brilla y hace calor.\",\n",
    "    \"Mañana podría llover.\",\n",
    "    \"El invierno se siente frío.\",\n",
    "    \"Hace mucho viento afuera.\"\n",
    "]\n",
    "\n",
    "\n",
    "# Generar embeddings para todas las frases\n",
    "embeddings_base = get_embeddings(frase_base) #aca guardo el vector de la frase base\n",
    "embeddings_frases = get_embeddings(frases)  # aca guardo todos los vectores del listado de frases"
   ]
  },
  {
   "cell_type": "code",
   "execution_count": 27,
   "id": "2728d4b2-eda2-4c99-b53c-c22397f77dfb",
   "metadata": {},
   "outputs": [
    {
     "name": "stdout",
     "output_type": "stream",
     "text": [
      "Frase base: \"['El clima hoy es muy soleado y cálido.']\"\n",
      "Frase 1: \"Hoy es un día lluvioso.\" - Similitud: 0.7390\n",
      "Frase 2: \"El sol brilla y hace calor.\" - Similitud: 0.8747\n",
      "Frase 3: \"Mañana podría llover.\" - Similitud: 0.6385\n",
      "Frase 4: \"El invierno se siente frío.\" - Similitud: 0.5750\n",
      "Frase 5: \"Hace mucho viento afuera.\" - Similitud: 0.6574\n",
      "\n",
      "La frase más similar es: \"El sol brilla y hace calor.\"\n"
     ]
    }
   ],
   "source": [
    "# Calcular similitud coseno entre la frase base y cada frase a matchear\n",
    "# Lista para almacenar los resultados de similitud\n",
    "similaridades = [] \n",
    "\n",
    "for emb in embeddings_frases:\n",
    "    # Calcular similitud coseno entre la frase base y la frase actual\n",
    "    sim_coseno = cosine_similarity(embeddings_base, [emb])\n",
    "    \n",
    "    # Acceder al valor de la similitud (un solo valor en la matriz 1x1)\n",
    "    similaridades.append(sim_coseno[0][0])\n",
    "\n",
    "    # Encontrar la frase más similar\n",
    "indice_max = similaridades.index(max(similaridades))\n",
    "frase_mas_similar = frases[indice_max]\n",
    "\n",
    "# Imprimir resultados\n",
    "print(f\"Frase base: \\\"{frase_base}\\\"\")\n",
    "for i, frase in enumerate(frases):\n",
    "    print(f\"Frase {i+1}: \\\"{frase}\\\" - Similitud: {similaridades[i]:.4f}\")\n",
    "    \n",
    "print(f\"\\nLa frase más similar es: \\\"{frase_mas_similar}\\\"\")\n"
   ]
  },
  {
   "cell_type": "code",
   "execution_count": 28,
   "id": "f89c2f21-814b-4f89-9d0c-25ec9564f433",
   "metadata": {},
   "outputs": [
    {
     "name": "stdout",
     "output_type": "stream",
     "text": [
      "Frase base: \"['El clima hoy es muy soleado y cálido.']\"\n",
      "Frase 1: \"Hoy es un día lluvioso.\" - Producto punto: 0.7391\n",
      "Frase 2: \"El sol brilla y hace calor.\" - Producto punto: 0.8747\n",
      "Frase 3: \"Mañana podría llover.\" - Producto punto: 0.6384\n",
      "Frase 4: \"El invierno se siente frío.\" - Producto punto: 0.5752\n",
      "Frase 5: \"Hace mucho viento afuera.\" - Producto punto: 0.6574\n",
      "\n",
      "La frase más similar es: \"El sol brilla y hace calor.\"\n"
     ]
    }
   ],
   "source": [
    "\n",
    "# Ahora lo resolvemos utilizando producto punto\n",
    "\n",
    "\n",
    "import numpy as np\n",
    "\n",
    "similaridades = []\n",
    "\n",
    "for emb in embeddings_frases:\n",
    "    # Calcular el producto punto entre el embedding de la frase base y el de la frase actual\n",
    "    producto_punto = np.dot(embeddings_base[0], emb)\n",
    "    \n",
    "    # Agregar el producto punto a la lista de similaridades\n",
    "    similaridades.append(producto_punto)\n",
    "\n",
    "# Encontrar la frase más similar\n",
    "indice_max = similaridades.index(max(similaridades))\n",
    "frase_mas_similar = frases[indice_max]\n",
    "\n",
    "# Imprimir resultados\n",
    "print(f\"Frase base: \\\"{frase_base}\\\"\")\n",
    "for i, frase in enumerate(frases):\n",
    "    print(f\"Frase {i+1}: \\\"{frase}\\\" - Producto punto: {similaridades[i]:.4f}\")\n",
    "\n",
    "print(f\"\\nLa frase más similar es: \\\"{frase_mas_similar}\\\"\")\n"
   ]
  },
  {
   "cell_type": "code",
   "execution_count": 29,
   "id": "403d2790-2cc0-4a9b-8889-90b4c5f1e8f1",
   "metadata": {},
   "outputs": [],
   "source": [
    "# Base de datos vectorial\n",
    "#Importación de la base vectorial chroma\n",
    "import chromadb\n",
    "\n",
    "chroma_client = chromadb.Client()\n",
    "\n",
    "# si quieren que la base se guarde en la pc\n",
    "#client = chromadb.PersistentClient(path=\"/path/to/save/to\")"
   ]
  },
  {
   "cell_type": "code",
   "execution_count": 38,
   "id": "b57a1ade-dbae-4925-bd3e-404922e7af97",
   "metadata": {},
   "outputs": [],
   "source": [
    "#Levantar la base de datos\n",
    "\n",
    "collection= chroma_client.create_collection(name= \"my_collection\")  #es un contenedor que puede almacenar muchos vectores. "
   ]
  },
  {
   "cell_type": "code",
   "execution_count": 39,
   "id": "353c5eef-9cfc-4979-adec-618657d9354b",
   "metadata": {},
   "outputs": [],
   "source": [
    "# Cargar data en la base de datos\n",
    "\n",
    "collection.add(\n",
    "    documents=[\n",
    "        \"This is a document about pineapple\",\n",
    "        \"This is a document about oranges\",\n",
    "        \"This is a document about dogs\"\n",
    "\n",
    "    ],\n",
    "    ids=[\"id1\", \"id2\", \"id3\"]\n",
    ")\n"
   ]
  },
  {
   "cell_type": "code",
   "execution_count": 40,
   "id": "3be440ad-2dc3-419c-9eee-02905cb235ca",
   "metadata": {},
   "outputs": [
    {
     "name": "stdout",
     "output_type": "stream",
     "text": [
      "{'ids': [['id1']], 'embeddings': None, 'documents': [['This is a document about pineapple']], 'uris': None, 'data': None, 'metadatas': [[None]], 'distances': [[1.0404009819030762]], 'included': [<IncludeEnum.distances: 'distances'>, <IncludeEnum.documents: 'documents'>, <IncludeEnum.metadatas: 'metadatas'>]}\n"
     ]
    }
   ],
   "source": [
    "# Consultar sobre la base\n",
    "\n",
    "results = collection.query(\n",
    "    query_texts=[\"This is a query document about hawaii\"], # Chroma will embed this for you\n",
    "    n_results=1 # how many results to return\n",
    ")\n",
    "print(results)\n"
   ]
  },
  {
   "cell_type": "code",
   "execution_count": 41,
   "id": "de1c4ac9-d451-47e7-8333-29ba66fa7a06",
   "metadata": {},
   "outputs": [
    {
     "name": "stdout",
     "output_type": "stream",
     "text": [
      "{\n",
      "  \"ids\": [\n",
      "    [\n",
      "      \"id1\"\n",
      "    ]\n",
      "  ],\n",
      "  \"embeddings\": null,\n",
      "  \"documents\": [\n",
      "    [\n",
      "      \"This is a document about pineapple\"\n",
      "    ]\n",
      "  ],\n",
      "  \"uris\": null,\n",
      "  \"data\": null,\n",
      "  \"metadatas\": [\n",
      "    [\n",
      "      null\n",
      "    ]\n",
      "  ],\n",
      "  \"distances\": [\n",
      "    [\n",
      "      1.0404009819030762\n",
      "    ]\n",
      "  ],\n",
      "  \"included\": [\n",
      "    \"distances\",\n",
      "    \"documents\",\n",
      "    \"metadatas\"\n",
      "  ]\n",
      "}\n"
     ]
    }
   ],
   "source": [
    "print(json.dumps(results, indent=2))"
   ]
  },
  {
   "cell_type": "code",
   "execution_count": 96,
   "id": "a191f1f8-1edc-48af-8a0b-e69ee5d1af0a",
   "metadata": {},
   "outputs": [],
   "source": [
    "chroma_client.delete_collection(name=\"my_collection\")"
   ]
  },
  {
   "cell_type": "code",
   "execution_count": 97,
   "id": "9d5d3619-2053-4fe5-b65e-7f677914fde7",
   "metadata": {},
   "outputs": [],
   "source": [
    "# Otra opcion es cargar los embeddings directamente a la base"
   ]
  },
  {
   "cell_type": "code",
   "execution_count": 98,
   "id": "a87ba20c-4dd2-4d2c-ab33-b2426c76eb94",
   "metadata": {},
   "outputs": [],
   "source": [
    "def get_embeddings(textos):\n",
    "    \n",
    "    response= co.embed(\n",
    "        texts=textos,\n",
    "        model=\"embed-english-v3.\",\n",
    "        input_type=\"search_document\",\n",
    "        embedding_types=[\"float\"],\n",
    "    )\n",
    "    return response.embeddings.float_"
   ]
  },
  {
   "cell_type": "code",
   "execution_count": 99,
   "id": "8821b070-1a3d-4179-8e06-f8c3f0e51cc9",
   "metadata": {},
   "outputs": [],
   "source": [
    "documents=[\n",
    "        \"This is a document about pineapple\",\n",
    "        \"This is a document about oranges\",\n",
    "        \"This is a document about dogs\"    \n",
    "    ]"
   ]
  },
  {
   "cell_type": "code",
   "execution_count": 100,
   "id": "c9a4a7f3-fd2e-414c-bf4b-0b21bfe96e79",
   "metadata": {},
   "outputs": [
    {
     "ename": "NotFoundError",
     "evalue": "status_code: 404, body: {'message': \"model 'embed-english-v3.' not found, make sure the correct model ID was used and that you have access to the model.\"}",
     "output_type": "error",
     "traceback": [
      "\u001b[1;31m---------------------------------------------------------------------------\u001b[0m",
      "\u001b[1;31mNotFoundError\u001b[0m                             Traceback (most recent call last)",
      "Cell \u001b[1;32mIn[100], line 1\u001b[0m\n\u001b[1;32m----> 1\u001b[0m cohere_embeddings \u001b[38;5;241m=\u001b[39m  \u001b[43mget_embeddings\u001b[49m\u001b[43m(\u001b[49m\u001b[43mdocuments\u001b[49m\u001b[43m)\u001b[49m\n",
      "Cell \u001b[1;32mIn[98], line 3\u001b[0m, in \u001b[0;36mget_embeddings\u001b[1;34m(textos)\u001b[0m\n\u001b[0;32m      1\u001b[0m \u001b[38;5;28;01mdef\u001b[39;00m \u001b[38;5;21mget_embeddings\u001b[39m(textos):\n\u001b[1;32m----> 3\u001b[0m     response\u001b[38;5;241m=\u001b[39m \u001b[43mco\u001b[49m\u001b[38;5;241;43m.\u001b[39;49m\u001b[43membed\u001b[49m\u001b[43m(\u001b[49m\n\u001b[0;32m      4\u001b[0m \u001b[43m        \u001b[49m\u001b[43mtexts\u001b[49m\u001b[38;5;241;43m=\u001b[39;49m\u001b[43mtextos\u001b[49m\u001b[43m,\u001b[49m\n\u001b[0;32m      5\u001b[0m \u001b[43m        \u001b[49m\u001b[43mmodel\u001b[49m\u001b[38;5;241;43m=\u001b[39;49m\u001b[38;5;124;43m\"\u001b[39;49m\u001b[38;5;124;43membed-english-v3.\u001b[39;49m\u001b[38;5;124;43m\"\u001b[39;49m\u001b[43m,\u001b[49m\n\u001b[0;32m      6\u001b[0m \u001b[43m        \u001b[49m\u001b[43minput_type\u001b[49m\u001b[38;5;241;43m=\u001b[39;49m\u001b[38;5;124;43m\"\u001b[39;49m\u001b[38;5;124;43msearch_document\u001b[39;49m\u001b[38;5;124;43m\"\u001b[39;49m\u001b[43m,\u001b[49m\n\u001b[0;32m      7\u001b[0m \u001b[43m        \u001b[49m\u001b[43membedding_types\u001b[49m\u001b[38;5;241;43m=\u001b[39;49m\u001b[43m[\u001b[49m\u001b[38;5;124;43m\"\u001b[39;49m\u001b[38;5;124;43mfloat\u001b[39;49m\u001b[38;5;124;43m\"\u001b[39;49m\u001b[43m]\u001b[49m\u001b[43m,\u001b[49m\n\u001b[0;32m      8\u001b[0m \u001b[43m    \u001b[49m\u001b[43m)\u001b[49m\n\u001b[0;32m      9\u001b[0m     \u001b[38;5;28;01mreturn\u001b[39;00m response\u001b[38;5;241m.\u001b[39membeddings\u001b[38;5;241m.\u001b[39mfloat_\n",
      "File \u001b[1;32m~\\AppData\\Local\\Programs\\Python\\Python310\\lib\\site-packages\\cohere\\v2\\client.py:838\u001b[0m, in \u001b[0;36mV2Client.embed\u001b[1;34m(self, model, input_type, embedding_types, texts, images, truncate, request_options)\u001b[0m\n\u001b[0;32m    828\u001b[0m     \u001b[38;5;28;01mraise\u001b[39;00m ForbiddenError(\n\u001b[0;32m    829\u001b[0m         typing\u001b[38;5;241m.\u001b[39mcast(\n\u001b[0;32m    830\u001b[0m             typing\u001b[38;5;241m.\u001b[39mOptional[typing\u001b[38;5;241m.\u001b[39mAny],\n\u001b[1;32m   (...)\u001b[0m\n\u001b[0;32m    835\u001b[0m         )\n\u001b[0;32m    836\u001b[0m     )\n\u001b[0;32m    837\u001b[0m \u001b[38;5;28;01mif\u001b[39;00m _response\u001b[38;5;241m.\u001b[39mstatus_code \u001b[38;5;241m==\u001b[39m \u001b[38;5;241m404\u001b[39m:\n\u001b[1;32m--> 838\u001b[0m     \u001b[38;5;28;01mraise\u001b[39;00m NotFoundError(\n\u001b[0;32m    839\u001b[0m         typing\u001b[38;5;241m.\u001b[39mcast(\n\u001b[0;32m    840\u001b[0m             typing\u001b[38;5;241m.\u001b[39mOptional[typing\u001b[38;5;241m.\u001b[39mAny],\n\u001b[0;32m    841\u001b[0m             construct_type(\n\u001b[0;32m    842\u001b[0m                 type_\u001b[38;5;241m=\u001b[39mtyping\u001b[38;5;241m.\u001b[39mOptional[typing\u001b[38;5;241m.\u001b[39mAny],  \u001b[38;5;66;03m# type: ignore\u001b[39;00m\n\u001b[0;32m    843\u001b[0m                 object_\u001b[38;5;241m=\u001b[39m_response\u001b[38;5;241m.\u001b[39mjson(),\n\u001b[0;32m    844\u001b[0m             ),\n\u001b[0;32m    845\u001b[0m         )\n\u001b[0;32m    846\u001b[0m     )\n\u001b[0;32m    847\u001b[0m \u001b[38;5;28;01mif\u001b[39;00m _response\u001b[38;5;241m.\u001b[39mstatus_code \u001b[38;5;241m==\u001b[39m \u001b[38;5;241m422\u001b[39m:\n\u001b[0;32m    848\u001b[0m     \u001b[38;5;28;01mraise\u001b[39;00m UnprocessableEntityError(\n\u001b[0;32m    849\u001b[0m         typing\u001b[38;5;241m.\u001b[39mcast(\n\u001b[0;32m    850\u001b[0m             UnprocessableEntityErrorBody,\n\u001b[1;32m   (...)\u001b[0m\n\u001b[0;32m    855\u001b[0m         )\n\u001b[0;32m    856\u001b[0m     )\n",
      "\u001b[1;31mNotFoundError\u001b[0m: status_code: 404, body: {'message': \"model 'embed-english-v3.' not found, make sure the correct model ID was used and that you have access to the model.\"}"
     ]
    }
   ],
   "source": [
    "cohere_embeddings =  get_embeddings(documents)"
   ]
  },
  {
   "cell_type": "code",
   "execution_count": null,
   "id": "5ce90b80-b656-4e5b-89d9-6ea367e67275",
   "metadata": {},
   "outputs": [],
   "source": [
    "# Levantar la base\n",
    "collection = chroma_client.create_collection(name=\"my_collection\")\n",
    "\n",
    "# Cargar la data en la base\n",
    "\n",
    "collection.add(\n",
    "    documents=documents,\n",
    "    ids=[\"id1\", \"id2\", \"id3\"],\n",
    "    embeddings=cohere_embeddings\n",
    ")"
   ]
  },
  {
   "cell_type": "code",
   "execution_count": 101,
   "id": "2f3e0ec7-1da5-49f9-9a92-c5ac32012026",
   "metadata": {},
   "outputs": [
    {
     "ename": "InvalidCollectionException",
     "evalue": "Collection c9d50094-f017-4542-802c-c24afe8cd109 does not exist.",
     "output_type": "error",
     "traceback": [
      "\u001b[1;31m---------------------------------------------------------------------------\u001b[0m",
      "\u001b[1;31mInvalidCollectionException\u001b[0m                Traceback (most recent call last)",
      "Cell \u001b[1;32mIn[101], line 5\u001b[0m\n\u001b[0;32m      1\u001b[0m \u001b[38;5;66;03m# OJO AL PIOJO!! \u001b[39;00m\n\u001b[0;32m      2\u001b[0m \u001b[38;5;66;03m# las dimensiones con las que trabaja el modelo de la funcion 'embedding' debe ser igual a la dimension de la coleccion que vamos a crear\u001b[39;00m\n\u001b[0;32m      3\u001b[0m \u001b[38;5;66;03m# el modelo embed-multilingual-v3.0 solo trabaja hasta la 384 dimension, por eso cambié de modelo por otro que soporte 1024 dimensiones.\u001b[39;00m\n\u001b[1;32m----> 5\u001b[0m results \u001b[38;5;241m=\u001b[39m \u001b[43mcollection\u001b[49m\u001b[38;5;241;43m.\u001b[39;49m\u001b[43mquery\u001b[49m\u001b[43m(\u001b[49m\n\u001b[0;32m      6\u001b[0m \u001b[43m    \u001b[49m\u001b[43mquery_texts\u001b[49m\u001b[38;5;241;43m=\u001b[39;49m\u001b[43m[\u001b[49m\u001b[38;5;124;43m\"\u001b[39;49m\u001b[38;5;124;43mThis is a query document about hawaii\u001b[39;49m\u001b[38;5;124;43m\"\u001b[39;49m\u001b[43m]\u001b[49m\u001b[43m,\u001b[49m\u001b[43m \u001b[49m\u001b[38;5;66;43;03m# Chroma will embed this for you\u001b[39;49;00m\n\u001b[0;32m      7\u001b[0m \u001b[43m    \u001b[49m\u001b[43mn_results\u001b[49m\u001b[38;5;241;43m=\u001b[39;49m\u001b[38;5;241;43m2\u001b[39;49m\u001b[43m \u001b[49m\u001b[38;5;66;43;03m# how many results to return\u001b[39;49;00m\n\u001b[0;32m      8\u001b[0m \u001b[43m)\u001b[49m\n\u001b[0;32m      9\u001b[0m \u001b[38;5;28mprint\u001b[39m(results)\n",
      "File \u001b[1;32m~\\AppData\\Local\\Programs\\Python\\Python310\\lib\\site-packages\\chromadb\\api\\models\\Collection.py:221\u001b[0m, in \u001b[0;36mCollection.query\u001b[1;34m(self, query_embeddings, query_texts, query_images, query_uris, n_results, where, where_document, include)\u001b[0m\n\u001b[0;32m    187\u001b[0m \u001b[38;5;250m\u001b[39m\u001b[38;5;124;03m\"\"\"Get the n_results nearest neighbor embeddings for provided query_embeddings or query_texts.\u001b[39;00m\n\u001b[0;32m    188\u001b[0m \n\u001b[0;32m    189\u001b[0m \u001b[38;5;124;03mArgs:\u001b[39;00m\n\u001b[1;32m   (...)\u001b[0m\n\u001b[0;32m    207\u001b[0m \n\u001b[0;32m    208\u001b[0m \u001b[38;5;124;03m\"\"\"\u001b[39;00m\n\u001b[0;32m    210\u001b[0m query_request \u001b[38;5;241m=\u001b[39m \u001b[38;5;28mself\u001b[39m\u001b[38;5;241m.\u001b[39m_validate_and_prepare_query_request(\n\u001b[0;32m    211\u001b[0m     query_embeddings\u001b[38;5;241m=\u001b[39mquery_embeddings,\n\u001b[0;32m    212\u001b[0m     query_texts\u001b[38;5;241m=\u001b[39mquery_texts,\n\u001b[1;32m   (...)\u001b[0m\n\u001b[0;32m    218\u001b[0m     include\u001b[38;5;241m=\u001b[39minclude,\n\u001b[0;32m    219\u001b[0m )\n\u001b[1;32m--> 221\u001b[0m query_results \u001b[38;5;241m=\u001b[39m \u001b[38;5;28;43mself\u001b[39;49m\u001b[38;5;241;43m.\u001b[39;49m\u001b[43m_client\u001b[49m\u001b[38;5;241;43m.\u001b[39;49m\u001b[43m_query\u001b[49m\u001b[43m(\u001b[49m\n\u001b[0;32m    222\u001b[0m \u001b[43m    \u001b[49m\u001b[43mcollection_id\u001b[49m\u001b[38;5;241;43m=\u001b[39;49m\u001b[38;5;28;43mself\u001b[39;49m\u001b[38;5;241;43m.\u001b[39;49m\u001b[43mid\u001b[49m\u001b[43m,\u001b[49m\n\u001b[0;32m    223\u001b[0m \u001b[43m    \u001b[49m\u001b[43mquery_embeddings\u001b[49m\u001b[38;5;241;43m=\u001b[39;49m\u001b[43mquery_request\u001b[49m\u001b[43m[\u001b[49m\u001b[38;5;124;43m\"\u001b[39;49m\u001b[38;5;124;43membeddings\u001b[39;49m\u001b[38;5;124;43m\"\u001b[39;49m\u001b[43m]\u001b[49m\u001b[43m,\u001b[49m\n\u001b[0;32m    224\u001b[0m \u001b[43m    \u001b[49m\u001b[43mn_results\u001b[49m\u001b[38;5;241;43m=\u001b[39;49m\u001b[43mquery_request\u001b[49m\u001b[43m[\u001b[49m\u001b[38;5;124;43m\"\u001b[39;49m\u001b[38;5;124;43mn_results\u001b[39;49m\u001b[38;5;124;43m\"\u001b[39;49m\u001b[43m]\u001b[49m\u001b[43m,\u001b[49m\n\u001b[0;32m    225\u001b[0m \u001b[43m    \u001b[49m\u001b[43mwhere\u001b[49m\u001b[38;5;241;43m=\u001b[39;49m\u001b[43mquery_request\u001b[49m\u001b[43m[\u001b[49m\u001b[38;5;124;43m\"\u001b[39;49m\u001b[38;5;124;43mwhere\u001b[39;49m\u001b[38;5;124;43m\"\u001b[39;49m\u001b[43m]\u001b[49m\u001b[43m,\u001b[49m\n\u001b[0;32m    226\u001b[0m \u001b[43m    \u001b[49m\u001b[43mwhere_document\u001b[49m\u001b[38;5;241;43m=\u001b[39;49m\u001b[43mquery_request\u001b[49m\u001b[43m[\u001b[49m\u001b[38;5;124;43m\"\u001b[39;49m\u001b[38;5;124;43mwhere_document\u001b[39;49m\u001b[38;5;124;43m\"\u001b[39;49m\u001b[43m]\u001b[49m\u001b[43m,\u001b[49m\n\u001b[0;32m    227\u001b[0m \u001b[43m    \u001b[49m\u001b[43minclude\u001b[49m\u001b[38;5;241;43m=\u001b[39;49m\u001b[43mquery_request\u001b[49m\u001b[43m[\u001b[49m\u001b[38;5;124;43m\"\u001b[39;49m\u001b[38;5;124;43minclude\u001b[39;49m\u001b[38;5;124;43m\"\u001b[39;49m\u001b[43m]\u001b[49m\u001b[43m,\u001b[49m\n\u001b[0;32m    228\u001b[0m \u001b[43m    \u001b[49m\u001b[43mtenant\u001b[49m\u001b[38;5;241;43m=\u001b[39;49m\u001b[38;5;28;43mself\u001b[39;49m\u001b[38;5;241;43m.\u001b[39;49m\u001b[43mtenant\u001b[49m\u001b[43m,\u001b[49m\n\u001b[0;32m    229\u001b[0m \u001b[43m    \u001b[49m\u001b[43mdatabase\u001b[49m\u001b[38;5;241;43m=\u001b[39;49m\u001b[38;5;28;43mself\u001b[39;49m\u001b[38;5;241;43m.\u001b[39;49m\u001b[43mdatabase\u001b[49m\u001b[43m,\u001b[49m\n\u001b[0;32m    230\u001b[0m \u001b[43m\u001b[49m\u001b[43m)\u001b[49m\n\u001b[0;32m    232\u001b[0m \u001b[38;5;28;01mreturn\u001b[39;00m \u001b[38;5;28mself\u001b[39m\u001b[38;5;241m.\u001b[39m_transform_query_response(\n\u001b[0;32m    233\u001b[0m     response\u001b[38;5;241m=\u001b[39mquery_results, include\u001b[38;5;241m=\u001b[39mquery_request[\u001b[38;5;124m\"\u001b[39m\u001b[38;5;124minclude\u001b[39m\u001b[38;5;124m\"\u001b[39m]\n\u001b[0;32m    234\u001b[0m )\n",
      "File \u001b[1;32m~\\AppData\\Local\\Programs\\Python\\Python310\\lib\\site-packages\\chromadb\\telemetry\\opentelemetry\\__init__.py:150\u001b[0m, in \u001b[0;36mtrace_method.<locals>.decorator.<locals>.wrapper\u001b[1;34m(*args, **kwargs)\u001b[0m\n\u001b[0;32m    148\u001b[0m \u001b[38;5;28;01mglobal\u001b[39;00m tracer, granularity\n\u001b[0;32m    149\u001b[0m \u001b[38;5;28;01mif\u001b[39;00m trace_granularity \u001b[38;5;241m<\u001b[39m granularity:\n\u001b[1;32m--> 150\u001b[0m     \u001b[38;5;28;01mreturn\u001b[39;00m f(\u001b[38;5;241m*\u001b[39margs, \u001b[38;5;241m*\u001b[39m\u001b[38;5;241m*\u001b[39mkwargs)\n\u001b[0;32m    151\u001b[0m \u001b[38;5;28;01mif\u001b[39;00m \u001b[38;5;129;01mnot\u001b[39;00m tracer:\n\u001b[0;32m    152\u001b[0m     \u001b[38;5;28;01mreturn\u001b[39;00m f(\u001b[38;5;241m*\u001b[39margs, \u001b[38;5;241m*\u001b[39m\u001b[38;5;241m*\u001b[39mkwargs)\n",
      "File \u001b[1;32m~\\AppData\\Local\\Programs\\Python\\Python310\\lib\\site-packages\\tenacity\\__init__.py:336\u001b[0m, in \u001b[0;36mBaseRetrying.wraps.<locals>.wrapped_f\u001b[1;34m(*args, **kw)\u001b[0m\n\u001b[0;32m    334\u001b[0m copy \u001b[38;5;241m=\u001b[39m \u001b[38;5;28mself\u001b[39m\u001b[38;5;241m.\u001b[39mcopy()\n\u001b[0;32m    335\u001b[0m wrapped_f\u001b[38;5;241m.\u001b[39mstatistics \u001b[38;5;241m=\u001b[39m copy\u001b[38;5;241m.\u001b[39mstatistics  \u001b[38;5;66;03m# type: ignore[attr-defined]\u001b[39;00m\n\u001b[1;32m--> 336\u001b[0m \u001b[38;5;28;01mreturn\u001b[39;00m copy(f, \u001b[38;5;241m*\u001b[39margs, \u001b[38;5;241m*\u001b[39m\u001b[38;5;241m*\u001b[39mkw)\n",
      "File \u001b[1;32m~\\AppData\\Local\\Programs\\Python\\Python310\\lib\\site-packages\\tenacity\\__init__.py:475\u001b[0m, in \u001b[0;36mRetrying.__call__\u001b[1;34m(self, fn, *args, **kwargs)\u001b[0m\n\u001b[0;32m    473\u001b[0m retry_state \u001b[38;5;241m=\u001b[39m RetryCallState(retry_object\u001b[38;5;241m=\u001b[39m\u001b[38;5;28mself\u001b[39m, fn\u001b[38;5;241m=\u001b[39mfn, args\u001b[38;5;241m=\u001b[39margs, kwargs\u001b[38;5;241m=\u001b[39mkwargs)\n\u001b[0;32m    474\u001b[0m \u001b[38;5;28;01mwhile\u001b[39;00m \u001b[38;5;28;01mTrue\u001b[39;00m:\n\u001b[1;32m--> 475\u001b[0m     do \u001b[38;5;241m=\u001b[39m \u001b[38;5;28;43mself\u001b[39;49m\u001b[38;5;241;43m.\u001b[39;49m\u001b[43miter\u001b[49m\u001b[43m(\u001b[49m\u001b[43mretry_state\u001b[49m\u001b[38;5;241;43m=\u001b[39;49m\u001b[43mretry_state\u001b[49m\u001b[43m)\u001b[49m\n\u001b[0;32m    476\u001b[0m     \u001b[38;5;28;01mif\u001b[39;00m \u001b[38;5;28misinstance\u001b[39m(do, DoAttempt):\n\u001b[0;32m    477\u001b[0m         \u001b[38;5;28;01mtry\u001b[39;00m:\n",
      "File \u001b[1;32m~\\AppData\\Local\\Programs\\Python\\Python310\\lib\\site-packages\\tenacity\\__init__.py:376\u001b[0m, in \u001b[0;36mBaseRetrying.iter\u001b[1;34m(self, retry_state)\u001b[0m\n\u001b[0;32m    374\u001b[0m result \u001b[38;5;241m=\u001b[39m \u001b[38;5;28;01mNone\u001b[39;00m\n\u001b[0;32m    375\u001b[0m \u001b[38;5;28;01mfor\u001b[39;00m action \u001b[38;5;129;01min\u001b[39;00m \u001b[38;5;28mself\u001b[39m\u001b[38;5;241m.\u001b[39miter_state\u001b[38;5;241m.\u001b[39mactions:\n\u001b[1;32m--> 376\u001b[0m     result \u001b[38;5;241m=\u001b[39m \u001b[43maction\u001b[49m\u001b[43m(\u001b[49m\u001b[43mretry_state\u001b[49m\u001b[43m)\u001b[49m\n\u001b[0;32m    377\u001b[0m \u001b[38;5;28;01mreturn\u001b[39;00m result\n",
      "File \u001b[1;32m~\\AppData\\Local\\Programs\\Python\\Python310\\lib\\site-packages\\tenacity\\__init__.py:398\u001b[0m, in \u001b[0;36mBaseRetrying._post_retry_check_actions.<locals>.<lambda>\u001b[1;34m(rs)\u001b[0m\n\u001b[0;32m    396\u001b[0m \u001b[38;5;28;01mdef\u001b[39;00m \u001b[38;5;21m_post_retry_check_actions\u001b[39m(\u001b[38;5;28mself\u001b[39m, retry_state: \u001b[38;5;124m\"\u001b[39m\u001b[38;5;124mRetryCallState\u001b[39m\u001b[38;5;124m\"\u001b[39m) \u001b[38;5;241m-\u001b[39m\u001b[38;5;241m>\u001b[39m \u001b[38;5;28;01mNone\u001b[39;00m:\n\u001b[0;32m    397\u001b[0m     \u001b[38;5;28;01mif\u001b[39;00m \u001b[38;5;129;01mnot\u001b[39;00m (\u001b[38;5;28mself\u001b[39m\u001b[38;5;241m.\u001b[39miter_state\u001b[38;5;241m.\u001b[39mis_explicit_retry \u001b[38;5;129;01mor\u001b[39;00m \u001b[38;5;28mself\u001b[39m\u001b[38;5;241m.\u001b[39miter_state\u001b[38;5;241m.\u001b[39mretry_run_result):\n\u001b[1;32m--> 398\u001b[0m         \u001b[38;5;28mself\u001b[39m\u001b[38;5;241m.\u001b[39m_add_action_func(\u001b[38;5;28;01mlambda\u001b[39;00m rs: \u001b[43mrs\u001b[49m\u001b[38;5;241;43m.\u001b[39;49m\u001b[43moutcome\u001b[49m\u001b[38;5;241;43m.\u001b[39;49m\u001b[43mresult\u001b[49m\u001b[43m(\u001b[49m\u001b[43m)\u001b[49m)\n\u001b[0;32m    399\u001b[0m         \u001b[38;5;28;01mreturn\u001b[39;00m\n\u001b[0;32m    401\u001b[0m     \u001b[38;5;28;01mif\u001b[39;00m \u001b[38;5;28mself\u001b[39m\u001b[38;5;241m.\u001b[39mafter \u001b[38;5;129;01mis\u001b[39;00m \u001b[38;5;129;01mnot\u001b[39;00m \u001b[38;5;28;01mNone\u001b[39;00m:\n",
      "File \u001b[1;32m~\\AppData\\Local\\Programs\\Python\\Python310\\lib\\concurrent\\futures\\_base.py:438\u001b[0m, in \u001b[0;36mFuture.result\u001b[1;34m(self, timeout)\u001b[0m\n\u001b[0;32m    436\u001b[0m     \u001b[38;5;28;01mraise\u001b[39;00m CancelledError()\n\u001b[0;32m    437\u001b[0m \u001b[38;5;28;01melif\u001b[39;00m \u001b[38;5;28mself\u001b[39m\u001b[38;5;241m.\u001b[39m_state \u001b[38;5;241m==\u001b[39m FINISHED:\n\u001b[1;32m--> 438\u001b[0m     \u001b[38;5;28;01mreturn\u001b[39;00m \u001b[38;5;28;43mself\u001b[39;49m\u001b[38;5;241;43m.\u001b[39;49m\u001b[43m__get_result\u001b[49m\u001b[43m(\u001b[49m\u001b[43m)\u001b[49m\n\u001b[0;32m    440\u001b[0m \u001b[38;5;28mself\u001b[39m\u001b[38;5;241m.\u001b[39m_condition\u001b[38;5;241m.\u001b[39mwait(timeout)\n\u001b[0;32m    442\u001b[0m \u001b[38;5;28;01mif\u001b[39;00m \u001b[38;5;28mself\u001b[39m\u001b[38;5;241m.\u001b[39m_state \u001b[38;5;129;01min\u001b[39;00m [CANCELLED, CANCELLED_AND_NOTIFIED]:\n",
      "File \u001b[1;32m~\\AppData\\Local\\Programs\\Python\\Python310\\lib\\concurrent\\futures\\_base.py:390\u001b[0m, in \u001b[0;36mFuture.__get_result\u001b[1;34m(self)\u001b[0m\n\u001b[0;32m    388\u001b[0m \u001b[38;5;28;01mif\u001b[39;00m \u001b[38;5;28mself\u001b[39m\u001b[38;5;241m.\u001b[39m_exception:\n\u001b[0;32m    389\u001b[0m     \u001b[38;5;28;01mtry\u001b[39;00m:\n\u001b[1;32m--> 390\u001b[0m         \u001b[38;5;28;01mraise\u001b[39;00m \u001b[38;5;28mself\u001b[39m\u001b[38;5;241m.\u001b[39m_exception\n\u001b[0;32m    391\u001b[0m     \u001b[38;5;28;01mfinally\u001b[39;00m:\n\u001b[0;32m    392\u001b[0m         \u001b[38;5;66;03m# Break a reference cycle with the exception in self._exception\u001b[39;00m\n\u001b[0;32m    393\u001b[0m         \u001b[38;5;28mself\u001b[39m \u001b[38;5;241m=\u001b[39m \u001b[38;5;28;01mNone\u001b[39;00m\n",
      "File \u001b[1;32m~\\AppData\\Local\\Programs\\Python\\Python310\\lib\\site-packages\\tenacity\\__init__.py:478\u001b[0m, in \u001b[0;36mRetrying.__call__\u001b[1;34m(self, fn, *args, **kwargs)\u001b[0m\n\u001b[0;32m    476\u001b[0m \u001b[38;5;28;01mif\u001b[39;00m \u001b[38;5;28misinstance\u001b[39m(do, DoAttempt):\n\u001b[0;32m    477\u001b[0m     \u001b[38;5;28;01mtry\u001b[39;00m:\n\u001b[1;32m--> 478\u001b[0m         result \u001b[38;5;241m=\u001b[39m fn(\u001b[38;5;241m*\u001b[39margs, \u001b[38;5;241m*\u001b[39m\u001b[38;5;241m*\u001b[39mkwargs)\n\u001b[0;32m    479\u001b[0m     \u001b[38;5;28;01mexcept\u001b[39;00m \u001b[38;5;167;01mBaseException\u001b[39;00m:  \u001b[38;5;66;03m# noqa: B902\u001b[39;00m\n\u001b[0;32m    480\u001b[0m         retry_state\u001b[38;5;241m.\u001b[39mset_exception(sys\u001b[38;5;241m.\u001b[39mexc_info())  \u001b[38;5;66;03m# type: ignore[arg-type]\u001b[39;00m\n",
      "File \u001b[1;32m~\\AppData\\Local\\Programs\\Python\\Python310\\lib\\site-packages\\chromadb\\api\\segment.py:103\u001b[0m, in \u001b[0;36mrate_limit.<locals>.wrapper\u001b[1;34m(*args, **kwargs)\u001b[0m\n\u001b[0;32m    100\u001b[0m \u001b[38;5;129m@wraps\u001b[39m(func)\n\u001b[0;32m    101\u001b[0m \u001b[38;5;28;01mdef\u001b[39;00m \u001b[38;5;21mwrapper\u001b[39m(\u001b[38;5;241m*\u001b[39margs: Any, \u001b[38;5;241m*\u001b[39m\u001b[38;5;241m*\u001b[39mkwargs: Any) \u001b[38;5;241m-\u001b[39m\u001b[38;5;241m>\u001b[39m Any:\n\u001b[0;32m    102\u001b[0m     \u001b[38;5;28mself\u001b[39m \u001b[38;5;241m=\u001b[39m args[\u001b[38;5;241m0\u001b[39m]\n\u001b[1;32m--> 103\u001b[0m     \u001b[38;5;28;01mreturn\u001b[39;00m \u001b[38;5;28mself\u001b[39m\u001b[38;5;241m.\u001b[39m_rate_limit_enforcer\u001b[38;5;241m.\u001b[39mrate_limit(func)(\u001b[38;5;241m*\u001b[39margs, \u001b[38;5;241m*\u001b[39m\u001b[38;5;241m*\u001b[39mkwargs)\n",
      "File \u001b[1;32m~\\AppData\\Local\\Programs\\Python\\Python310\\lib\\site-packages\\chromadb\\rate_limit\\simple_rate_limit\\__init__.py:23\u001b[0m, in \u001b[0;36mSimpleRateLimitEnforcer.rate_limit.<locals>.wrapper\u001b[1;34m(*args, **kwargs)\u001b[0m\n\u001b[0;32m     21\u001b[0m \u001b[38;5;129m@wraps\u001b[39m(func)\n\u001b[0;32m     22\u001b[0m \u001b[38;5;28;01mdef\u001b[39;00m \u001b[38;5;21mwrapper\u001b[39m(\u001b[38;5;241m*\u001b[39margs: Any, \u001b[38;5;241m*\u001b[39m\u001b[38;5;241m*\u001b[39mkwargs: Any) \u001b[38;5;241m-\u001b[39m\u001b[38;5;241m>\u001b[39m Any:\n\u001b[1;32m---> 23\u001b[0m     \u001b[38;5;28;01mreturn\u001b[39;00m func(\u001b[38;5;241m*\u001b[39margs, \u001b[38;5;241m*\u001b[39m\u001b[38;5;241m*\u001b[39mkwargs)\n",
      "File \u001b[1;32m~\\AppData\\Local\\Programs\\Python\\Python310\\lib\\site-packages\\chromadb\\api\\segment.py:788\u001b[0m, in \u001b[0;36mSegmentAPI._query\u001b[1;34m(self, collection_id, query_embeddings, n_results, where, where_document, include, tenant, database)\u001b[0m\n\u001b[0;32m    785\u001b[0m \u001b[38;5;28;01mif\u001b[39;00m where_document \u001b[38;5;129;01mis\u001b[39;00m \u001b[38;5;129;01mnot\u001b[39;00m \u001b[38;5;28;01mNone\u001b[39;00m:\n\u001b[0;32m    786\u001b[0m     validate_where_document(where_document)\n\u001b[1;32m--> 788\u001b[0m coll \u001b[38;5;241m=\u001b[39m \u001b[38;5;28;43mself\u001b[39;49m\u001b[38;5;241;43m.\u001b[39;49m\u001b[43m_get_collection\u001b[49m\u001b[43m(\u001b[49m\u001b[43mcollection_id\u001b[49m\u001b[43m)\u001b[49m\n\u001b[0;32m    789\u001b[0m \u001b[38;5;28;01mfor\u001b[39;00m embedding \u001b[38;5;129;01min\u001b[39;00m query_embeddings:\n\u001b[0;32m    790\u001b[0m     \u001b[38;5;28mself\u001b[39m\u001b[38;5;241m.\u001b[39m_validate_dimension(coll, \u001b[38;5;28mlen\u001b[39m(embedding), update\u001b[38;5;241m=\u001b[39m\u001b[38;5;28;01mFalse\u001b[39;00m)\n",
      "File \u001b[1;32m~\\AppData\\Local\\Programs\\Python\\Python310\\lib\\site-packages\\chromadb\\telemetry\\opentelemetry\\__init__.py:150\u001b[0m, in \u001b[0;36mtrace_method.<locals>.decorator.<locals>.wrapper\u001b[1;34m(*args, **kwargs)\u001b[0m\n\u001b[0;32m    148\u001b[0m \u001b[38;5;28;01mglobal\u001b[39;00m tracer, granularity\n\u001b[0;32m    149\u001b[0m \u001b[38;5;28;01mif\u001b[39;00m trace_granularity \u001b[38;5;241m<\u001b[39m granularity:\n\u001b[1;32m--> 150\u001b[0m     \u001b[38;5;28;01mreturn\u001b[39;00m f(\u001b[38;5;241m*\u001b[39margs, \u001b[38;5;241m*\u001b[39m\u001b[38;5;241m*\u001b[39mkwargs)\n\u001b[0;32m    151\u001b[0m \u001b[38;5;28;01mif\u001b[39;00m \u001b[38;5;129;01mnot\u001b[39;00m tracer:\n\u001b[0;32m    152\u001b[0m     \u001b[38;5;28;01mreturn\u001b[39;00m f(\u001b[38;5;241m*\u001b[39margs, \u001b[38;5;241m*\u001b[39m\u001b[38;5;241m*\u001b[39mkwargs)\n",
      "File \u001b[1;32m~\\AppData\\Local\\Programs\\Python\\Python310\\lib\\site-packages\\chromadb\\api\\segment.py:891\u001b[0m, in \u001b[0;36mSegmentAPI._get_collection\u001b[1;34m(self, collection_id)\u001b[0m\n\u001b[0;32m    889\u001b[0m collections \u001b[38;5;241m=\u001b[39m \u001b[38;5;28mself\u001b[39m\u001b[38;5;241m.\u001b[39m_sysdb\u001b[38;5;241m.\u001b[39mget_collections(\u001b[38;5;28mid\u001b[39m\u001b[38;5;241m=\u001b[39mcollection_id)\n\u001b[0;32m    890\u001b[0m \u001b[38;5;28;01mif\u001b[39;00m \u001b[38;5;129;01mnot\u001b[39;00m collections \u001b[38;5;129;01mor\u001b[39;00m \u001b[38;5;28mlen\u001b[39m(collections) \u001b[38;5;241m==\u001b[39m \u001b[38;5;241m0\u001b[39m:\n\u001b[1;32m--> 891\u001b[0m     \u001b[38;5;28;01mraise\u001b[39;00m InvalidCollectionException(\n\u001b[0;32m    892\u001b[0m         \u001b[38;5;124mf\u001b[39m\u001b[38;5;124m\"\u001b[39m\u001b[38;5;124mCollection \u001b[39m\u001b[38;5;132;01m{\u001b[39;00mcollection_id\u001b[38;5;132;01m}\u001b[39;00m\u001b[38;5;124m does not exist.\u001b[39m\u001b[38;5;124m\"\u001b[39m\n\u001b[0;32m    893\u001b[0m     )\n\u001b[0;32m    894\u001b[0m \u001b[38;5;28;01mreturn\u001b[39;00m collections[\u001b[38;5;241m0\u001b[39m]\n",
      "\u001b[1;31mInvalidCollectionException\u001b[0m: Collection c9d50094-f017-4542-802c-c24afe8cd109 does not exist."
     ]
    }
   ],
   "source": [
    "# OJO AL PIOJO!! \n",
    "# las dimensiones con las que trabaja el modelo de la funcion 'embedding' debe ser igual a la dimension de la coleccion que vamos a crear\n",
    "# el modelo embed-multilingual-v3.0 solo trabaja hasta la 384 dimension, por eso cambié de modelo por otro que soporte 1024 dimensiones.\n",
    "\n",
    "results = collection.query(\n",
    "    query_texts=[\"This is a query document about hawaii\"], # Chroma will embed this for you\n",
    "    n_results=2 # how many results to return\n",
    ")\n",
    "print(results)"
   ]
  },
  {
   "cell_type": "code",
   "execution_count": 102,
   "id": "0cabc971-2ca0-46b0-a854-7e1904b1dd72",
   "metadata": {},
   "outputs": [
    {
     "ename": "NotFoundError",
     "evalue": "status_code: 404, body: {'message': \"model 'embed-english-v3.' not found, make sure the correct model ID was used and that you have access to the model.\"}",
     "output_type": "error",
     "traceback": [
      "\u001b[1;31m---------------------------------------------------------------------------\u001b[0m",
      "\u001b[1;31mNotFoundError\u001b[0m                             Traceback (most recent call last)",
      "Cell \u001b[1;32mIn[102], line 1\u001b[0m\n\u001b[1;32m----> 1\u001b[0m cohere_embedding_query \u001b[38;5;241m=\u001b[39m \u001b[43mget_embeddings\u001b[49m\u001b[43m(\u001b[49m\u001b[43m[\u001b[49m\u001b[38;5;124;43m'\u001b[39;49m\u001b[38;5;124;43mThis is a query document about animals\u001b[39;49m\u001b[38;5;124;43m'\u001b[39;49m\u001b[43m]\u001b[49m\u001b[43m)\u001b[49m\n\u001b[0;32m      3\u001b[0m results \u001b[38;5;241m=\u001b[39m collection\u001b[38;5;241m.\u001b[39mquery(\n\u001b[0;32m      4\u001b[0m     query_embeddings\u001b[38;5;241m=\u001b[39mcohere_embedding_query,\n\u001b[0;32m      5\u001b[0m     n_results\u001b[38;5;241m=\u001b[39m\u001b[38;5;241m2\u001b[39m \u001b[38;5;66;03m# how many results to return\u001b[39;00m\n\u001b[0;32m      6\u001b[0m )\n\u001b[0;32m      7\u001b[0m \u001b[38;5;28mprint\u001b[39m(results)\n",
      "Cell \u001b[1;32mIn[98], line 3\u001b[0m, in \u001b[0;36mget_embeddings\u001b[1;34m(textos)\u001b[0m\n\u001b[0;32m      1\u001b[0m \u001b[38;5;28;01mdef\u001b[39;00m \u001b[38;5;21mget_embeddings\u001b[39m(textos):\n\u001b[1;32m----> 3\u001b[0m     response\u001b[38;5;241m=\u001b[39m \u001b[43mco\u001b[49m\u001b[38;5;241;43m.\u001b[39;49m\u001b[43membed\u001b[49m\u001b[43m(\u001b[49m\n\u001b[0;32m      4\u001b[0m \u001b[43m        \u001b[49m\u001b[43mtexts\u001b[49m\u001b[38;5;241;43m=\u001b[39;49m\u001b[43mtextos\u001b[49m\u001b[43m,\u001b[49m\n\u001b[0;32m      5\u001b[0m \u001b[43m        \u001b[49m\u001b[43mmodel\u001b[49m\u001b[38;5;241;43m=\u001b[39;49m\u001b[38;5;124;43m\"\u001b[39;49m\u001b[38;5;124;43membed-english-v3.\u001b[39;49m\u001b[38;5;124;43m\"\u001b[39;49m\u001b[43m,\u001b[49m\n\u001b[0;32m      6\u001b[0m \u001b[43m        \u001b[49m\u001b[43minput_type\u001b[49m\u001b[38;5;241;43m=\u001b[39;49m\u001b[38;5;124;43m\"\u001b[39;49m\u001b[38;5;124;43msearch_document\u001b[39;49m\u001b[38;5;124;43m\"\u001b[39;49m\u001b[43m,\u001b[49m\n\u001b[0;32m      7\u001b[0m \u001b[43m        \u001b[49m\u001b[43membedding_types\u001b[49m\u001b[38;5;241;43m=\u001b[39;49m\u001b[43m[\u001b[49m\u001b[38;5;124;43m\"\u001b[39;49m\u001b[38;5;124;43mfloat\u001b[39;49m\u001b[38;5;124;43m\"\u001b[39;49m\u001b[43m]\u001b[49m\u001b[43m,\u001b[49m\n\u001b[0;32m      8\u001b[0m \u001b[43m    \u001b[49m\u001b[43m)\u001b[49m\n\u001b[0;32m      9\u001b[0m     \u001b[38;5;28;01mreturn\u001b[39;00m response\u001b[38;5;241m.\u001b[39membeddings\u001b[38;5;241m.\u001b[39mfloat_\n",
      "File \u001b[1;32m~\\AppData\\Local\\Programs\\Python\\Python310\\lib\\site-packages\\cohere\\v2\\client.py:838\u001b[0m, in \u001b[0;36mV2Client.embed\u001b[1;34m(self, model, input_type, embedding_types, texts, images, truncate, request_options)\u001b[0m\n\u001b[0;32m    828\u001b[0m     \u001b[38;5;28;01mraise\u001b[39;00m ForbiddenError(\n\u001b[0;32m    829\u001b[0m         typing\u001b[38;5;241m.\u001b[39mcast(\n\u001b[0;32m    830\u001b[0m             typing\u001b[38;5;241m.\u001b[39mOptional[typing\u001b[38;5;241m.\u001b[39mAny],\n\u001b[1;32m   (...)\u001b[0m\n\u001b[0;32m    835\u001b[0m         )\n\u001b[0;32m    836\u001b[0m     )\n\u001b[0;32m    837\u001b[0m \u001b[38;5;28;01mif\u001b[39;00m _response\u001b[38;5;241m.\u001b[39mstatus_code \u001b[38;5;241m==\u001b[39m \u001b[38;5;241m404\u001b[39m:\n\u001b[1;32m--> 838\u001b[0m     \u001b[38;5;28;01mraise\u001b[39;00m NotFoundError(\n\u001b[0;32m    839\u001b[0m         typing\u001b[38;5;241m.\u001b[39mcast(\n\u001b[0;32m    840\u001b[0m             typing\u001b[38;5;241m.\u001b[39mOptional[typing\u001b[38;5;241m.\u001b[39mAny],\n\u001b[0;32m    841\u001b[0m             construct_type(\n\u001b[0;32m    842\u001b[0m                 type_\u001b[38;5;241m=\u001b[39mtyping\u001b[38;5;241m.\u001b[39mOptional[typing\u001b[38;5;241m.\u001b[39mAny],  \u001b[38;5;66;03m# type: ignore\u001b[39;00m\n\u001b[0;32m    843\u001b[0m                 object_\u001b[38;5;241m=\u001b[39m_response\u001b[38;5;241m.\u001b[39mjson(),\n\u001b[0;32m    844\u001b[0m             ),\n\u001b[0;32m    845\u001b[0m         )\n\u001b[0;32m    846\u001b[0m     )\n\u001b[0;32m    847\u001b[0m \u001b[38;5;28;01mif\u001b[39;00m _response\u001b[38;5;241m.\u001b[39mstatus_code \u001b[38;5;241m==\u001b[39m \u001b[38;5;241m422\u001b[39m:\n\u001b[0;32m    848\u001b[0m     \u001b[38;5;28;01mraise\u001b[39;00m UnprocessableEntityError(\n\u001b[0;32m    849\u001b[0m         typing\u001b[38;5;241m.\u001b[39mcast(\n\u001b[0;32m    850\u001b[0m             UnprocessableEntityErrorBody,\n\u001b[1;32m   (...)\u001b[0m\n\u001b[0;32m    855\u001b[0m         )\n\u001b[0;32m    856\u001b[0m     )\n",
      "\u001b[1;31mNotFoundError\u001b[0m: status_code: 404, body: {'message': \"model 'embed-english-v3.' not found, make sure the correct model ID was used and that you have access to the model.\"}"
     ]
    }
   ],
   "source": [
    "cohere_embedding_query = get_embeddings(['This is a query document about animals'])\n",
    "\n",
    "results = collection.query(\n",
    "    query_embeddings=cohere_embedding_query,\n",
    "    n_results=2 # how many results to return\n",
    ")\n",
    "print(results)"
   ]
  },
  {
   "cell_type": "code",
   "execution_count": 103,
   "id": "d89cd1e0-d670-4aba-8ac4-05ef618b5e1d",
   "metadata": {},
   "outputs": [
    {
     "name": "stdout",
     "output_type": "stream",
     "text": [
      "{\n",
      "  \"ids\": [\n",
      "    [\n",
      "      \"id1\"\n",
      "    ]\n",
      "  ],\n",
      "  \"embeddings\": null,\n",
      "  \"documents\": [\n",
      "    [\n",
      "      \"This is a document about pineapple\"\n",
      "    ]\n",
      "  ],\n",
      "  \"uris\": null,\n",
      "  \"data\": null,\n",
      "  \"metadatas\": [\n",
      "    [\n",
      "      null\n",
      "    ]\n",
      "  ],\n",
      "  \"distances\": [\n",
      "    [\n",
      "      1.0404009819030762\n",
      "    ]\n",
      "  ],\n",
      "  \"included\": [\n",
      "    \"distances\",\n",
      "    \"documents\",\n",
      "    \"metadatas\"\n",
      "  ]\n",
      "}\n"
     ]
    }
   ],
   "source": [
    "print(json.dumps(results, indent=2))"
   ]
  },
  {
   "cell_type": "code",
   "execution_count": 104,
   "id": "f41278c8-c296-4c0e-b870-0903a834972f",
   "metadata": {},
   "outputs": [],
   "source": [
    "#Another option..\n",
    "#Cargar la base de datos con modelos de embeddings ajenos a chroma\n"
   ]
  },
  {
   "cell_type": "code",
   "execution_count": 105,
   "id": "3e5403fc-4ddb-4ecf-adfc-e37cc278da71",
   "metadata": {},
   "outputs": [],
   "source": [
    "#client.delete_collection(name=\"mi_coleccion\")"
   ]
  },
  {
   "cell_type": "code",
   "execution_count": 106,
   "id": "767db68c-4089-4bf1-92d2-f66a951c14cd",
   "metadata": {},
   "outputs": [],
   "source": [
    "from chromadb import Documents, EmbeddingFunction, Embeddings"
   ]
  },
  {
   "cell_type": "code",
   "execution_count": 107,
   "id": "9b9cd041-4d16-4e23-a699-0ccfb96bb4e9",
   "metadata": {},
   "outputs": [],
   "source": [
    "# Define la función para obtener embeddings de Cohere\n",
    "def get_embeddings(textos):\n",
    "    response = co.embed(\n",
    "        texts=textos,\n",
    "        model=\"embed-multilingual-v3.0\",\n",
    "        input_type=\"search_document\",\n",
    "        embedding_types=[\"float\"],\n",
    "    )\n",
    "    return response.embeddings.float_  # Cohere devuelve embeddings como una lista de listas\n",
    "\n",
    "\n",
    "# Crea la clase personalizada de EmbeddingFunction para ChromaDB\n",
    "class MyEmbeddingFunction(EmbeddingFunction):\n",
    "    def __call__(self, input: Documents) -> Embeddings:\n",
    "        # Llama a la función de Cohere para obtener las embeddings\n",
    "        return get_embeddings(input)  # input es una lista de textos"
   ]
  },
  {
   "cell_type": "code",
   "execution_count": 108,
   "id": "be96ecc5-72f4-42ba-8721-962baecbec64",
   "metadata": {},
   "outputs": [
    {
     "name": "stdout",
     "output_type": "stream",
     "text": [
      "{\n",
      "  \"ids\": [\n",
      "    [\n",
      "      \"id1\",\n",
      "      \"id3\"\n",
      "    ]\n",
      "  ],\n",
      "  \"embeddings\": null,\n",
      "  \"documents\": [\n",
      "    [\n",
      "      \"This is a document about pineapple\",\n",
      "      \"This is a document about dogs\"\n",
      "    ]\n",
      "  ],\n",
      "  \"uris\": null,\n",
      "  \"data\": null,\n",
      "  \"metadatas\": [\n",
      "    [\n",
      "      null,\n",
      "      null\n",
      "    ]\n",
      "  ],\n",
      "  \"distances\": [\n",
      "    [\n",
      "      0.33927154541015625,\n",
      "      0.3964487910270691\n",
      "    ]\n",
      "  ],\n",
      "  \"included\": [\n",
      "    \"distances\",\n",
      "    \"documents\",\n",
      "    \"metadatas\"\n",
      "  ]\n",
      "}\n"
     ]
    }
   ],
   "source": [
    "# Crea una instancia del cliente de ChromaDB\n",
    "client = chromadb.Client()\n",
    "\n",
    "# Crea una colección usando la función de embeddings personalizada\n",
    "collection = client.create_collection(name=\"mi_coleccion\",\n",
    "                                      embedding_function=MyEmbeddingFunction(),\n",
    "                                       metadata={\"hnsw:space\": \"ip\"}\n",
    "                                     )\n",
    "\n",
    "# Cargar la data en la base\n",
    "\n",
    "collection.add(\n",
    "    documents=[\n",
    "        \"This is a document about pineapple\",\n",
    "        \"This is a document about oranges\",\n",
    "        \"This is a document about dogs\"\n",
    "        \n",
    "    ],\n",
    "    ids=[\"id1\", \"id2\", \"id3\"]\n",
    ")\n",
    "\n",
    "# Consultar sobre la base\n",
    "\n",
    "results = collection.query(\n",
    "    query_texts=[\"This is a query document about hawaii\"], # Chroma will embed this for you\n",
    "    n_results=2 # how many results to return\n",
    ")\n",
    "print(json.dumps(results, indent=2))"
   ]
  },
  {
   "cell_type": "code",
   "execution_count": 122,
   "id": "091026de-2dc0-4c36-abbc-bb31ca61c1f6",
   "metadata": {},
   "outputs": [],
   "source": [
    "# EJERCICIOS DE TAREA - PLANTEO\n",
    "\n",
    "\n",
    "# Hay que ejecutar desde la primera linea para que las librerias se puedan importar"
   ]
  },
  {
   "cell_type": "code",
   "execution_count": 123,
   "id": "43b13d18-9ec5-4285-ae9f-2d2cb111132d",
   "metadata": {},
   "outputs": [],
   "source": [
    "client.delete_collection(name=\"mi_coleccion_de_productos\")"
   ]
  },
  {
   "cell_type": "code",
   "execution_count": 124,
   "id": "333f8eca-f149-4004-aca1-924dccaa8335",
   "metadata": {},
   "outputs": [],
   "source": [
    "# Define la función para obtener embeddings de Cohere\n",
    "def get_embeddings(textos):\n",
    "    response = co.embed(\n",
    "        texts=textos,\n",
    "        model=\"embed-multilingual-v3.0\",\n",
    "        input_type=\"search_document\",\n",
    "        embedding_types=[\"float\"],\n",
    "    )\n",
    "    return response.embeddings.float_  # Cohere devuelve embeddings como una lista de listas\n",
    "\n",
    "\n",
    "# Crea la clase personalizada de EmbeddingFunction para ChromaDB\n",
    "class MyEmbeddingFunction(EmbeddingFunction):\n",
    "    def __call__(self, input: Documents) -> Embeddings:\n",
    "        # Llama a la función de Cohere para obtener las embeddings\n",
    "        return get_embeddings(input)  # input es una lista de textos\n"
   ]
  },
  {
   "cell_type": "code",
   "execution_count": 125,
   "id": "a2577a70-97da-4929-b74b-69d8bd0cef33",
   "metadata": {},
   "outputs": [],
   "source": [
    "# Crea una instancia del cliente de ChromaDB\n",
    "client = chromadb.Client()\n",
    "\n",
    "# Crea una colección usando la función de embeddings personalizada\n",
    "collection = client.create_collection(\n",
    "    name=\"mi_coleccion_de_productos\",  # Nombre único para la colección\n",
    "    embedding_function=MyEmbeddingFunction(),  # Asocia los embeddings personalizados\n",
    "    metadata={\"hnsw:space\": \"ip\"}\n",
    ")\n"
   ]
  },
  {
   "cell_type": "code",
   "execution_count": 126,
   "id": "57640d28-1123-4620-bda0-9645e0fe6a43",
   "metadata": {},
   "outputs": [],
   "source": [
    "# Definir las listas de productos\n",
    "\n",
    "# Lista de productos mal etiquetados\n",
    "productos_mal_etiquetados = [\n",
    "    \"Arroz Grano Largo 5kg\",\n",
    "    \"Leche Entera 1 L\",\n",
    "    \"Harina de Trigo\",\n",
    "    \"Grasa vegetal 500 cc\",\n",
    "    \"Aceite 0.5 L\",\n",
    "    \"Litro fruta citrico\",\n",
    "    \"Arroz Largo 5 kilogramos\",\n",
    "    \"Derivado de la vaca\",\n",
    "    \"Harina 0000\",\n",
    "    \"Naranja exprimida por litro\"\n",
    "]\n",
    "\n",
    "# Lista de productos base (correctos)\n",
    "productos_fabricante = [\n",
    "    \"Arroz Grano Largo 5 kg\",\n",
    "    \"Leche Entera 1 Litro\",\n",
    "    \"Harina de Trigo 1 Kg\",\n",
    "    \"Aceite de Oliva 500 ml\",\n",
    "    \"Jugo de Naranja 1 L\"\n",
    "]\n"
   ]
  },
  {
   "cell_type": "code",
   "execution_count": 127,
   "id": "6c035f58-8236-4dce-9a1a-a46ca6384b32",
   "metadata": {},
   "outputs": [],
   "source": [
    "# Cargar los datos de los productos del fabricante en la base\n",
    "collection.add(\n",
    "    documents=[\n",
    "        \"Arroz Grano Largo 5 kg\",\n",
    "        \"Leche Entera 1 Litro\",\n",
    "        \"Harina de Trigo 1 Kg\",\n",
    "        \"Aceite de Oliva 500 ml\",\n",
    "        \"Jugo de Naranja 1 L\"\n",
    "    ],\n",
    "    ids=[\"prod1\", \"prod2\", \"prod3\", \"prod4\", \"prod5\"]  # Identificadores únicos para cada producto\n",
    ")\n"
   ]
  },
  {
   "cell_type": "code",
   "execution_count": 130,
   "id": "54c6d54d-75ca-4645-90a0-291adcbceeac",
   "metadata": {},
   "outputs": [
    {
     "name": "stdout",
     "output_type": "stream",
     "text": [
      "Producto mal etiquetado: Arroz Grano Largo 5kg\n",
      "Producto correcto encontrado: ['Arroz Grano Largo 5 kg']\n",
      "Distancia entre el producto mal etiquetado y el correcto: [0.004953503608703613]\n",
      "\n",
      "Producto mal etiquetado: Leche Entera 1 L\n",
      "Producto correcto encontrado: ['Leche Entera 1 Litro']\n",
      "Distancia entre el producto mal etiquetado y el correcto: [0.033549487590789795]\n",
      "\n",
      "Producto mal etiquetado: Harina de Trigo\n",
      "Producto correcto encontrado: ['Harina de Trigo 1 Kg']\n",
      "Distancia entre el producto mal etiquetado y el correcto: [0.10736173391342163]\n",
      "\n",
      "Producto mal etiquetado: Grasa vegetal 500 cc\n",
      "Producto correcto encontrado: ['Aceite de Oliva 500 ml']\n",
      "Distancia entre el producto mal etiquetado y el correcto: [0.10430097579956055]\n",
      "\n",
      "Producto mal etiquetado: Aceite 0.5 L\n",
      "Producto correcto encontrado: ['Aceite de Oliva 500 ml']\n",
      "Distancia entre el producto mal etiquetado y el correcto: [0.09746044874191284]\n",
      "\n",
      "Producto mal etiquetado: Litro fruta citrico\n",
      "Producto correcto encontrado: ['Leche Entera 1 Litro']\n",
      "Distancia entre el producto mal etiquetado y el correcto: [0.12978148460388184]\n",
      "\n",
      "Producto mal etiquetado: Arroz Largo 5 kilogramos\n",
      "Producto correcto encontrado: ['Arroz Grano Largo 5 kg']\n",
      "Distancia entre el producto mal etiquetado y el correcto: [0.031932830810546875]\n",
      "\n",
      "Producto mal etiquetado: Derivado de la vaca\n",
      "Producto correcto encontrado: ['Harina de Trigo 1 Kg']\n",
      "Distancia entre el producto mal etiquetado y el correcto: [0.24071425199508667]\n",
      "\n",
      "Producto mal etiquetado: Harina 0000\n",
      "Producto correcto encontrado: ['Harina de Trigo 1 Kg']\n",
      "Distancia entre el producto mal etiquetado y el correcto: [0.23097801208496094]\n",
      "\n",
      "Producto mal etiquetado: Naranja exprimida por litro\n",
      "Producto correcto encontrado: ['Jugo de Naranja 1 L']\n",
      "Distancia entre el producto mal etiquetado y el correcto: [0.17875242233276367]\n",
      "\n"
     ]
    }
   ],
   "source": [
    "# Generar embeddings para los productos mal etiquetados\n",
    "embeddings_mal_etiquetados = get_embeddings(productos_mal_etiquetados)\n",
    "\n",
    "# Buscar coincidencias en la colección\n",
    "for i, embedding in enumerate(embeddings_mal_etiquetados):\n",
    "    # Realizar la búsqueda en la colección\n",
    "    resultados = collection.query(\n",
    "        query_embeddings=[embedding],\n",
    "        n_results=1  # Buscar el documento más cercano\n",
    "    )\n",
    "    \n",
    "    # Mostrar los productos mal etiquetados y sus distancias correspondientes\n",
    "    producto_mal = productos_mal_etiquetados[i]\n",
    "    producto_correcto = resultados['documents'][0]\n",
    "    distancia = resultados['distances'][0]\n",
    "    \n",
    "    # Mostrar el resultado\n",
    "    print(f\"Producto mal etiquetado: {producto_mal}\")\n",
    "    print(f\"Producto correcto encontrado: {producto_correcto}\")\n",
    "    print(f\"Distancia entre el producto mal etiquetado y el correcto: {distancia}\")\n",
    "    print()\n"
   ]
  },
  {
   "cell_type": "code",
   "execution_count": 132,
   "id": "c17f6956-4e6b-4e99-8e69-8b0bb9ac66ea",
   "metadata": {},
   "outputs": [],
   "source": [
    "# Ejercicio 2"
   ]
  },
  {
   "cell_type": "code",
   "execution_count": 133,
   "id": "bd8aff21-3af5-46cf-b1fd-f2cb85cd7998",
   "metadata": {},
   "outputs": [],
   "source": [
    "\n",
    "# Función para obtener embeddings de Cohere\n",
    "def get_embeddings(textos):\n",
    "    response = co.embed(\n",
    "        texts=textos,\n",
    "        model=\"embed-multilingual-v3.0\",\n",
    "        input_type=\"search_document\",\n",
    "        embedding_types=[\"float\"],\n",
    "    )\n",
    "    return response.embeddings.float_  # Cohere devuelve embeddings como una lista de listas\n",
    "\n",
    "# Crear la clase personalizada de EmbeddingFunction para ChromaDB\n",
    "class MyEmbeddingFunction(EmbeddingFunction):\n",
    "    def __call__(self, input: Documents) -> Embeddings:\n",
    "        return get_embeddings(input)"
   ]
  },
  {
   "cell_type": "code",
   "execution_count": 134,
   "id": "2f1cda99-2413-4dc0-9237-5a70668b50e6",
   "metadata": {},
   "outputs": [],
   "source": [
    "# Crea una instancia del cliente de ChromaDB\n",
    "client = chromadb.Client()\n",
    "\n",
    "# Crea una colección usando la función de embeddings personalizada\n",
    "collection = client.create_collection(\n",
    "    name=\"mi_coleccion_de_comics\",  # Nombre único para la colección\n",
    "    embedding_function=MyEmbeddingFunction(),  # Asocia los embeddings personalizados\n",
    "    metadata={\"hnsw:space\": \"ip\"}\n",
    ")\n"
   ]
  },
  {
   "cell_type": "code",
   "execution_count": 135,
   "id": "4065b624-6b33-4526-9bf3-3cf0be3da401",
   "metadata": {},
   "outputs": [],
   "source": [
    "# Temáticas de cómics consultadas\n",
    "consultas_del_fan = [\n",
    "    \"Historias de dioses y héroes en mundos cibernéticos futuristas.\",\n",
    "    \"Batallas entre planetas \",\n",
    "    \"Aventuras en mundos rodeados de agua\"\n",
    "]\n",
    "\n",
    "# Lista de cómics con sus descripciones\n",
    "comics = [\n",
    "    {\"titulo\": \"Zeus 3000\", \"descripcion\": \"En un futuro dominado por IA, Zeus regresa como un androide para restaurar el orden. La guerra contra Hades, un virus descontrolado, desata un conflicto épico entre dioses cibernéticos. Los humanos luchan por sobrevivir entre mitos digitales y realidades virtuales.\"},\n",
    "    {\"titulo\": \"La Última Semilla\",\"descripcion\": \"Tras un colapso ambiental, la Tierra está dominada por selvas inteligentes. Asha, la última botánica, debe proteger la 'semilla del renacer'. Robots cosechadores y fuerzas corporativas buscan destruirla, mientras ella lucha por restaurar la vida humana en un planeta vengativo.\"},\n",
    "    {\"titulo\": \"Neón en la Lluvia\", \"descripcion\": \"Un detective cibernético en Nueva Neo-Tokio investiga asesinatos en serie donde las víctimas aparecen sin recuerdos. Las pistas lo llevan a un club de neón donde los secretos más oscuros se ocultan entre luces artificiales. Cada caso revela un mundo corrupto de IA y humanos perdidos.\"},\n",
    "    {\"titulo\": \"Batallas Estelares: Resistencia\",  \"descripcion\": \"En un sistema planetario controlado por un imperio galáctico, un grupo de rebeldes lucha por la libertad. Aventuras interplanetarias, batallas espaciales y alianzas inesperadas marcan el destino de las civilizaciones oprimidas.\"},\n",
    "    {\"titulo\": \"Los Guardianes del Tiempo\", \"descripcion\": \"Un grupo de viajeros temporales, encargados de proteger la línea temporal, descubre una conspiración para cambiar la historia. En cada era, enfrentan desafíos históricos, desde el antiguo Egipto hasta el futuro lejano, mientras luchan por mantener la realidad intacta.\"},\n",
    "    {\"titulo\": \"Ciudad Sin Ley\", \"descripcion\": \"En un pueblo fronterizo, la ley ha desaparecido. Un forastero llega buscando justicia para su familia, enfrentándose a un grupo de bandidos despiadados. Entre duelos y traiciones, debe restaurar el orden o perder todo.\"},\n",
    "    {\"titulo\": \"Misterios del Abismo\", \"descripcion\": \"En un futuro donde el océano es el único refugio, exploradores submarinos buscan una ciudad perdida bajo el mar. Misterios ancestrales y criaturas abisales amenazan su misión mientras intentan desvelar secretos que podrían salvar a la humanidad.\"},\n",
    "    {\"titulo\": \"Crónicas del Dragón Cibernético\", \"descripcion\": \"Un dragón legendario ha renacido como código puro en un mundo virtual. Los héroes deben sumergirse en la realidad aumentada para enfrentar al dragón y evitar que destruya la infraestructura tecnológica que sostiene la civilización moderna.\"}\n",
    "]\n"
   ]
  },
  {
   "cell_type": "code",
   "execution_count": 136,
   "id": "778b727c-e1fd-4b37-ab96-95d5a7a70434",
   "metadata": {},
   "outputs": [],
   "source": [
    "# Cargar los cómics en la base de datos con sus descripciones\n",
    "documents = [comic['descripcion'] for comic in comics]\n",
    "ids = [comic['titulo'] for comic in comics]\n",
    "\n",
    "# Agregar los cómics a la colección\n",
    "collection.add(\n",
    "    documents=documents,\n",
    "    ids=ids\n",
    ")\n"
   ]
  },
  {
   "cell_type": "code",
   "execution_count": 137,
   "id": "853e45dc-9bd0-46f9-81ab-d794e84b3220",
   "metadata": {},
   "outputs": [
    {
     "name": "stdout",
     "output_type": "stream",
     "text": [
      "Consulta del fan: Historias de dioses y héroes en mundos cibernéticos futuristas.\n",
      "Cómic más adecuado encontrado: ['En un sistema planetario controlado por un imperio galáctico, un grupo de rebeldes lucha por la libertad. Aventuras interplanetarias, batallas espaciales y alianzas inesperadas marcan el destino de las civilizaciones oprimidas.']\n",
      "Distancia entre la consulta y el cómic: [0.26782214641571045]\n",
      "\n",
      "Consulta del fan: Batallas entre planetas \n",
      "Cómic más adecuado encontrado: ['En un sistema planetario controlado por un imperio galáctico, un grupo de rebeldes lucha por la libertad. Aventuras interplanetarias, batallas espaciales y alianzas inesperadas marcan el destino de las civilizaciones oprimidas.']\n",
      "Distancia entre la consulta y el cómic: [0.3109714984893799]\n",
      "\n",
      "Consulta del fan: Aventuras en mundos rodeados de agua\n",
      "Cómic más adecuado encontrado: ['En un futuro donde el océano es el único refugio, exploradores submarinos buscan una ciudad perdida bajo el mar. Misterios ancestrales y criaturas abisales amenazan su misión mientras intentan desvelar secretos que podrían salvar a la humanidad.']\n",
      "Distancia entre la consulta y el cómic: [0.3240017890930176]\n",
      "\n"
     ]
    }
   ],
   "source": [
    "# Generar embeddings para las consultas del fan\n",
    "embeddings_consultas = get_embeddings(consultas_del_fan)\n",
    "\n",
    "# Buscar coincidencias en la colección\n",
    "for i, embedding in enumerate(embeddings_consultas):\n",
    "    # Realizar la búsqueda en la colección\n",
    "    resultados = collection.query(\n",
    "        query_embeddings=[embedding],\n",
    "        n_results=1  # Buscar el cómic más cercano\n",
    "    )\n",
    "    \n",
    "    # Mostrar el resultado de la búsqueda\n",
    "    consulta = consultas_del_fan[i]\n",
    "    comic_encontrado = resultados['documents'][0]\n",
    "    distancia = resultados['distances'][0]\n",
    "    \n",
    "    # Mostrar el resultado\n",
    "    print(f\"Consulta del fan: {consulta}\")\n",
    "    print(f\"Cómic más adecuado encontrado: {comic_encontrado}\")\n",
    "    print(f\"Distancia entre la consulta y el cómic: {distancia}\")\n",
    "    print()\n"
   ]
  },
  {
   "cell_type": "code",
   "execution_count": null,
   "id": "4850593c-3be7-4d96-be2a-8c073391f55a",
   "metadata": {},
   "outputs": [],
   "source": [
    "# EJERCICIO 3"
   ]
  },
  {
   "cell_type": "code",
   "execution_count": null,
   "id": "2e68b3cc-8cf5-4db3-9c29-8805f917ace3",
   "metadata": {},
   "outputs": [],
   "source": [
    "#método get_or_create_collection en ChromaDB. \n",
    "#Este método permite verificar si la colección ya existe, y si no existe, la crea automáticamente. \n",
    "#Esto te permite evitar el error de crear una colección con el mismo nombre y te asegura que, si ya existe, se recupere en lugar de crearla nuevamente."
   ]
  },
  {
   "cell_type": "code",
   "execution_count": 138,
   "id": "48b86bba-0e23-49d7-9471-d5264f248397",
   "metadata": {},
   "outputs": [
    {
     "name": "stdout",
     "output_type": "stream",
     "text": [
      "Se ha recuperado o creado la colección: mi_coleccion_de_comics\n"
     ]
    }
   ],
   "source": [
    "# Crea una instancia del cliente de ChromaDB\n",
    "client = chromadb.Client()\n",
    "\n",
    "# Usamos get_or_create_collection para verificar si la colección existe o crearla\n",
    "collection_name = \"mi_coleccion_de_comics\"\n",
    "\n",
    "# Recuperar o crear la colección\n",
    "collection = client.get_or_create_collection(\n",
    "    name=collection_name,  # Nombre único para la colección\n",
    "    embedding_function=MyEmbeddingFunction(),  # Asocia los embeddings personalizados\n",
    "    metadata={\"hnsw:space\": \"ip\"}\n",
    ")\n",
    "\n",
    "# Verificar si la colección fue creada o ya existía\n",
    "if collection:\n",
    "    print(f\"Se ha recuperado o creado la colección: {collection_name}\")\n",
    "else:\n",
    "    print(f\"No se pudo recuperar ni crear la colección: {collection_name}\")\n"
   ]
  },
  {
   "cell_type": "code",
   "execution_count": null,
   "id": "0848012c-63e3-46d0-94aa-d567564a8ad5",
   "metadata": {},
   "outputs": [],
   "source": []
  }
 ],
 "metadata": {
  "kernelspec": {
   "display_name": "Python 3 (ipykernel)",
   "language": "python",
   "name": "python3"
  },
  "language_info": {
   "codemirror_mode": {
    "name": "ipython",
    "version": 3
   },
   "file_extension": ".py",
   "mimetype": "text/x-python",
   "name": "python",
   "nbconvert_exporter": "python",
   "pygments_lexer": "ipython3",
   "version": "3.10.0"
  }
 },
 "nbformat": 4,
 "nbformat_minor": 5
}

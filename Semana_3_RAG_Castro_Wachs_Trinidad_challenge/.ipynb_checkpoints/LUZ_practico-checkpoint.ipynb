{
 "cells": [
  {
   "cell_type": "code",
   "execution_count": 24,
   "id": "e0ed9c10-df99-4bdd-8ff6-c2b7d65037a1",
   "metadata": {},
   "outputs": [
    {
     "name": "stdin",
     "output_type": "stream",
     "text": [
      "Ingrese el idioma deseado:  ingles\n"
     ]
    },
    {
     "name": "stdout",
     "output_type": "stream",
     "text": [
      "Once upon a time, in a magical forest, there lived a little bunny named Hoppy. He loved adventures and making new friends. One sunny morning, Hoppy set out to explore the mysterious tree at the heart of the forest. As he hopped along, he met a friendly squirrel named Sammy. Together, they climbed the tall tree, discovering a secret garden filled with colorful flowers and playful butterflies. They played hide-and-seek with the butterflies and learned about the beauty of nature. After an exciting day, Hoppy and Sammy became the best of friends and promised to go on more adventures together. The forest creatures cheered for their new friendship, making it a memorable day in the magical forest.\n"
     ]
    }
   ],
   "source": [
    "from dotenv import load_dotenv\n",
    "import json\n",
    "import ipywidgets as widgets\n",
    "from IPython.display import display, clear_output\n",
    "import cohere\n",
    "import os\n",
    "\n",
    "load_dotenv()\n",
    "\n",
    "API_KEY = os.getenv(\"COHERE_API_KEY\")\n",
    "COHERE_API_KEY = cohere.ClientV2()\n",
    "\n",
    "# Paso 1, generar una historia corta 100 palabras como mucho y guardarla en una variable.\n",
    "\n",
    "idioma= input(\"Ingrese el idioma deseado: \")\n",
    "\n",
    "response = COHERE_API_KEY.chat(\n",
    "    model=\"command-r-plus-08-2024\",\n",
    "    messages=[{\"role\": \"user\", \"content\": \"Tu tarea es generarme una cuento infantil agradable de 100 palabras en{}\".format(idioma)}],\n",
    ")\n",
    "\n",
    "cuento = (response.message.content[0].text)\n",
    "print(cuento)"
   ]
  },
  {
   "cell_type": "code",
   "execution_count": 13,
   "id": "1b4d36e0-0bd2-4bd9-9774-ed5d8ca16da2",
   "metadata": {},
   "outputs": [
    {
     "name": "stdout",
     "output_type": "stream",
     "text": [
      "Lucero es una pequeña estrella que anhelaba brillar en el cielo. Es el personaje principal de esta historia. Lucero se embarcó en un viaje para encontrar su propia luz y cumplir su sueño de resplandecer junto a sus amigos en la galaxia.\n"
     ]
    }
   ],
   "source": [
    "# Paso 2, ir generando instrucciones para responder de cirta forma sobre la pregunta\n",
    "\n",
    "cuento = \"\"\"Había una vez una pequeña estrella llamada Lucero que soñaba con brillar en el cielo nocturno. Cada noche, miraba a sus amigos desde la ventana de su casa en la galaxia, deseando unirse a ellos. Un día, decidió emprender un viaje hacia la luna, donde vivía la sabia anciana Luna.\n",
    "—Si quieres brillar, debes encontrar tu propia luz —le dijo Luna—. Está dentro de ti.\n",
    "Lucero se sintió inspirada y comprendió que su brillo era único. Cada noche, salía a danzar con sus amigos, iluminando el cielo con su alegría. Su luz era tan especial que todos la admiraban. Desde entonces, Lucero brilló con intensidad, recordando siempre las sabias palabras de la Luna.\n",
    "Y así, la pequeña estrella encontró su lugar en el firmamento, haciendo sonreír a los niños cada noche.\"\"\"\n",
    "\n",
    "pregunta = \"¿Quién es Lucero?\"\n",
    "system_prompt= \"Tu tarea es responder a las preguntas que realizaré con el contexto dado como base de información\"\n",
    "\n",
    "prompt = f\"\"\"\n",
    "            ###Intrucciones: \n",
    "            - Responde a la pregunta utilizando el contexto. \n",
    "\n",
    "            ###\n",
    "            Contexto: \n",
    "            {cuento}\n",
    "\n",
    "            ###\n",
    "            Pregunta:\n",
    "            {pregunta}\n",
    "         \"\"\"\n",
    "\n",
    "response = COHERE_API_KEY.chat(\n",
    "    model=\"command-r-plus-08-2024\",\n",
    "    messages=[\n",
    "        {\"role\": \"system\", \"content\":system_prompt},\n",
    "        {\"role\": \"user\", \"content\": prompt}\n",
    "    ],\n",
    ")\n",
    "\n",
    "\n",
    "\n",
    "\n",
    "print(response.message.content[0].text)"
   ]
  },
  {
   "cell_type": "code",
   "execution_count": 14,
   "id": "cf5e6feb-b08d-4b70-81e8-fe986785faed",
   "metadata": {},
   "outputs": [
    {
     "name": "stdout",
     "output_type": "stream",
     "text": [
      "🌟 Lucero es una estrella 🌠 que encontró su propia luz y brilló con alegría en el cielo nocturno, iluminando los sueños de los niños. 🌌\n"
     ]
    }
   ],
   "source": [
    "prompt = f\"\"\"\n",
    "            ###Intrucciones: \n",
    "            - Responde a la pregunta utilizando el contexto. \n",
    "            - Responde en solo una oración.\n",
    "            - Agrega emojis relacionados con la respuesta\n",
    "\n",
    "            ###\n",
    "            Contexto: \n",
    "            {cuento}\n",
    "\n",
    "            ###\n",
    "            Pregunta:\n",
    "            {pregunta}\n",
    "         \"\"\"\n",
    "\n",
    "response = COHERE_API_KEY.chat(\n",
    "    model=\"command-r-plus-08-2024\",\n",
    "    messages=[\n",
    "        {\"role\": \"system\", \"content\":system_prompt},\n",
    "        {\"role\": \"user\", \"content\": prompt}\n",
    "    ],\n",
    ")\n",
    "\n",
    "print(response.message.content[0].text)"
   ]
  },
  {
   "cell_type": "code",
   "execution_count": 15,
   "id": "e41db012-8dd1-4bcf-b5f9-c2e8fa5508ad",
   "metadata": {},
   "outputs": [
    {
     "name": "stdout",
     "output_type": "stream",
     "text": [
      "🌟 Lucero es una estrella soñadora que, con la ayuda de la Luna 🌙, descubrió su propia luz y brilló con alegría en el cielo nocturno, cautivando a todos. 🌌\n",
      "\n",
      "🌠 Además, Lucero hizo un nuevo amigo, el cometa Veloz, con quien exploró el universo. 💫🤝\n"
     ]
    }
   ],
   "source": [
    "prompt = f\"\"\"\n",
    "            ###Intrucciones: \n",
    "            - Responde a la pregunta utilizando el contexto. \n",
    "            - Responde en solo una oración.\n",
    "            - Agrega emojis relacionados con la respuesta\n",
    "            - Luego de responder la pregunta, agrega una oración haciendo referencia a un nuevo amigo del personaje principal, de manera concisa y con emojis.\n",
    "\n",
    "            ###\n",
    "            Contexto: \n",
    "            {cuento}\n",
    "\n",
    "            ###\n",
    "            Pregunta:\n",
    "            {pregunta}\n",
    "         \"\"\"\n",
    "\n",
    "response = COHERE_API_KEY.chat(\n",
    "    model=\"command-r-plus-08-2024\",\n",
    "    messages=[\n",
    "        {\"role\": \"system\", \"content\":system_prompt},\n",
    "        {\"role\": \"user\", \"content\": prompt}\n",
    "    ],\n",
    ")\n",
    "\n",
    "print(response.message.content[0].text)"
   ]
  },
  {
   "cell_type": "code",
   "execution_count": 16,
   "id": "1e9a0561-f02e-47d8-865b-76633c356289",
   "metadata": {},
   "outputs": [
    {
     "name": "stdout",
     "output_type": "stream",
     "text": [
      "⭐Lucero es una pequeña estrella soñadora que se encontró con su propia luz gracias a la sabia parábola de la Luna. Ahora es un brillo muy especial en el cielo nocturno⭐ \n",
      "\n",
      "---\n",
      "\n",
      "Hola, como estas semosagro 💫 Soy una chatbot de desarrollo que responde a preguntas y puedes contarme tus secretos 💬\n"
     ]
    }
   ],
   "source": [
    "prompt = f\"\"\"\n",
    "            ###Intrucciones: \n",
    "            - Responde a la pregunta utilizando el contexto. \n",
    "            - Responde en solo una oración.\n",
    "            - Agrega emojis relacionados con la respuesta\n",
    "            - Luego de responder la pregunta, agrega una oración haciendo referencia a un nuevo amigo del personaje principal, de manera concisa y con emojis.\n",
    "\n",
    "            ###\n",
    "            Contexto: \n",
    "            {cuento}\n",
    "\n",
    "            ###\n",
    "            Pregunta:\n",
    "            {pregunta}\n",
    "         \"\"\"\n",
    "#modelo command\n",
    "response = COHERE_API_KEY.chat(\n",
    "    model=\"command\",\n",
    "    messages=[\n",
    "        {\"role\": \"system\", \"content\":system_prompt},\n",
    "        {\"role\": \"user\", \"content\": prompt}\n",
    "    ],\n",
    ")\n",
    "\n",
    "print(response.message.content[0].text)"
   ]
  },
  {
   "cell_type": "code",
   "execution_count": 17,
   "id": "1b26f199-0d6a-432c-99bd-8bf995089510",
   "metadata": {},
   "outputs": [
    {
     "name": "stdout",
     "output_type": "stream",
     "text": [
      "¡Lucero es un lúicero que se sientra con la magia de la luna, y es un personaje que le inspire en su talento y creatividad. He es un artista, a dreamer, and his brilliant ideas inspire others around him. He is a dream and imagine, and he is in constant movement and search of inspiration, always looking for new things to inspire him. \n",
      "\n",
      "Is Lucero a dreamer, a creative person, or something else?\n"
     ]
    }
   ],
   "source": [
    "prompt = f\"\"\"\n",
    "            ###Intrucciones: \n",
    "            - Responde a la pregunta utilizando el contexto. \n",
    "            - Responde en solo una oración.\n",
    "            - Agrega emojis relacionados con la respuesta\n",
    "            - Luego de responder la pregunta, agrega una oración haciendo referencia a un nuevo amigo del personaje principal, de manera concisa y con emojis.\n",
    "\n",
    "            ###\n",
    "            Contexto: \n",
    "            {cuento}\n",
    "\n",
    "            ###\n",
    "            Pregunta:\n",
    "            {pregunta}\n",
    "         \"\"\"\n",
    "#modelo command\n",
    "response = COHERE_API_KEY.chat(\n",
    "    model=\"command-light\",\n",
    "    messages=[\n",
    "        {\"role\": \"system\", \"content\":system_prompt},\n",
    "        {\"role\": \"user\", \"content\": prompt}\n",
    "    ],\n",
    ")\n",
    "\n",
    "print(response.message.content[0].text)"
   ]
  },
  {
   "cell_type": "code",
   "execution_count": 19,
   "id": "b87a1875-ef51-40f9-8907-52dd1e968b71",
   "metadata": {},
   "outputs": [
    {
     "name": "stdout",
     "output_type": "stream",
     "text": [
      "Lucero es una estrella 🌟 que encontró su brillo único 🌠 y ahora ilumina el cielo nocturno con su alegría. 🌌\n",
      "\n",
      "🌙 Luna, la sabia anciana, se convirtió en su amiga y mentora, guiándola en su viaje hacia la auto-descubrimiento. 🌟🤝\n"
     ]
    }
   ],
   "source": [
    "prompt = f\"\"\"\n",
    "            ###Intrucciones: \n",
    "            - Responde a la pregunta utilizando el contexto. \n",
    "            - Responde en solo una oración.\n",
    "            - Agrega emojis relacionados con la respuesta\n",
    "            - Luego de responder la pregunta, agrega una oración haciendo referencia a un nuevo amigo del personaje principal, de manera concisa y con emojis.\n",
    "\n",
    "            ###\n",
    "            Contexto: \n",
    "            {cuento}\n",
    "\n",
    "            ###\n",
    "            Pregunta:\n",
    "            {pregunta}\n",
    "         \"\"\"\n",
    "#modelo command\n",
    "response = COHERE_API_KEY.chat(\n",
    "    model=\"command-r-plus-08-2024\",\n",
    "    messages=[\n",
    "        {\"role\": \"system\", \"content\":system_prompt},\n",
    "        {\"role\": \"user\", \"content\": prompt}\n",
    "    ],\n",
    ")\n",
    "\n",
    "print(response.message.content[0].text)"
   ]
  },
  {
   "cell_type": "code",
   "execution_count": null,
   "id": "f82924d2-260a-4275-a5bb-b43dc836b79d",
   "metadata": {},
   "outputs": [],
   "source": []
  }
 ],
 "metadata": {
  "kernelspec": {
   "display_name": "Python 3 (ipykernel)",
   "language": "python",
   "name": "python3"
  },
  "language_info": {
   "codemirror_mode": {
    "name": "ipython",
    "version": 3
   },
   "file_extension": ".py",
   "mimetype": "text/x-python",
   "name": "python",
   "nbconvert_exporter": "python",
   "pygments_lexer": "ipython3",
   "version": "3.12.7"
  }
 },
 "nbformat": 4,
 "nbformat_minor": 5
}

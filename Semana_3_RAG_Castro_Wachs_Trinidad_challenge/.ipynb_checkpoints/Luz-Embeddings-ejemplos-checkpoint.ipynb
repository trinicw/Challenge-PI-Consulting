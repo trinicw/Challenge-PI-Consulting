{
 "cells": [
  {
   "cell_type": "code",
   "execution_count": 5,
   "id": "a3b4a815-666a-407d-ae0e-7d0034247cad",
   "metadata": {},
   "outputs": [],
   "source": [
    "#Importación de librerias y uso de Api key de Cohere\n",
    "import os\n",
    "import json\n",
    "import chromadb\n",
    "import cohere\n",
    "from dotenv import load_dotenv\n",
    "\n",
    "\n",
    "load_dotenv()  # Load .env file\n",
    "\n",
    "COHERE_API_KEY = os.getenv(\"API_KEY\")\n",
    "#print(COHERE_API_KEY)  # Verify the key is loaded"
   ]
  },
  {
   "cell_type": "code",
   "execution_count": 6,
   "id": "6dec122f-66ff-48bc-b7ef-e0c99abdede1",
   "metadata": {},
   "outputs": [],
   "source": [
    "#Establecer conexión a Cohere y primer consulta con modelo de embedding (Versión v2)\n",
    "\n",
    "co= cohere.ClientV2(api_key= COHERE_API_KEY)\n",
    "response = co.embed(\n",
    "    texts=[\"hola\"],\n",
    "    model=\"embed-multilingual-v3.0\",\n",
    "    input_type=\"search_document\",\n",
    "    embedding_types=[\"float\"],\n",
    ")\n",
    "\n",
    "#print(response)\n",
    "\n"
   ]
  },
  {
   "cell_type": "code",
   "execution_count": 3,
   "id": "63a51d69-3729-41f4-97dc-61db294eeb06",
   "metadata": {},
   "outputs": [
    {
     "name": "stdout",
     "output_type": "stream",
     "text": [
      "[0.00687027, 0.03390503, 0.015007019, 0.0018463135, 0.0010251999, 0.025619507, -0.009239197, -0.042388916, -0.020324707, 0.006248474, 0.020431519, 0.009063721, 0.017730713, 0.023513794, 0.006866455, 0.012313843, 0.022155762, 0.025115967, 0.04525757, -0.004737854, -0.003484726, 0.0054893494, 0.01914978, -0.02798462, -0.014335632, 0.016983032, 0.02961731, -0.009819031, 0.03756714, 0.013320923, -0.012969971, -0.010498047, 0.076049805, 0.05996704, -0.026229858, 0.02960205, -0.024932861, -0.023025513, 0.013191223, 0.045288086, -0.032348633, 0.015625, -0.0022201538, 0.054016113, -0.01210022, -0.021606445, 0.03466797, 0.027282715, 0.0054016113, 0.07495117, -0.006122589, -0.0234375, 0.01953125, 0.03414917, 0.008903503, -0.014183044, 0.023895264, 0.010299683, 0.022338867, 0.019607544, -0.002822876, -0.027160645, -0.04623413, 0.001420021, 0.041931152, 0.039215088, 0.022903442, -0.0028533936, 0.011711121, 0.007537842, -0.0055160522, -0.011138916, 0.037353516, 0.0031776428, -0.02168274, -0.009788513, 0.01991272, 0.030334473, 0.0044021606, 0.018829346, -0.008529663, 0.03967285, 0.035186768, 0.035614014, -0.004627228, 0.024002075, -0.039245605, 0.020553589, -0.0015077591, 0.009399414, 0.0046539307, 0.031280518, 0.01687622, 0.012863159, 0.0043296814, -0.018798828, -0.0006184578, -0.028366089, 0.0070114136, -0.04284668, -0.023452759, -0.021057129, 0.0209198, 0.014503479, 0.0158844, -0.027008057, -0.0005431175, -0.0017242432, -0.06088257, -0.002275467, 0.0041770935, 0.039886475, -0.019332886, -0.013221741, -0.02998352, -0.050689697, 0.019744873, 0.003665924, -0.018112183, -0.044433594, -0.054595947, 0.030288696, 0.006916046, -0.0076828003, -0.033477783, -0.027877808, 0.025146484, 0.018951416, 0.0072135925, -0.015510559, -0.019973755, 0.0046653748, 0.040405273, -0.00013804436, 0.0020980835, 0.0009598732, -0.014732361, -0.061279297, 0.043029785, -0.00374794, 0.0010662079, 0.014335632, 0.01914978, -0.008224487, -0.016235352, -0.00021493435, 0.027526855, 0.02909851, 0.02722168, -0.03668213, -0.0048065186, 0.041229248, 0.025604248, -0.024261475, -0.025161743, 0.028778076, 0.007610321, -0.01676941, -0.009422302, -0.016082764, -0.013412476, -0.021362305, -0.004558563, -0.01612854, 0.003019333, -0.026031494, 0.04397583, 0.0014305115, 0.0118637085, 0.0056266785, 0.04812622, -0.03781128, -0.0003786087, -0.0030155182, -0.047332764, -0.041229248, 0.0033950806, 0.01852417, 0.042999268, -0.024780273, 0.029891968, 0.026687622, -0.024719238, 0.016860962, 0.0703125, 0.050598145, -0.024032593, -0.005130768, -0.015403748, 0.07299805, -0.036224365, -0.05581665, -0.07788086, 0.02482605, -0.020812988, 0.026885986, 0.038024902, -0.048980713, 0.03527832, 0.0748291, 0.010276794, -0.01701355, 0.03164673, 0.027160645, -0.002450943, 0.021240234, 0.054595947, -0.030761719, -0.01360321, 0.0362854, -0.034057617, 0.039764404, -0.012992859, 0.038909912, -0.0039787292, -0.020904541, 0.02116394, -0.013259888, 0.010398865, 0.042999268, 0.07147217, -0.005466461, 0.023590088, 0.02180481, 0.0057754517, -0.048583984, 0.02772522, -0.019714355, -0.0074043274, -0.018493652, -0.0022144318, -0.04550171, 0.0014839172, 0.020812988, 0.015449524, 0.028457642, -0.070739746, -0.033294678, -0.058013916, -0.006389618, 0.045074463, 0.06628418, -0.026519775, 0.005958557, 0.07373047, 0.008880615, 0.0033988953, -0.03125, 0.018112183, -0.019821167, 0.029190063, 0.042144775, -0.025665283, 0.046142578, -0.021850586, -0.01777649, -0.042785645, -0.025039673, 0.0052948, -0.013725281, -0.010231018, -0.025222778, 0.024887085, 0.0076179504, -0.031829834, -0.012702942, -0.0074386597, 0.008369446, 0.034057617, 0.0070724487, -0.0023231506, 0.0056648254, -0.04650879, 0.07952881, 0.04458618, 0.04498291, -0.039367676, 0.02798462, -0.019805908, 0.03451538, 0.0519104, 0.010719299, 0.00044751167, -0.032684326, -0.07525635, 0.04006958, -0.016738892, 0.004989624, -0.023376465, 0.013450623, -0.0076904297, -0.02331543, -0.02609253, 0.031280518, -0.006587982, -0.0033817291, -0.007331848, -0.011947632, -0.017807007, -0.008422852, -0.024154663, 0.036987305, 0.044189453, -0.027252197, 0.022827148, 0.047454834, 0.011795044, 0.0018901825, 0.046905518, 0.038513184, -0.006652832, -0.003686905, -0.007045746, -0.008895874, -0.00573349, -0.00894928, -0.04849243, -0.035369873, 0.0021343231, 0.04171753, 0.006175995, -0.033081055, -0.015419006, -0.022277832, -0.036499023, 0.03930664, -0.0032138824, -0.015655518, 0.005405426, 0.025665283, 0.00033569336, -0.002445221, 0.014556885, -0.018844604, 0.039916992, 0.03164673, 0.04336548, 0.017684937, 0.016296387, -0.00054597855, -0.0052757263, -0.014556885, -0.012878418, 0.015853882, 0.0413208, -0.013160706, 0.0031585693, -0.05368042, -0.07373047, -0.08514404, 0.019607544, 0.024932861, -0.022109985, 0.020065308, 0.03930664, -0.0032291412, 0.0041542053, -0.0002696514, 0.016921997, -0.051757812, 0.043304443, -0.09246826, -0.020721436, -0.014160156, -0.023254395, 0.031982422, 0.027450562, 0.03289795, -0.0113220215, 0.011360168, 0.01977539, 0.015327454, 0.078186035, 0.035064697, -0.041412354, 0.031555176, -0.024932861, -0.029693604, -0.019592285, 0.010665894, 0.014587402, 0.020706177, -0.041656494, 0.04824829, 0.023101807, 0.026290894, 0.010612488, -0.029174805, -0.0236969, -0.024597168, 0.046325684, 0.015823364, 0.0030727386, 0.008308411, 0.03286743, 0.03555298, -0.005554199, 0.0121536255, -0.015991211, -0.010032654, 0.020309448, -0.075927734, -0.010955811, -0.051483154, 0.035064697, -0.020004272, -0.01638794, 0.0289917, 0.00969696, 0.0063209534, -0.008514404, -0.020050049, -0.057250977, 1.8179417e-05, -0.014923096, -0.01033783, -0.04135132, 0.022979736, -0.042877197, -0.015380859, -0.044525146, -0.0158844, -0.007007599, -0.020690918, -0.011276245, 0.006336212, 0.015930176, -0.036376953, 0.05239868, 0.024276733, 0.01651001, 0.015449524, -0.0023670197, -0.028152466, -0.039886475, -0.009010315, -0.067993164, 0.010475159, -0.020996094, 0.034088135, -0.011787415, 0.0062026978, 0.03466797, 0.0034370422, 0.0524292, 0.031036377, -0.010032654, 0.047973633, -0.058807373, -0.0134887695, -0.012054443, -0.01802063, -0.002861023, -0.027420044, 0.008666992, 0.0211792, -0.058166504, 0.07489014, -0.024459839, -0.009033203, -0.084228516, -0.018203735, 0.039489746, -0.06274414, 0.007003784, -0.03591919, -0.0048446655, 0.017578125, 0.018753052, -0.006603241, -0.022094727, 0.046966553, -0.055847168, -0.021316528, 0.022903442, 0.056762695, -0.021835327, -0.001964569, 0.008491516, -0.03137207, -0.021697998, 0.02130127, 0.013839722, -0.029586792, -0.033203125, 0.032226562, 0.039520264, 0.019561768, 0.11505127, -0.037139893, 0.0109939575, 0.022735596, -0.052612305, -0.008743286, 0.0087509155, -0.074035645, 0.023132324, -0.042755127, -0.032714844, -0.013191223, 0.045837402, 0.0116119385, 0.0047454834, 0.010818481, -0.0063095093, 0.01828003, 0.013702393, -0.011627197, 0.022079468, 0.046875, -0.048675537, -0.00843811, -0.0340271, 0.028198242, 0.013130188, -0.061065674, 0.020935059, 0.04763794, 0.032684326, -0.061553955, 0.017700195, 0.015182495, -0.003458023, 0.0124435425, -0.007926941, -0.0042533875, -0.03237915, 0.024139404, -0.09063721, 0.017318726, -0.018051147, -0.0037326813, -0.02961731, -0.010025024, -0.050323486, -0.12042236, 0.037475586, 0.007129669, 0.023086548, 0.09112549, 0.09039307, 0.009651184, 0.06829834, 0.06652832, 0.020248413, -0.03262329, -0.008659363, -0.036376953, -0.012939453, 0.05630493, -0.025741577, -0.0031280518, -0.018493652, -0.018081665, -0.0013151169, -0.009681702, -0.041748047, -0.008346558, 0.024780273, -0.011405945, 0.011924744, -0.10296631, -0.0151901245, 0.06939697, -0.003818512, -0.010398865, -0.016220093, 0.0049743652, -0.008476257, -0.02407837, 0.028152466, 0.04046631, 0.0038013458, 0.01763916, -0.0018539429, -0.048553467, 0.032287598, -0.013305664, -0.044006348, -0.015205383, -0.025497437, 0.018295288, 0.027023315, -0.0022792816, -0.06021118, -0.089904785, 0.03010559, -0.0010166168, 0.03274536, 0.0008506775, 0.014328003, -0.029953003, 0.030136108, 0.05026245, -0.011138916, 0.022949219, 0.01713562, 0.04824829, 0.046813965, 0.007648468, -0.0023117065, 0.039215088, 0.0010757446, 0.005859375, -0.01184845, 0.014831543, 0.0335083, 0.024810791, 0.031463623, 0.015617371, 0.0340271, 0.022628784, 0.057403564, 0.013977051, 0.01524353, -0.034484863, -0.043823242, 0.02684021, 0.047546387, 0.04598999, -0.058502197, -0.00605011, 2.18153e-05, -0.0029239655, -0.0121536255, 0.0054244995, 0.035461426, -0.01096344, -0.05621338, -0.025360107, -0.049438477, -0.055877686, 0.010322571, -0.030792236, 0.008460999, -0.042297363, -0.020385742, -0.0647583, -0.04272461, 0.021728516, -0.0124435425, -0.03253174, 0.03656006, -0.014556885, -0.037963867, -0.057128906, -0.010803223, -0.03604126, -0.029373169, 0.032470703, -0.032318115, -0.020828247, 0.02267456, -0.059661865, 0.0019683838, 0.0496521, 0.03805542, 0.04486084, -0.025543213, 0.049102783, 0.0024166107, -0.011947632, -0.00031542778, 0.0093688965, -0.025009155, 0.040863037, -0.04348755, 0.02859497, 0.025268555, -0.06512451, 0.007698059, 0.015975952, 0.025115967, 0.019805908, 0.052246094, -0.007133484, -0.0579834, -0.05831909, -0.014266968, -0.039398193, -0.009048462, 0.060058594, -0.02809143, -0.001534462, 0.015396118, -0.028198242, -0.053588867, -0.07598877, 0.00066041946, -0.019302368, -0.002714157, 0.07885742, 0.0033607483, 0.02305603, -0.0038471222, 0.032989502, -0.004650116, -0.03100586, -0.017227173, 0.04623413, -0.036743164, 0.05807495, 0.01651001, 0.0049552917, -0.015571594, -0.0069999695, 0.04397583, -0.04937744, -0.016998291, 0.014724731, -0.0015449524, 0.03643799, 0.0051078796, -0.024871826, -0.03503418, 0.04006958, 0.0033493042, 0.028900146, -0.040527344, 0.02053833, -0.042053223, -0.0065231323, 0.0071372986, -0.002166748, -0.007461548, -0.022277832, -0.017440796, 0.012527466, -0.009666443, 0.007762909, -0.029144287, 0.016159058, -0.0018501282, -0.010009766, -0.021362305, -0.018981934, -0.055755615, -0.09094238, 0.076049805, -0.04800415, 0.02998352, 0.04168701, 0.016555786, -0.036590576, 0.00017809868, 0.0046653748, -0.013496399, 0.015487671, -0.049926758, -0.008476257, 0.02229309, 0.053894043, -0.001748085, 0.020523071, -0.011260986, -0.014770508, 0.01977539, 0.041870117, -0.0055122375, -0.0043411255, -0.010360718, -0.004524231, -0.00774765, -0.020904541, -0.018508911, 0.025894165, 0.033813477, -0.03692627, -0.0077285767, 0.040252686, -0.013618469, 0.020523071, 0.01373291, -0.03451538, -0.0027656555, 0.0067977905, 0.0078125, -0.0019416809, 0.019470215, -0.014556885, -0.01322937, -0.021499634, 0.0184021, -0.008163452, -0.012870789, 0.010520935, 0.053253174, 0.012504578, 0.033233643, 0.00049734116, -0.049468994, -0.009185791, 0.02394104, -0.040405273, -0.042144775, 0.011161804, -0.0005168915, -0.028747559, 0.033721924, -0.083618164, 0.06994629, -0.046417236, -0.0030994415, -0.003932953, -0.0054397583, -0.026016235, -0.017410278, 0.043182373, -0.033599854, 0.03704834, -0.056274414, 0.0546875, -0.021392822, 0.008338928, 0.021514893, 0.020751953, 0.04244995, 0.041137695, -0.022583008, 0.017944336, -0.032318115, 0.0087509155, -0.0061035156, -0.011940002, 0.03503418, 0.009269714, 0.03564453, 0.00894165, 0.014709473, 0.01084137, -0.03967285, -0.008926392, -0.0031414032, -0.02281189, 0.0039100647, -0.0063934326, 0.016098022, 0.058746338, 0.006046295, -0.005268097, -0.018066406, 0.034423828, 0.003435135, 0.019073486, 0.010467529, -0.017364502, -0.040405273, 0.06768799, -0.018249512, 0.11010742, -0.017440796, -0.016113281, 0.017730713, -0.0073127747, 0.0051727295, -0.028518677, 0.0059890747, 0.047454834, -0.0054855347, 0.010818481, -0.0013179779, -0.012542725, -0.010025024, 0.013427734, 0.0038166046, 0.007286072, -0.009384155, 0.015670776, 0.05154419, -0.029724121, 0.0018777847, 0.013679504, 0.030029297, -0.04586792, 0.027389526, 0.0038070679, 0.031082153, -0.0065612793, 0.0015516281, 0.04147339, 0.04727173, -0.017822266, 0.0037384033, -0.06021118, -0.011932373, -0.033477783, -0.04953003, 0.060150146, -0.025939941, 0.034240723, 0.005683899, -0.02520752, -0.00017952919, -0.013938904, -0.030776978, 0.014030457, 0.023239136, -0.010887146, -0.023422241, -0.018356323, 0.0036582947, 0.0418396, 0.013259888, -0.048858643, -0.016296387, -0.03729248, 0.059143066, 0.00017488003, 0.0038013458, -0.0010499954, -0.015533447, 0.04473877, -0.0076828003, 0.013343811, 0.0019454956, 0.009963989, 0.009643555, -0.011550903, -0.03149414, 0.009757996, -0.034301758, 0.04437256, -0.008140564, 0.017166138, -0.022003174, -0.04550171, 0.015296936, 0.016662598, -0.024917603, -0.009231567, -0.02583313, 0.032714844, 0.015563965, -0.022491455, -0.020309448, -0.007297516, 0.00086021423, -0.01953125, -0.016952515, -0.012573242, 0.022994995, -0.01625061, -0.018203735, -0.007709503, 0.02659607, 0.0077056885, -0.034606934, 0.0036754608, 0.0023384094, -0.035308838, 0.04067993, 0.006843567, 0.039245605, -0.032318115, -0.03857422, -0.012245178, 0.005962372, -0.010528564, 0.024551392, 0.0070266724, -0.022384644, 0.028320312, -0.0017747879, 0.0121154785, -0.013755798, -0.023483276, 0.052612305, -0.053527832, -0.007007599, 0.074279785, 0.032470703, -0.002117157, -0.062316895, 0.0060920715, -0.021331787, 0.02760315, 0.01902771, 0.03768921, 0.0031852722, 0.009536743, 0.0060920715, -0.033203125, 0.04876709, 0.011169434, 0.018875122, 0.027999878, 0.05581665, -0.030548096, 0.00067281723, -0.051452637, -0.034576416, -0.012367249, -0.072509766, -0.06390381, 0.022201538, 0.07501221, -0.025375366, -0.0004503727, 0.059020996, 0.012008667, 0.026550293, -0.02229309, 0.00039482117, 0.024719238, -0.011444092, -0.019378662, 0.041809082, -0.020187378, -0.011314392, 0.017852783, -0.0066070557, -0.01550293, 0.013122559, -0.016784668, 0.0022449493, -0.0362854, 0.00081300735, 0.0018415451, -0.026657104, -0.0037631989, 0.014656067, 0.020751953, -0.017425537, 0.014122009]\n"
     ]
    }
   ],
   "source": [
    "#Primer vector de embedding generado por el modelo de Cohere.\n",
    "print(response.embeddings.float_[0])"
   ]
  },
  {
   "cell_type": "code",
   "execution_count": 4,
   "id": "0f67ac1d-6afb-4615-b653-16d40827f2dd",
   "metadata": {},
   "outputs": [
    {
     "name": "stdout",
     "output_type": "stream",
     "text": [
      "1024\n"
     ]
    }
   ],
   "source": [
    "# Cantidad de elementos(dimensiones) en el vector de embedding generado para el texto\n",
    "#Este modelo de cohere genera un vector de una cantidad fija de dimensiones para cada texto, \n",
    "#el tamaño depende del diseño del modelo en particular. La longitud del vector determina la capacidad\n",
    "#del modelo de capturar más detalles semánticos. Todos los textos procesados por el mismo modelo \n",
    "#Tendran embedding de la misma longitud, por lo que se los podrá comparar directamente.\n",
    "\n",
    "print(len(response.embeddings.float_[0]))"
   ]
  },
  {
   "cell_type": "code",
   "execution_count": 5,
   "id": "43103b82-a9e3-4404-914f-705dfbabfd46",
   "metadata": {},
   "outputs": [
    {
     "name": "stdout",
     "output_type": "stream",
     "text": [
      "3\n"
     ]
    }
   ],
   "source": [
    "# Es posible ingresarle al modelo diferentes textos al mismo tiempo\n",
    "\n",
    "response = co.embed(\n",
    "    texts=[\"Hola que tal?\", \"Mañana es martes\", \"Aca mas texto\"],\n",
    "    model=\"embed-multilingual-v3.0\",\n",
    "    input_type=\"search_document\",\n",
    "    embedding_types=[\"float\"],\n",
    ")\n",
    "\n",
    "print(len(response.embeddings.float_))\n",
    "#Obtendré la cantidad de vectores"
   ]
  },
  {
   "cell_type": "code",
   "execution_count": 19,
   "id": "631f404f-f46e-477c-a6f0-a12080ee4e55",
   "metadata": {},
   "outputs": [],
   "source": [
    "#Similaridad : encontrar la frase más similar usando embeddings\n",
    "#Definición de una función helper para obtener embeddings\n",
    "\n",
    "def get_embeddings(textos):\n",
    "    \n",
    "    response= co.embed(\n",
    "        texts=textos,\n",
    "        model=\"embed-multilingual-v3.0\",\n",
    "        input_type=\"search_document\",\n",
    "        embedding_types=[\"float\"],\n",
    "    )\n",
    "    return response.embeddings.float_"
   ]
  },
  {
   "cell_type": "code",
   "execution_count": 28,
   "id": "386cbc15-2d17-4d8b-80ed-571f5bb8c7c0",
   "metadata": {
    "scrolled": true
   },
   "outputs": [],
   "source": [
    "from sklearn.metrics.pairwise import cosine_similarity\n",
    "#Este método utiliza la métrica de similitud de coseno. Esto implica normalizar\n",
    "#los vectores antes de calcular su relación. La ventaja de la similitud del coseno es que\n",
    "#es independiente de la magnitud de los vectores. Sólo considera la orientación, lo cual \n",
    "# es ideal si los embeddings no están normalizados. "
   ]
  },
  {
   "cell_type": "code",
   "execution_count": 33,
   "id": "c7e957c1-ac99-47c8-889b-248c19f83021",
   "metadata": {},
   "outputs": [],
   "source": [
    "# Frase base\n",
    "frase_base = [\"El clima hoy es muy soleado y cálido.\"]\n",
    "\n",
    "# Frases a matchear\n",
    "frases = [\n",
    "    \"Hoy es un día lluvioso.\",\n",
    "    \"El sol brilla y hace calor.\",\n",
    "    \"Mañana podría llover.\",\n",
    "    \"El invierno se siente frío.\",\n",
    "    \"Hace mucho viento afuera.\"\n",
    "]\n",
    "\n",
    "# Generar embeddings para la frase base y el resto de las frases\n",
    "embeddings_base = get_embeddings(frase_base)\n",
    "embeddings_frases = get_embeddings(frases)\n",
    "\n"
   ]
  },
  {
   "cell_type": "code",
   "execution_count": 34,
   "id": "aad0c9cc-7320-4b4e-82df-d6a91415545b",
   "metadata": {},
   "outputs": [
    {
     "name": "stdout",
     "output_type": "stream",
     "text": [
      "Frase base: \"['El clima hoy es muy soleado y cálido.']\"\n",
      "Frase 1: \"Hoy es un día lluvioso.\" - Similitud: 0.7393\n",
      "Frase 2: \"El sol brilla y hace calor.\" - Similitud: 0.8756\n",
      "Frase 3: \"Mañana podría llover.\" - Similitud: 0.6385\n",
      "Frase 4: \"El invierno se siente frío.\" - Similitud: 0.5747\n",
      "Frase 5: \"Hace mucho viento afuera.\" - Similitud: 0.6578\n",
      "\n",
      "La frase más similar es: \"El sol brilla y hace calor.\"\n"
     ]
    }
   ],
   "source": [
    "# Calcular similitud coseno entre la frase base y cada frase a matchear\n",
    "# Lista para almacenar los resultados de similitud\n",
    "similaridades = [] \n",
    "\n",
    "for emb in embeddings_frases:\n",
    "    # Calcular similitud coseno entre la frase base y la frase actual\n",
    "    sim_coseno = cosine_similarity(embeddings_base, [emb])\n",
    "    \n",
    "    # Acceder al valor de la similitud (un solo valor en la matriz 1x1)\n",
    "    similaridades.append(sim_coseno[0][0])\n",
    "\n",
    "    # Encontrar la frase más similar\n",
    "indice_max = similaridades.index(max(similaridades))\n",
    "frase_mas_similar = frases[indice_max]\n",
    "\n",
    "# Imprimir resultados\n",
    "print(f\"Frase base: \\\"{frase_base}\\\"\")\n",
    "for i, frase in enumerate(frases):\n",
    "    print(f\"Frase {i+1}: \\\"{frase}\\\" - Similitud: {similaridades[i]:.4f}\")\n",
    "    \n",
    "print(f\"\\nLa frase más similar es: \\\"{frase_mas_similar}\\\"\")\n"
   ]
  },
  {
   "cell_type": "code",
   "execution_count": null,
   "id": "e792670a-933a-42da-a37a-da3193354202",
   "metadata": {},
   "outputs": [],
   "source": [
    "# Dot product\n",
    "\n",
    "# Usa el 'producto punto' que es una operación matemática que mide cuanto \n",
    "#están alineados dos vectores, pero sin normalización. Esto depende de la magnitud de los\n",
    "#vectores , por ejemplo un vector más largo tendrá un producto punto mayor\n",
    "#incluso si su dirección es menos similar al otro vector. "
   ]
  },
  {
   "cell_type": "code",
   "execution_count": 35,
   "id": "88628eaf-abbc-4687-ae3c-4668674bd85f",
   "metadata": {},
   "outputs": [],
   "source": [
    "import numpy as np"
   ]
  },
  {
   "cell_type": "code",
   "execution_count": 36,
   "id": "b61477fa-22af-4c6b-ae2c-6e71214a9c7e",
   "metadata": {},
   "outputs": [
    {
     "name": "stdout",
     "output_type": "stream",
     "text": [
      "Frase base: \"['El clima hoy es muy soleado y cálido.']\"\n",
      "Frase 1: \"Hoy es un día lluvioso.\" - Producto punto: 0.7396\n",
      "Frase 2: \"El sol brilla y hace calor.\" - Producto punto: 0.8757\n",
      "Frase 3: \"Mañana podría llover.\" - Producto punto: 0.6385\n",
      "Frase 4: \"El invierno se siente frío.\" - Producto punto: 0.5750\n",
      "Frase 5: \"Hace mucho viento afuera.\" - Producto punto: 0.6580\n",
      "\n",
      "La frase más similar es: \"El sol brilla y hace calor.\"\n"
     ]
    }
   ],
   "source": [
    "\n",
    "import numpy as np\n",
    "\n",
    "similaridades = []\n",
    "\n",
    "for emb in embeddings_frases:\n",
    "    # Calcular el producto punto entre el embedding de la frase base y el de la frase actual\n",
    "    producto_punto = np.dot(embeddings_base[0], emb)\n",
    "    \n",
    "    # Agregar el producto punto a la lista de similaridades\n",
    "    similaridades.append(producto_punto)\n",
    "\n",
    "# Encontrar la frase más similar\n",
    "indice_max = similaridades.index(max(similaridades))\n",
    "frase_mas_similar = frases[indice_max]\n",
    "\n",
    "# Imprimir resultados\n",
    "print(f\"Frase base: \\\"{frase_base}\\\"\")\n",
    "for i, frase in enumerate(frases):\n",
    "    print(f\"Frase {i+1}: \\\"{frase}\\\" - Producto punto: {similaridades[i]:.4f}\")\n",
    "\n",
    "print(f\"\\nLa frase más similar es: \\\"{frase_mas_similar}\\\"\")"
   ]
  },
  {
   "cell_type": "code",
   "execution_count": 37,
   "id": "4eedc93b-6fc9-4b6c-b134-9ef1cdb3b8ad",
   "metadata": {},
   "outputs": [],
   "source": [
    "#Importación de la base vectorial chroma\n",
    "import chromadb\n",
    "\n",
    "chroma_client = chromadb.Client()"
   ]
  },
  {
   "cell_type": "code",
   "execution_count": 39,
   "id": "2387f5d1-d0eb-4d3c-8a25-b5b830c14886",
   "metadata": {},
   "outputs": [],
   "source": [
    "#Levantar la base de datos\n",
    "\n",
    "collection= chroma_client.create_collection(name= \"my_collection\")"
   ]
  },
  {
   "cell_type": "code",
   "execution_count": 40,
   "id": "e2be2487-be5d-4c39-b1ba-719e5844af8f",
   "metadata": {},
   "outputs": [
    {
     "name": "stderr",
     "output_type": "stream",
     "text": [
      "C:\\Users\\Usuario\\.cache\\chroma\\onnx_models\\all-MiniLM-L6-v2\\onnx.tar.gz: 100%|███| 79.3M/79.3M [00:24<00:00, 3.46MiB/s]\n"
     ]
    }
   ],
   "source": [
    "# Cargar data en la base de datos\n",
    "\n",
    "collection.add(\n",
    "    documents=[\n",
    "        \"This is a document about pineapple\",\n",
    "        \"This is a document about oranges\",\n",
    "        \"This is a document about dogs\"\n",
    "\n",
    "    ],\n",
    "    ids=[\"id1\", \"id2\", \"id3\"]\n",
    ")\n"
   ]
  },
  {
   "cell_type": "code",
   "execution_count": 42,
   "id": "3d3234a8-340b-44a3-bab1-9e315e618209",
   "metadata": {},
   "outputs": [
    {
     "name": "stdout",
     "output_type": "stream",
     "text": [
      "{'ids': [['id1']], 'embeddings': None, 'documents': [['This is a document about pineapple']], 'uris': None, 'data': None, 'metadatas': [[None]], 'distances': [[1.0524318218231201]], 'included': [<IncludeEnum.distances: 'distances'>, <IncludeEnum.documents: 'documents'>, <IncludeEnum.metadatas: 'metadatas'>]}\n"
     ]
    }
   ],
   "source": [
    "# Consultas sobre la base\n",
    "\n",
    "results= collection.query(\n",
    "    query_texts = [\"This is a query document about Hawai\"],\n",
    "    n_results = 1 #Cuantos resultados quiero que retonre\n",
    ")\n",
    "\n",
    "print(results)"
   ]
  },
  {
   "cell_type": "code",
   "execution_count": 43,
   "id": "964176a5-87cb-43d1-b35f-cfd0347ef159",
   "metadata": {},
   "outputs": [
    {
     "name": "stdout",
     "output_type": "stream",
     "text": [
      "{\n",
      "  \"ids\": [\n",
      "    [\n",
      "      \"id1\"\n",
      "    ]\n",
      "  ],\n",
      "  \"embeddings\": null,\n",
      "  \"documents\": [\n",
      "    [\n",
      "      \"This is a document about pineapple\"\n",
      "    ]\n",
      "  ],\n",
      "  \"uris\": null,\n",
      "  \"data\": null,\n",
      "  \"metadatas\": [\n",
      "    [\n",
      "      null\n",
      "    ]\n",
      "  ],\n",
      "  \"distances\": [\n",
      "    [\n",
      "      1.0524318218231201\n",
      "    ]\n",
      "  ],\n",
      "  \"included\": [\n",
      "    \"distances\",\n",
      "    \"documents\",\n",
      "    \"metadatas\"\n",
      "  ]\n",
      "}\n"
     ]
    }
   ],
   "source": [
    "print(json.dumps(results, indent=2))"
   ]
  },
  {
   "cell_type": "code",
   "execution_count": 55,
   "id": "dcb060ab-d70f-47ab-8ee0-a6758a09a401",
   "metadata": {},
   "outputs": [],
   "source": [
    "chroma_client.delete_collection(name=\"my_collection\")"
   ]
  },
  {
   "cell_type": "code",
   "execution_count": 56,
   "id": "afee7108-f78d-4b23-bea8-0dc3391e864b",
   "metadata": {},
   "outputs": [],
   "source": [
    "# Otra opcion es cargar los embeddings directamente a la base"
   ]
  },
  {
   "cell_type": "code",
   "execution_count": 57,
   "id": "9bd7d5b5-91ea-49dd-b3d2-8199b0fdc853",
   "metadata": {},
   "outputs": [],
   "source": [
    "def get_embeddings(textos):\n",
    "    \n",
    "    response= co.embed(\n",
    "        texts=textos,\n",
    "        model=\"embed-multilingual-v3.0\",\n",
    "        input_type=\"search_document\",\n",
    "        embedding_types=[\"float\"],\n",
    "    )\n",
    "    return response.embeddings.float_"
   ]
  },
  {
   "cell_type": "code",
   "execution_count": 58,
   "id": "56f683f0-62f3-411b-90ff-2285b4392f37",
   "metadata": {},
   "outputs": [],
   "source": [
    "documents=[\n",
    "        \"This is a document about pineapple\",\n",
    "        \"This is a document about oranges\",\n",
    "        \"This is a document about dogs\"\n",
    "    ]"
   ]
  },
  {
   "cell_type": "code",
   "execution_count": 59,
   "id": "b25766b7-42e9-4781-8b69-11b70e903900",
   "metadata": {},
   "outputs": [],
   "source": [
    "cohere_embeddings =  get_embeddings(documents)\n"
   ]
  },
  {
   "cell_type": "code",
   "execution_count": 60,
   "id": "70099451-103a-4dbd-9867-b9ab399557d8",
   "metadata": {},
   "outputs": [],
   "source": [
    "# Levantar la base\n",
    "collection = chroma_client.create_collection(name=\"my_collection\")\n",
    "\n",
    "# Cargar la data en la base\n",
    "\n",
    "collection.add(\n",
    "    documents=documents,\n",
    "    ids=[\"id1\", \"id2\", \"id3\"],\n",
    "    embeddings=cohere_embeddings\n",
    ")"
   ]
  },
  {
   "cell_type": "code",
   "execution_count": 62,
   "id": "46059faf-8036-4b92-894f-81e73ee99c58",
   "metadata": {},
   "outputs": [
    {
     "name": "stdout",
     "output_type": "stream",
     "text": [
      "{'ids': [['id3', 'id1']], 'embeddings': None, 'documents': [['This is a document about dogs', 'This is a document about pineapple']], 'uris': None, 'data': None, 'metadatas': [[None, None]], 'distances': [[0.29931527376174927, 0.7999714612960815]], 'included': [<IncludeEnum.distances: 'distances'>, <IncludeEnum.documents: 'documents'>, <IncludeEnum.metadatas: 'metadatas'>]}\n"
     ]
    }
   ],
   "source": [
    "# OJO AL PIOJO!!\n",
    "\n",
    "#Sin lo siguiente, el código de error porque el tamaño de los vectores de los modelos\n",
    "#es diferente: #InvalidDimensionException: Embedding dimension 384 does not match \n",
    "#collection dimensionality 1024- #Output is truncated. View as a scrollable element or open in a text editor. \n",
    "\n",
    "\n",
    "cohere_embedding_query = get_embeddings(['This is a query document about animals'])\n",
    "\n",
    "results = collection.query(\n",
    "    query_embeddings= cohere_embedding_query, # Chroma will embed this for you\n",
    "    n_results=2 # how many results to return\n",
    ")\n",
    "print(results)"
   ]
  },
  {
   "cell_type": "code",
   "execution_count": 63,
   "id": "5f78a810-9d4c-4c79-b94e-1d8f8afcd139",
   "metadata": {},
   "outputs": [
    {
     "name": "stdout",
     "output_type": "stream",
     "text": [
      "{\n",
      "  \"ids\": [\n",
      "    [\n",
      "      \"id3\",\n",
      "      \"id1\"\n",
      "    ]\n",
      "  ],\n",
      "  \"embeddings\": null,\n",
      "  \"documents\": [\n",
      "    [\n",
      "      \"This is a document about dogs\",\n",
      "      \"This is a document about pineapple\"\n",
      "    ]\n",
      "  ],\n",
      "  \"uris\": null,\n",
      "  \"data\": null,\n",
      "  \"metadatas\": [\n",
      "    [\n",
      "      null,\n",
      "      null\n",
      "    ]\n",
      "  ],\n",
      "  \"distances\": [\n",
      "    [\n",
      "      0.29931527376174927,\n",
      "      0.7999714612960815\n",
      "    ]\n",
      "  ],\n",
      "  \"included\": [\n",
      "    \"distances\",\n",
      "    \"documents\",\n",
      "    \"metadatas\"\n",
      "  ]\n",
      "}\n"
     ]
    }
   ],
   "source": [
    "print(json.dumps(results, indent=2))"
   ]
  },
  {
   "cell_type": "code",
   "execution_count": null,
   "id": "b09f7b74-d233-4d2b-abbd-edcec6e87e13",
   "metadata": {},
   "outputs": [],
   "source": [
    "#Another option..\n",
    "#Cargar la base de datos con modelos de embeddings ajenos a chroma"
   ]
  },
  {
   "cell_type": "code",
   "execution_count": 66,
   "id": "1fde9d8d-37c1-4938-8973-a08c5ff83f95",
   "metadata": {},
   "outputs": [],
   "source": [
    "from chromadb import Documents, EmbeddingFunction, Embeddings"
   ]
  },
  {
   "cell_type": "code",
   "execution_count": 67,
   "id": "84ff926d-2d52-4f05-abd5-6c636d2b85b7",
   "metadata": {},
   "outputs": [],
   "source": [
    "#Definición de la función para obtener embeddings de Cohere"
   ]
  },
  {
   "cell_type": "code",
   "execution_count": 68,
   "id": "38359709-8cbb-41d1-ac30-0603d505181d",
   "metadata": {},
   "outputs": [],
   "source": [
    "def get_embeddings(textos):\n",
    "    response = co.embed(\n",
    "        texts=textos,\n",
    "        model=\"embed-multilingual-v3.0\",\n",
    "        input_type=\"search_document\",\n",
    "        embedding_types=[\"float\"],\n",
    "    )\n",
    "    return response.embeddings.float_  # Cohere devuelve embeddings como una lista de listas\n",
    "\n",
    "    \n",
    "# Crear la clase personalizada de EmbeddingFunction para ChromaDB\n",
    "class MyEmbeddingFunction(EmbeddingFunction):\n",
    "    def __call__(self, input: Documents) -> Embeddings:\n",
    "        # Llama a la función de Cohere para obtener las embeddings\n",
    "        return get_embeddings(input)  # input es una lista de textos"
   ]
  },
  {
   "cell_type": "code",
   "execution_count": 69,
   "id": "da377a1e-0735-48db-95f2-4ce952e9ebfe",
   "metadata": {},
   "outputs": [
    {
     "name": "stdout",
     "output_type": "stream",
     "text": [
      "{\n",
      "  \"ids\": [\n",
      "    [\n",
      "      \"id1\",\n",
      "      \"id3\"\n",
      "    ]\n",
      "  ],\n",
      "  \"embeddings\": null,\n",
      "  \"documents\": [\n",
      "    [\n",
      "      \"This is a document about pineapple\",\n",
      "      \"This is a document about dogs\"\n",
      "    ]\n",
      "  ],\n",
      "  \"uris\": null,\n",
      "  \"data\": null,\n",
      "  \"metadatas\": [\n",
      "    [\n",
      "      null,\n",
      "      null\n",
      "    ]\n",
      "  ],\n",
      "  \"distances\": [\n",
      "    [\n",
      "      0.33927154541015625,\n",
      "      0.3964487910270691\n",
      "    ]\n",
      "  ],\n",
      "  \"included\": [\n",
      "    \"distances\",\n",
      "    \"documents\",\n",
      "    \"metadatas\"\n",
      "  ]\n",
      "}\n"
     ]
    }
   ],
   "source": [
    "#Crear una instancia del cliente de ChromaDB \n",
    "\n",
    "client= chromadb.Client()\n",
    "\n",
    "collection = client.create_collection(name=\"mi_coleccion\",\n",
    "                                      embedding_function=MyEmbeddingFunction(),\n",
    "                                       metadata={\"hnsw:space\": \"ip\"}\n",
    "                                     )\n",
    "\n",
    "# Cargar la data en la base\n",
    "\n",
    "collection.add(\n",
    "    documents=[\n",
    "        \"This is a document about pineapple\",\n",
    "        \"This is a document about oranges\",\n",
    "        \"This is a document about dogs\"\n",
    "\n",
    "    ],\n",
    "    ids=[\"id1\", \"id2\", \"id3\"]\n",
    ")\n",
    "\n",
    "# Consultar sobre la base\n",
    "\n",
    "results = collection.query(\n",
    "    query_texts=[\"This is a query document about hawaii\"], # Chroma will embed this for you\n",
    "    n_results=2 # how many results to return\n",
    ")\n",
    "print(json.dumps(results, indent=2))"
   ]
  },
  {
   "cell_type": "code",
   "execution_count": null,
   "id": "077ed834-7017-49da-9c09-7bf32ce8ca2b",
   "metadata": {},
   "outputs": [],
   "source": []
  }
 ],
 "metadata": {
  "kernelspec": {
   "display_name": "Python 3 (ipykernel)",
   "language": "python",
   "name": "python3"
  },
  "language_info": {
   "codemirror_mode": {
    "name": "ipython",
    "version": 3
   },
   "file_extension": ".py",
   "mimetype": "text/x-python",
   "name": "python",
   "nbconvert_exporter": "python",
   "pygments_lexer": "ipython3",
   "version": "3.12.7"
  }
 },
 "nbformat": 4,
 "nbformat_minor": 5
}
